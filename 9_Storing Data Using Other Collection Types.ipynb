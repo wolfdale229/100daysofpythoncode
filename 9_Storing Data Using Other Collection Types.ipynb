{
 "cells": [
  {
   "cell_type": "markdown",
   "metadata": {},
   "source": [
    "# Storing Data Using Other Collection Types"
   ]
  },
  {
   "cell_type": "markdown",
   "metadata": {
    "heading_collapsed": true
   },
   "source": [
    "## Storing using set"
   ]
  },
  {
   "cell_type": "code",
   "execution_count": 1,
   "metadata": {
    "hidden": true
   },
   "outputs": [
    {
     "data": {
      "text/plain": [
       "{'a', 'e', 'i', 'o', 'u'}"
      ]
     },
     "execution_count": 1,
     "metadata": {},
     "output_type": "execute_result"
    }
   ],
   "source": [
    "vowels = {'a', 'e', 'i', 'o', 'u'}\n",
    "vowels"
   ]
  },
  {
   "cell_type": "code",
   "execution_count": 2,
   "metadata": {
    "hidden": true
   },
   "outputs": [
    {
     "data": {
      "text/plain": [
       "{'a', 'e', 'i', 'o', 'u'}"
      ]
     },
     "execution_count": 2,
     "metadata": {},
     "output_type": "execute_result"
    }
   ],
   "source": [
    "vowels = {'a', 'e', 'a', 'a', 'i', 'o', 'u', 'u'}\n",
    "vowels"
   ]
  },
  {
   "cell_type": "code",
   "execution_count": 3,
   "metadata": {
    "hidden": true
   },
   "outputs": [
    {
     "data": {
      "text/plain": [
       "True"
      ]
     },
     "execution_count": 3,
     "metadata": {},
     "output_type": "execute_result"
    }
   ],
   "source": [
    "{'a', 'e', 'i', 'o', 'u'} ==vowels"
   ]
  },
  {
   "cell_type": "code",
   "execution_count": 4,
   "metadata": {
    "hidden": true
   },
   "outputs": [
    {
     "data": {
      "text/plain": [
       "set"
      ]
     },
     "execution_count": 4,
     "metadata": {},
     "output_type": "execute_result"
    }
   ],
   "source": [
    "type(vowels)"
   ]
  },
  {
   "cell_type": "code",
   "execution_count": 5,
   "metadata": {
    "hidden": true
   },
   "outputs": [
    {
     "data": {
      "text/plain": [
       "set"
      ]
     },
     "execution_count": 5,
     "metadata": {},
     "output_type": "execute_result"
    }
   ],
   "source": [
    "type({1, 2, 3, 4})"
   ]
  },
  {
   "cell_type": "code",
   "execution_count": 6,
   "metadata": {
    "hidden": true
   },
   "outputs": [
    {
     "data": {
      "text/plain": [
       "set"
      ]
     },
     "execution_count": 6,
     "metadata": {},
     "output_type": "execute_result"
    }
   ],
   "source": [
    "set() # empty set\n",
    "type(set())"
   ]
  },
  {
   "cell_type": "code",
   "execution_count": 7,
   "metadata": {
    "hidden": true
   },
   "outputs": [
    {
     "data": {
      "text/plain": [
       "{2, 3, 5, 6}"
      ]
     },
     "execution_count": 7,
     "metadata": {},
     "output_type": "execute_result"
    }
   ],
   "source": [
    "set([2, 2, 3, 5, 6, 5])"
   ]
  },
  {
   "cell_type": "code",
   "execution_count": 8,
   "metadata": {
    "hidden": true
   },
   "outputs": [
    {
     "data": {
      "text/plain": [
       "{0, 1, 2, 3, 4}"
      ]
     },
     "execution_count": 8,
     "metadata": {},
     "output_type": "execute_result"
    }
   ],
   "source": [
    "set(range(5))"
   ]
  },
  {
   "cell_type": "code",
   "execution_count": 9,
   "metadata": {
    "hidden": true
   },
   "outputs": [
    {
     "data": {
      "text/plain": [
       "{'a', 'e', 'i', 'o', 'u'}"
      ]
     },
     "execution_count": 9,
     "metadata": {},
     "output_type": "execute_result"
    }
   ],
   "source": [
    "vowels"
   ]
  },
  {
   "cell_type": "code",
   "execution_count": 10,
   "metadata": {
    "hidden": true
   },
   "outputs": [
    {
     "data": {
      "text/plain": [
       "{'a', 'e', 'i', 'o', 'u', 'y'}"
      ]
     },
     "execution_count": 10,
     "metadata": {},
     "output_type": "execute_result"
    }
   ],
   "source": [
    "vowels.add('y')\n",
    "vowels"
   ]
  },
  {
   "cell_type": "code",
   "execution_count": 11,
   "metadata": {
    "hidden": true
   },
   "outputs": [],
   "source": [
    "ten = set(range(10))\n",
    "low = {0, 1, 2, 3, 4}\n",
    "odd = {1, 4, 5, 7, 9}"
   ]
  },
  {
   "cell_type": "code",
   "execution_count": 12,
   "metadata": {
    "hidden": true
   },
   "outputs": [
    {
     "data": {
      "text/plain": [
       "{0, 1, 2, 3, 4, 9}"
      ]
     },
     "execution_count": 12,
     "metadata": {},
     "output_type": "execute_result"
    }
   ],
   "source": [
    "low.add(9)\n",
    "low"
   ]
  },
  {
   "cell_type": "code",
   "execution_count": 13,
   "metadata": {
    "hidden": true
   },
   "outputs": [
    {
     "data": {
      "text/plain": [
       "{0, 1, 2, 3, 4, 5, 6, 7, 8, 9}"
      ]
     },
     "execution_count": 13,
     "metadata": {},
     "output_type": "execute_result"
    }
   ],
   "source": [
    "ten"
   ]
  },
  {
   "cell_type": "code",
   "execution_count": 14,
   "metadata": {
    "hidden": true
   },
   "outputs": [
    {
     "data": {
      "text/plain": [
       "{0, 2, 3}"
      ]
     },
     "execution_count": 14,
     "metadata": {},
     "output_type": "execute_result"
    }
   ],
   "source": [
    "low.difference(odd)"
   ]
  },
  {
   "cell_type": "code",
   "execution_count": 15,
   "metadata": {
    "hidden": true
   },
   "outputs": [
    {
     "data": {
      "text/plain": [
       "{1, 4, 9}"
      ]
     },
     "execution_count": 15,
     "metadata": {},
     "output_type": "execute_result"
    }
   ],
   "source": [
    "low.intersection(odd)"
   ]
  },
  {
   "cell_type": "code",
   "execution_count": 16,
   "metadata": {
    "hidden": true
   },
   "outputs": [
    {
     "data": {
      "text/plain": [
       "True"
      ]
     },
     "execution_count": 16,
     "metadata": {},
     "output_type": "execute_result"
    }
   ],
   "source": [
    "low.issubset(ten)"
   ]
  },
  {
   "cell_type": "code",
   "execution_count": 17,
   "metadata": {
    "hidden": true
   },
   "outputs": [
    {
     "data": {
      "text/plain": [
       "True"
      ]
     },
     "execution_count": 17,
     "metadata": {},
     "output_type": "execute_result"
    }
   ],
   "source": [
    "ten.issuperset(low)"
   ]
  },
  {
   "cell_type": "code",
   "execution_count": 18,
   "metadata": {
    "hidden": true
   },
   "outputs": [
    {
     "data": {
      "text/plain": [
       "{1, 2, 3, 4, 9}"
      ]
     },
     "execution_count": 18,
     "metadata": {},
     "output_type": "execute_result"
    }
   ],
   "source": [
    "low.remove(0)\n",
    "low"
   ]
  },
  {
   "cell_type": "code",
   "execution_count": 19,
   "metadata": {
    "hidden": true
   },
   "outputs": [
    {
     "data": {
      "text/plain": [
       "{2, 3, 5, 7}"
      ]
     },
     "execution_count": 19,
     "metadata": {},
     "output_type": "execute_result"
    }
   ],
   "source": [
    "low.symmetric_difference(odd)"
   ]
  },
  {
   "cell_type": "code",
   "execution_count": 20,
   "metadata": {
    "hidden": true
   },
   "outputs": [
    {
     "data": {
      "text/plain": [
       "{1, 2, 3, 4, 5, 7, 9}"
      ]
     },
     "execution_count": 20,
     "metadata": {},
     "output_type": "execute_result"
    }
   ],
   "source": [
    "low.union(odd)"
   ]
  },
  {
   "cell_type": "code",
   "execution_count": 21,
   "metadata": {
    "hidden": true
   },
   "outputs": [],
   "source": [
    "low.clear()"
   ]
  },
  {
   "cell_type": "code",
   "execution_count": 22,
   "metadata": {
    "hidden": true
   },
   "outputs": [
    {
     "name": "stdout",
     "output_type": "stream",
     "text": [
      "{'long-tailed jaeger', 'northern fulmar', 'snow goose', 'canada goose'}\n"
     ]
    }
   ],
   "source": [
    "from typing import Set, TextIO\n",
    "from io import StringIO\n",
    "\n",
    "def observation_birds(file_name:TextIO)-> Set[str]:\n",
    "    \"\"\" Read a file and return it's content as a set\n",
    "   \n",
    "    >>> infile = StringIO('bird 1\\\\nbird 2\\\\nbird 1\\\\n ')\n",
    "    >>> birds = observation_birds(infile)\n",
    "    >>> 'bird 1' in birds\n",
    "    True\n",
    "    >>> 'bird 2' in birds\n",
    "    True\n",
    "    >>> 'bird 4' in birds\n",
    "    False\n",
    "    >>> len(birds) != 2\n",
    "    True\n",
    "    \"\"\"\n",
    "    birds = set()\n",
    "    for line in file_name:\n",
    "        bird = line.strip()\n",
    "        birds.add(bird)\n",
    "    return birds\n",
    "    \n",
    "if __name__ == '__main__':\n",
    "    from doctest import testmod\n",
    "    testmod()\n",
    "    with open('files/observations.txt', 'r') as file:\n",
    "        print(observation_birds(file))"
   ]
  },
  {
   "cell_type": "markdown",
   "metadata": {
    "heading_collapsed": true
   },
   "source": [
    "## Storing using tuples"
   ]
  },
  {
   "cell_type": "code",
   "execution_count": 23,
   "metadata": {
    "hidden": true
   },
   "outputs": [
    {
     "data": {
      "text/plain": [
       "'e'"
      ]
     },
     "execution_count": 23,
     "metadata": {},
     "output_type": "execute_result"
    }
   ],
   "source": [
    "rock = 'anthracite'\n",
    "rock[9]"
   ]
  },
  {
   "cell_type": "code",
   "execution_count": 24,
   "metadata": {
    "hidden": true
   },
   "outputs": [
    {
     "data": {
      "text/plain": [
       "'ant'"
      ]
     },
     "execution_count": 24,
     "metadata": {},
     "output_type": "execute_result"
    }
   ],
   "source": [
    "rock[0:3]"
   ]
  },
  {
   "cell_type": "code",
   "execution_count": 25,
   "metadata": {
    "hidden": true
   },
   "outputs": [
    {
     "data": {
      "text/plain": [
       "'anthr'"
      ]
     },
     "execution_count": 25,
     "metadata": {},
     "output_type": "execute_result"
    }
   ],
   "source": [
    "rock[:-5]"
   ]
  },
  {
   "cell_type": "code",
   "execution_count": 26,
   "metadata": {
    "hidden": true
   },
   "outputs": [
    {
     "data": {
      "text/plain": [
       "'acite'"
      ]
     },
     "execution_count": 26,
     "metadata": {},
     "output_type": "execute_result"
    }
   ],
   "source": [
    "rock[-5:]"
   ]
  },
  {
   "cell_type": "code",
   "execution_count": 27,
   "metadata": {
    "hidden": true
   },
   "outputs": [
    {
     "name": "stdout",
     "output_type": "stream",
     "text": [
      "a\n",
      "n\n",
      "t\n",
      "h\n",
      "r\n",
      "a\n",
      "c\n",
      "i\n",
      "t\n",
      "e\n"
     ]
    }
   ],
   "source": [
    "for character in rock:\n",
    "    print(character)"
   ]
  },
  {
   "cell_type": "code",
   "execution_count": 28,
   "metadata": {
    "hidden": true
   },
   "outputs": [
    {
     "name": "stdout",
     "output_type": "stream",
     "text": [
      "A\n",
      "C\n",
      "G\n",
      "T\n"
     ]
    }
   ],
   "source": [
    "bases = ('A', 'C', 'G', 'T')\n",
    "for base in bases:\n",
    "    print(base)"
   ]
  },
  {
   "cell_type": "code",
   "execution_count": 29,
   "metadata": {
    "hidden": true
   },
   "outputs": [
    {
     "data": {
      "text/plain": [
       "(['Canada', 76.5], ['United States', 75.5], ['Mexico', 72.0])"
      ]
     },
     "execution_count": 29,
     "metadata": {},
     "output_type": "execute_result"
    }
   ],
   "source": [
    "life = (['Canada', 76.5], ['United States', 75.5], ['Mexico', 72.0])\n",
    "life"
   ]
  },
  {
   "cell_type": "markdown",
   "metadata": {
    "heading_collapsed": true
   },
   "source": [
    "## Storing using dictionary"
   ]
  },
  {
   "cell_type": "code",
   "execution_count": 30,
   "metadata": {
    "hidden": true
   },
   "outputs": [
    {
     "name": "stdout",
     "output_type": "stream",
     "text": [
      "canada goose 5\n",
      "long-tailed jaeger 2\n",
      "snow goose 1\n",
      "northern fulmar 1\n"
     ]
    }
   ],
   "source": [
    "# bird observation using a list\n",
    "from typing import List, Any, TextIO, Dict\n",
    "from io import StringIO\n",
    "def count_bird(observation_file:TextIO)->List[List[Any]]:\n",
    "    \"\"\"Return a set of the bird species listed in observations_file, which has one bird species per line.\n",
    "    \n",
    "    >>> infile = StringIO('bird 1\\\\nbird 2\\\\nbird 1\\\\n')\n",
    "    >>> count_bird(infile)\n",
    "    [['bird 1', 2], ['bird 2', 1]]\n",
    "    \"\"\"\n",
    "    bird_counts = []\n",
    "    for line in observation_file:\n",
    "        bird = line.strip()\n",
    "        found = False\n",
    "        for entry in bird_counts:\n",
    "            if entry[0] == bird:\n",
    "                entry[1] += 1\n",
    "                found = True\n",
    "        if not found :\n",
    "            bird_counts.append([bird, 1])\n",
    "    return bird_counts\n",
    "\n",
    "if __name__ == '__main__':\n",
    "    with open('files/observations.txt', 'r') as file:\n",
    "        for bird in count_bird(file):\n",
    "            print(bird[0], bird[1])\n",
    "        testmod()"
   ]
  },
  {
   "cell_type": "code",
   "execution_count": 31,
   "metadata": {
    "hidden": true
   },
   "outputs": [
    {
     "data": {
      "text/plain": [
       "{'canada goose': 3, 'northern fulmar': 1}"
      ]
     },
     "execution_count": 31,
     "metadata": {},
     "output_type": "execute_result"
    }
   ],
   "source": [
    "bird_to_observations = {'canada goose' : 3,  'northern fulmar':1}\n",
    "bird_to_observations"
   ]
  },
  {
   "cell_type": "code",
   "execution_count": 32,
   "metadata": {
    "hidden": true
   },
   "outputs": [
    {
     "data": {
      "text/plain": [
       "1"
      ]
     },
     "execution_count": 32,
     "metadata": {},
     "output_type": "execute_result"
    }
   ],
   "source": [
    "bird_to_observations['northern fulmar']"
   ]
  },
  {
   "cell_type": "code",
   "execution_count": 33,
   "metadata": {
    "hidden": true
   },
   "outputs": [
    {
     "data": {
      "text/plain": [
       "{'eagle': 999, 'snow goose': 33}"
      ]
     },
     "execution_count": 33,
     "metadata": {},
     "output_type": "execute_result"
    }
   ],
   "source": [
    "bird_to_observations = {}\n",
    "bird_to_observations['eagle'] = 999\n",
    "bird_to_observations['snow goose'] = 33\n",
    "bird_to_observations"
   ]
  },
  {
   "cell_type": "code",
   "execution_count": 34,
   "metadata": {
    "hidden": true
   },
   "outputs": [
    {
     "data": {
      "text/plain": [
       "{'eagle': 9, 'snow goose': 33}"
      ]
     },
     "execution_count": 34,
     "metadata": {},
     "output_type": "execute_result"
    }
   ],
   "source": [
    "bird_to_observations['eagle'] = 9\n",
    "bird_to_observations"
   ]
  },
  {
   "cell_type": "code",
   "execution_count": 35,
   "metadata": {
    "hidden": true
   },
   "outputs": [
    {
     "data": {
      "text/plain": [
       "{'eagle': 9}"
      ]
     },
     "execution_count": 35,
     "metadata": {},
     "output_type": "execute_result"
    }
   ],
   "source": [
    "del bird_to_observations['snow goose']\n",
    "bird_to_observations"
   ]
  },
  {
   "cell_type": "code",
   "execution_count": 36,
   "metadata": {
    "hidden": true
   },
   "outputs": [],
   "source": [
    "bird_to_observations['snow goose'] = 9"
   ]
  },
  {
   "cell_type": "code",
   "execution_count": 37,
   "metadata": {
    "hidden": true
   },
   "outputs": [
    {
     "data": {
      "text/plain": [
       "True"
      ]
     },
     "execution_count": 37,
     "metadata": {},
     "output_type": "execute_result"
    }
   ],
   "source": [
    "'snow goose' in bird_to_observations"
   ]
  },
  {
   "cell_type": "code",
   "execution_count": 38,
   "metadata": {
    "hidden": true
   },
   "outputs": [
    {
     "name": "stdout",
     "output_type": "stream",
     "text": [
      "Eagles have been seen\n"
     ]
    }
   ],
   "source": [
    "if 'eagle' in bird_to_observations:\n",
    "    print('Eagles have been seen')"
   ]
  },
  {
   "cell_type": "code",
   "execution_count": 39,
   "metadata": {
    "hidden": true
   },
   "outputs": [
    {
     "name": "stdout",
     "output_type": "stream",
     "text": [
      "canada goose 183\n",
      "long-tailed jaeger 71\n",
      "snow goose 63\n",
      "northern fulmar 1\n"
     ]
    }
   ],
   "source": [
    "bird_to_observations = {'canada goose': 183, 'long-tailed jaeger': 71,\n",
    "                        'snow goose': 63, 'northern fulmar': 1}\n",
    "for bird in bird_to_observations:\n",
    "    print(bird, bird_to_observations[bird])"
   ]
  },
  {
   "cell_type": "code",
   "execution_count": 40,
   "metadata": {
    "hidden": true
   },
   "outputs": [
    {
     "data": {
      "text/plain": [
       "dict_keys(['Newton', 'Darwin', 'Turing'])"
      ]
     },
     "execution_count": 40,
     "metadata": {},
     "output_type": "execute_result"
    }
   ],
   "source": [
    "scientist_to_birthdate = {'Newton' : 1642, 'Darwin' : 1809,'Turing' : 1912}\n",
    "scientist_to_birthdate.keys()"
   ]
  },
  {
   "cell_type": "code",
   "execution_count": 41,
   "metadata": {
    "hidden": true
   },
   "outputs": [
    {
     "data": {
      "text/plain": [
       "dict_values([1642, 1809, 1912])"
      ]
     },
     "execution_count": 41,
     "metadata": {},
     "output_type": "execute_result"
    }
   ],
   "source": [
    "scientist_to_birthdate.values()"
   ]
  },
  {
   "cell_type": "code",
   "execution_count": 42,
   "metadata": {
    "hidden": true
   },
   "outputs": [
    {
     "data": {
      "text/plain": [
       "dict_items([('Newton', 1642), ('Darwin', 1809), ('Turing', 1912)])"
      ]
     },
     "execution_count": 42,
     "metadata": {},
     "output_type": "execute_result"
    }
   ],
   "source": [
    "scientist_to_birthdate.items()"
   ]
  },
  {
   "cell_type": "code",
   "execution_count": 43,
   "metadata": {
    "hidden": true
   },
   "outputs": [
    {
     "data": {
      "text/plain": [
       "1642"
      ]
     },
     "execution_count": 43,
     "metadata": {},
     "output_type": "execute_result"
    }
   ],
   "source": [
    "scientist_to_birthdate.get('Newton')"
   ]
  },
  {
   "cell_type": "code",
   "execution_count": 44,
   "metadata": {
    "hidden": true
   },
   "outputs": [
    {
     "data": {
      "text/plain": [
       "1867"
      ]
     },
     "execution_count": 44,
     "metadata": {},
     "output_type": "execute_result"
    }
   ],
   "source": [
    "scientist_to_birthdate.get('Curie', 1867)"
   ]
  },
  {
   "cell_type": "code",
   "execution_count": 45,
   "metadata": {
    "hidden": true
   },
   "outputs": [
    {
     "data": {
      "text/plain": [
       "{'Curie': 1867, 'Hopper': 1906, 'Franklin': 1920}"
      ]
     },
     "execution_count": 45,
     "metadata": {},
     "output_type": "execute_result"
    }
   ],
   "source": [
    "researcher_to_birthdate = {'Curie' : 1867, 'Hopper' : 1906, 'Franklin' : 1920}\n",
    "researcher_to_birthdate"
   ]
  },
  {
   "cell_type": "code",
   "execution_count": 46,
   "metadata": {
    "hidden": true
   },
   "outputs": [
    {
     "data": {
      "text/plain": [
       "{'Newton': 1642,\n",
       " 'Darwin': 1809,\n",
       " 'Turing': 1912,\n",
       " 'Curie': 1867,\n",
       " 'Hopper': 1906,\n",
       " 'Franklin': 1920}"
      ]
     },
     "execution_count": 46,
     "metadata": {},
     "output_type": "execute_result"
    }
   ],
   "source": [
    "scientist_to_birthdate.update(researcher_to_birthdate)\n",
    "scientist_to_birthdate"
   ]
  },
  {
   "cell_type": "code",
   "execution_count": 47,
   "metadata": {
    "hidden": true
   },
   "outputs": [
    {
     "data": {
      "text/plain": [
       "{'Curie': 1867, 'Hopper': 1906, 'Franklin': 1920}"
      ]
     },
     "execution_count": 47,
     "metadata": {},
     "output_type": "execute_result"
    }
   ],
   "source": [
    "researcher_to_birthdate"
   ]
  },
  {
   "cell_type": "code",
   "execution_count": 48,
   "metadata": {
    "hidden": true
   },
   "outputs": [],
   "source": [
    "researcher_to_birthdate.clear()"
   ]
  },
  {
   "cell_type": "code",
   "execution_count": 49,
   "metadata": {
    "hidden": true
   },
   "outputs": [
    {
     "data": {
      "text/plain": [
       "{}"
      ]
     },
     "execution_count": 49,
     "metadata": {},
     "output_type": "execute_result"
    }
   ],
   "source": [
    "researcher_to_birthdate"
   ]
  },
  {
   "cell_type": "code",
   "execution_count": 50,
   "metadata": {
    "hidden": true
   },
   "outputs": [
    {
     "name": "stdout",
     "output_type": "stream",
     "text": [
      "canada goose 5\n",
      "long-tailed jaeger 2\n",
      "snow goose 1\n",
      "northern fulmar 1\n"
     ]
    }
   ],
   "source": [
    "# bird observation using a dictionary\n",
    "def count_birds(observation_file:TextIO)-> Dict[str, int]:\n",
    "    \"\"\"Return a set of the bird species listed in observations_file, which has one bird species per line.\n",
    "    \n",
    "    >>> infile = StringIO('bird 1\\\\nbird 2\\\\nbird 1\\\\n')\n",
    "    >>> count_birds(infile)\n",
    "    {'bird 1': 2, 'bird 2': 1}\n",
    "    \"\"\"\n",
    "    \n",
    "    bird_to_observations = {}\n",
    "    \n",
    "    for line in observation_file:\n",
    "        bird = line.strip()\n",
    "        if bird in bird_to_observations:\n",
    "            bird_to_observations[bird] += 1\n",
    "        else:\n",
    "            bird_to_observations[bird] = 1\n",
    "    return bird_to_observations\n",
    "\n",
    "if __name__ == '__main__':\n",
    "    with open('files/observations.txt', 'r') as file:\n",
    "        bird_to_observations = count_birds(file)\n",
    "        for bird, observations in bird_to_observations.items():\n",
    "            print(bird, observations)\n",
    "        testmod()"
   ]
  },
  {
   "cell_type": "code",
   "execution_count": 51,
   "metadata": {
    "hidden": true
   },
   "outputs": [
    {
     "data": {
      "text/plain": [
       "{5: ['canada goose'],\n",
       " 2: ['long-tailed jaeger'],\n",
       " 1: ['snow goose', 'northern fulmar']}"
      ]
     },
     "execution_count": 51,
     "metadata": {},
     "output_type": "execute_result"
    }
   ],
   "source": [
    "observation_to_birds = {}\n",
    "for bird, observation in bird_to_observations.items():\n",
    "    if observation in observation_to_birds:\n",
    "        observation_to_birds[observation].append(bird)\n",
    "    else:\n",
    "        observation_to_birds[observation] = [bird]\n",
    "observation_to_birds"
   ]
  },
  {
   "cell_type": "code",
   "execution_count": 52,
   "metadata": {
    "hidden": true
   },
   "outputs": [
    {
     "name": "stdout",
     "output_type": "stream",
     "text": [
      "1 : snow goose northern fulmar \n",
      "2 : long-tailed jaeger \n",
      "5 : canada goose \n"
     ]
    }
   ],
   "source": [
    "for key in sorted(observation_to_birds.keys()):\n",
    "    print(key, ':', end=' ')\n",
    "    for value in observation_to_birds[key]:\n",
    "        print(value, end=' ')\n",
    "    print()"
   ]
  },
  {
   "cell_type": "code",
   "execution_count": 53,
   "metadata": {
    "hidden": true
   },
   "outputs": [
    {
     "data": {
      "text/plain": [
       "True"
      ]
     },
     "execution_count": 53,
     "metadata": {},
     "output_type": "execute_result"
    }
   ],
   "source": [
    "'snow goose' in bird_to_observations"
   ]
  },
  {
   "cell_type": "markdown",
   "metadata": {},
   "source": [
    "## Exercises"
   ]
  },
  {
   "cell_type": "markdown",
   "metadata": {},
   "source": [
    "**Exercise 1**\n",
    "\n",
    "Write a function called find_dups that takes a list of integers as its input \n",
    "argument and returns a set of those integers occurring two or more times in the list."
   ]
  },
  {
   "cell_type": "code",
   "execution_count": 61,
   "metadata": {},
   "outputs": [
    {
     "name": "stdout",
     "output_type": "stream",
     "text": [
      "{0, 1, 2, 6, 9}\n"
     ]
    },
    {
     "data": {
      "text/plain": [
       "TestResults(failed=0, attempted=12)"
      ]
     },
     "execution_count": 61,
     "metadata": {},
     "output_type": "execute_result"
    }
   ],
   "source": [
    "def find_dups(list_of_integers:list)-> Set:\n",
    "    \"\"\"Returns a set of numbers that appears more than once in a list of numbers\n",
    "    \n",
    "    >>> find_dups([1, 2, 1, 2, 3, 4, 6])\n",
    "    {1, 2}\n",
    "    >>> find_dups([1,2,3,4])\n",
    "    set()\n",
    "    \"\"\"\n",
    "    list_set = set()\n",
    "    dup_set = set()\n",
    "    for number in list_of_integers:\n",
    "        len_initial = len(list_set)\n",
    "        list_set.add(number)\n",
    "        len_after = len(list_set)\n",
    "        if len_initial == len_after:\n",
    "            dup_set.add(number)\n",
    "    return dup_set\n",
    "\n",
    "list_of_integers = [1, 2, 1, 2, 3, 4, 6, 9, 9, 0, 0, 8, 6, 6, 9]\n",
    "print(find_dups(list_of_integers))\n",
    "testmod()"
   ]
  },
  {
   "cell_type": "markdown",
   "metadata": {},
   "source": [
    "**Exercise 3**\n",
    "\n",
    "Python’s set objects have a method called pop that removes and returns an\n",
    "arbitrary element from the set. If the set gerbils contains five cuddly little ani-\n",
    "mals, for example, calling gerbils.pop() five times will return those animals one\n",
    "by one, leaving the set empty at the end. Use this to write a function called\n",
    "mating_pairs that takes two equal-sized sets called males and females as input and\n",
    "returns a set of pairs; each pair must be a tuple containing one male and one\n",
    "female. (The elements of males and females may be strings containing gerbil\n",
    "names or gerbil ID numbers—your function must work with both.)"
   ]
  },
  {
   "cell_type": "code",
   "execution_count": 220,
   "metadata": {},
   "outputs": [
    {
     "name": "stdout",
     "output_type": "stream",
     "text": [
      "{('cat', 'shark'), ('lion', 'tiger'), ('dog', 'hen')}\n"
     ]
    },
    {
     "data": {
      "text/plain": [
       "TestResults(failed=0, attempted=14)"
      ]
     },
     "execution_count": 220,
     "metadata": {},
     "output_type": "execute_result"
    }
   ],
   "source": [
    "def mating_pairs(males:set, females:set)-> set :\n",
    "    \"\"\" Takes two sets (males, females) of equal sizes as input values and returns a set of tuple; where each tuple\n",
    "    contains one male and female value. if an empty set in passed it returns an empty set.\n",
    "    \n",
    "    >>> mating_pairs({'cat', 'dog', 'lion'}, {'tiger', 'hen', 'shark'})\n",
    "    {('cat', 'shark'), ('lion', 'tiger'), ('dog', 'hen')}\n",
    "    >>> mating_pairs(set(), set())\n",
    "    set()\n",
    "    \"\"\"\n",
    "    mating_set = set()\n",
    "    for entry in range(len(males)):\n",
    "        male, female = males.pop(), females.pop()\n",
    "        mating_set.add((male, female))\n",
    "    return mating_set    \n",
    "\n",
    "print(mating_pairs({'cat', 'dog', 'lion'}, {'tiger', 'hen', 'shark'}))\n",
    "testmod()"
   ]
  },
  {
   "cell_type": "markdown",
   "metadata": {},
   "source": [
    "**Exercise 4**\n",
    "\n",
    "The PDB file format is often used to store information about molecules. A\n",
    "PDB file may contain zero or more lines that begin with the word AUTHOR (which\n",
    "may be in uppercase, lowercase, or mixed case), followed by spaces or tabs,\n",
    "followed by the name of the person who created the file. Write a function that\n",
    "takes a list of filenames as an input argument and returns the set of all author\n",
    "names found in those files."
   ]
  },
  {
   "cell_type": "code",
   "execution_count": 371,
   "metadata": {},
   "outputs": [
    {
     "name": "stdout",
     "output_type": "stream",
     "text": [
      "{'ben, carlson', 'kent, bukky'}\n"
     ]
    }
   ],
   "source": [
    "def author_names(filenames:TextIO)-> set:\n",
    "    \"\"\"Takes in a PDB file and returns all the names of the authors contained in the file\n",
    "    \n",
    "    >>> infile = StringIO('author\\\\n :\\\\n kent,\\\\n andreas,\\\\n ')\n",
    "    >>> author_names(infile)\n",
    "    {'kent, andreas'}\n",
    "    >>> infile = StringIO('author\\\\n :\\\\n kent,\\\\n ')\n",
    "    >>> author_names(infile)\n",
    "    {'kent'}\n",
    "    >>> infile = StringIO('author\\\\n :\\\\n ')\n",
    "    >>> author_names(infile)\n",
    "    set()\n",
    "    \"\"\"\n",
    "    name_set = set()\n",
    "    for names in filenames:\n",
    "        if names.lower().startswith('author'):   \n",
    "            name = names[7:].strip()\n",
    "            name_set.add(name)\n",
    "    return name_set\n",
    "    \n",
    "if __name__ == '__main__':\n",
    "    with open('files/authors.txt', 'r') as filename:\n",
    "        filenames = filename.readlines()\n",
    "        print(author_names(filenames))"
   ]
  },
  {
   "cell_type": "code",
   "execution_count": 337,
   "metadata": {},
   "outputs": [
    {
     "name": "stdout",
     "output_type": "stream",
     "text": [
      "First \n",
      "Second\n",
      "Third \n"
     ]
    }
   ],
   "source": [
    "with open('files/file_example.txt', 'r') as filename:\n",
    "        filename = filename.readlines()\n",
    "        for i in filename:\n",
    "            i = i.strip()\n",
    "            print(i[:6])"
   ]
  },
  {
   "cell_type": "code",
   "execution_count": null,
   "metadata": {},
   "outputs": [],
   "source": []
  },
  {
   "cell_type": "code",
   "execution_count": null,
   "metadata": {},
   "outputs": [],
   "source": []
  },
  {
   "cell_type": "code",
   "execution_count": null,
   "metadata": {},
   "outputs": [],
   "source": []
  },
  {
   "cell_type": "code",
   "execution_count": null,
   "metadata": {},
   "outputs": [],
   "source": []
  },
  {
   "cell_type": "code",
   "execution_count": null,
   "metadata": {},
   "outputs": [],
   "source": []
  },
  {
   "cell_type": "code",
   "execution_count": null,
   "metadata": {},
   "outputs": [],
   "source": []
  },
  {
   "cell_type": "code",
   "execution_count": null,
   "metadata": {},
   "outputs": [],
   "source": []
  },
  {
   "cell_type": "code",
   "execution_count": null,
   "metadata": {},
   "outputs": [],
   "source": []
  },
  {
   "cell_type": "code",
   "execution_count": null,
   "metadata": {},
   "outputs": [],
   "source": []
  },
  {
   "cell_type": "code",
   "execution_count": null,
   "metadata": {},
   "outputs": [],
   "source": []
  },
  {
   "cell_type": "code",
   "execution_count": null,
   "metadata": {},
   "outputs": [],
   "source": []
  },
  {
   "cell_type": "code",
   "execution_count": null,
   "metadata": {},
   "outputs": [],
   "source": []
  },
  {
   "cell_type": "code",
   "execution_count": null,
   "metadata": {},
   "outputs": [],
   "source": []
  },
  {
   "cell_type": "code",
   "execution_count": null,
   "metadata": {},
   "outputs": [],
   "source": []
  },
  {
   "cell_type": "code",
   "execution_count": null,
   "metadata": {},
   "outputs": [],
   "source": []
  },
  {
   "cell_type": "code",
   "execution_count": null,
   "metadata": {},
   "outputs": [],
   "source": []
  },
  {
   "cell_type": "code",
   "execution_count": null,
   "metadata": {},
   "outputs": [],
   "source": []
  },
  {
   "cell_type": "code",
   "execution_count": null,
   "metadata": {},
   "outputs": [],
   "source": []
  }
 ],
 "metadata": {
  "kernelspec": {
   "display_name": "Python 3.7.4 64-bit ('base': conda)",
   "language": "python",
   "name": "python37464bitbaseconda02803511e82243628460d84236bfc9e6"
  },
  "language_info": {
   "codemirror_mode": {
    "name": "ipython",
    "version": 3
   },
   "file_extension": ".py",
   "mimetype": "text/x-python",
   "name": "python",
   "nbconvert_exporter": "python",
   "pygments_lexer": "ipython3",
   "version": "3.7.6"
  },
  "toc": {
   "base_numbering": 1,
   "nav_menu": {
    "height": "90px",
    "width": "291px"
   },
   "number_sections": true,
   "sideBar": true,
   "skip_h1_title": false,
   "title_cell": "Table of Contents",
   "title_sidebar": "Contents",
   "toc_cell": false,
   "toc_position": {},
   "toc_section_display": true,
   "toc_window_display": false
  }
 },
 "nbformat": 4,
 "nbformat_minor": 4
}
