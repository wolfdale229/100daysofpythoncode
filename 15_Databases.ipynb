{
 "cells": [
  {
   "cell_type": "markdown",
   "metadata": {},
   "source": [
    "# Databases 2020-08-26"
   ]
  },
  {
   "cell_type": "code",
   "execution_count": 1,
   "metadata": {},
   "outputs": [],
   "source": [
    "import sqlite3 as sql # import module\n",
    "\n",
    "# make a connection to the database file\n",
    "conn = sql.connect('population.db')\n",
    "\n",
    "# create a cursor\n",
    "cur = conn.cursor()"
   ]
  },
  {
   "cell_type": "code",
   "execution_count": 2,
   "metadata": {},
   "outputs": [
    {
     "data": {
      "text/plain": [
       "<sqlite3.Cursor at 0x7f7c8203ec00>"
      ]
     },
     "execution_count": 2,
     "metadata": {},
     "output_type": "execute_result"
    }
   ],
   "source": [
    "cur.execute('CREATE TABLE regionbypopulation(region TEXT, population INTEGER)')"
   ]
  },
  {
   "cell_type": "code",
   "execution_count": 3,
   "metadata": {},
   "outputs": [],
   "source": [
    "cur.execute('INSERT INTO regionbypopulation VALUES (?, ?)', (\"Central Africa\", 330993))\n",
    "cur.execute('INSERT INTO regionbypopulation VALUES (?, ?)', (\"SouthEastern Africa\", 743112))\n",
    "cur.execute('INSERT INTO regionbypopulation VALUES (?, ?)', (\"Japan\", 100562))\n",
    "cur.execute('INSERT INTO regionbypopulation VALUES (?, ?)', ('Northern Africa', 1037463))\n",
    "cur.execute('INSERT INTO regionbypopulation VALUES (?, ?)', ('Southern Asia', 2051941))\n",
    "cur.execute('INSERT INTO regionbypopulation VALUES (?, ?)', ('Asia Pacific', 785468))\n",
    "cur.execute('INSERT INTO regionbypopulation VALUES (?, ?)', ('Middle East', 687630))\n",
    "cur.execute('INSERT INTO regionbypopulation VALUES (?, ?)', ('Eastern Asia', 1362955))\n",
    "conn.commit()\n",
    "# conn.close()"
   ]
  },
  {
   "cell_type": "code",
   "execution_count": 4,
   "metadata": {},
   "outputs": [
    {
     "data": {
      "text/plain": [
       "('Central Africa', 330993)"
      ]
     },
     "execution_count": 4,
     "metadata": {},
     "output_type": "execute_result"
    }
   ],
   "source": [
    "cur.execute('SELECT region, population FROM regionbypopulation') # selecting columns from a table\n",
    "cur.fetchone()"
   ]
  },
  {
   "cell_type": "code",
   "execution_count": 5,
   "metadata": {},
   "outputs": [
    {
     "data": {
      "text/plain": [
       "[('SouthEastern Africa', 743112),\n",
       " ('Japan', 100562),\n",
       " ('Northern Africa', 1037463),\n",
       " ('Southern Asia', 2051941),\n",
       " ('Asia Pacific', 785468),\n",
       " ('Middle East', 687630),\n",
       " ('Eastern Asia', 1362955)]"
      ]
     },
     "execution_count": 5,
     "metadata": {},
     "output_type": "execute_result"
    }
   ],
   "source": [
    "cur.fetchall() # fetchall all the entries in the database"
   ]
  },
  {
   "cell_type": "code",
   "execution_count": 8,
   "metadata": {},
   "outputs": [
    {
     "data": {
      "text/plain": [
       "[('Asia Pacific', 785468),\n",
       " ('Central Africa', 330993),\n",
       " ('Eastern Asia', 1362955),\n",
       " ('Japan', 100562),\n",
       " ('Middle East', 687630),\n",
       " ('Northern Africa', 1037463),\n",
       " ('SouthEastern Africa', 743112),\n",
       " ('Southern Asia', 2051941)]"
      ]
     },
     "execution_count": 8,
     "metadata": {},
     "output_type": "execute_result"
    }
   ],
   "source": [
    "# quering by region\n",
    "cur.execute('SELECT region, population FROM regionbypopulation ORDER BY region')\n",
    "cur.fetchall()"
   ]
  },
  {
   "cell_type": "code",
   "execution_count": 9,
   "metadata": {},
   "outputs": [
    {
     "data": {
      "text/plain": [
       "[('Japan', 100562),\n",
       " ('Central Africa', 330993),\n",
       " ('Middle East', 687630),\n",
       " ('SouthEastern Africa', 743112),\n",
       " ('Asia Pacific', 785468),\n",
       " ('Northern Africa', 1037463),\n",
       " ('Eastern Asia', 1362955),\n",
       " ('Southern Asia', 2051941)]"
      ]
     },
     "execution_count": 9,
     "metadata": {},
     "output_type": "execute_result"
    }
   ],
   "source": [
    "# quering by population\n",
    "cur.execute('SELECT region, population FROM regionbypopulation ORDER BY population').fetchall()"
   ]
  },
  {
   "cell_type": "code",
   "execution_count": 15,
   "metadata": {},
   "outputs": [
    {
     "data": {
      "text/plain": [
       "[('Japan', 100562),\n",
       " ('Central Africa', 330993),\n",
       " ('Middle East', 687630),\n",
       " ('SouthEastern Africa', 743112),\n",
       " ('Asia Pacific', 785468),\n",
       " ('Northern Africa', 1037463),\n",
       " ('Eastern Asia', 1362955),\n",
       " ('Southern Asia', 2051941)]"
      ]
     },
     "execution_count": 15,
     "metadata": {},
     "output_type": "execute_result"
    }
   ],
   "source": [
    "# quering population in ascending order\n",
    "cur.execute('SELECT region, population FROM regionbypopulation ORDER BY population ASC')\n",
    "cur.fetchall()"
   ]
  },
  {
   "cell_type": "code",
   "execution_count": 16,
   "metadata": {},
   "outputs": [
    {
     "data": {
      "text/plain": [
       "[('Southern Asia', 2051941),\n",
       " ('Eastern Asia', 1362955),\n",
       " ('Northern Africa', 1037463),\n",
       " ('Asia Pacific', 785468),\n",
       " ('SouthEastern Africa', 743112),\n",
       " ('Middle East', 687630),\n",
       " ('Central Africa', 330993),\n",
       " ('Japan', 100562)]"
      ]
     },
     "execution_count": 16,
     "metadata": {},
     "output_type": "execute_result"
    }
   ],
   "source": [
    "# quering population in descending order\n",
    "cur.execute('SELECT region, population FROM regionbypopulation ORDER BY population DESC')\n",
    "cur.fetchall()"
   ]
  },
  {
   "cell_type": "code",
   "execution_count": 19,
   "metadata": {},
   "outputs": [
    {
     "data": {
      "text/plain": [
       "[('Central Africa', 330993),\n",
       " ('SouthEastern Africa', 743112),\n",
       " ('Japan', 100562),\n",
       " ('Northern Africa', 1037463),\n",
       " ('Southern Asia', 2051941),\n",
       " ('Asia Pacific', 785468),\n",
       " ('Middle East', 687630),\n",
       " ('Eastern Asia', 1362955)]"
      ]
     },
     "execution_count": 19,
     "metadata": {},
     "output_type": "execute_result"
    }
   ],
   "source": [
    "cur.execute('SELECT * FROM regionbypopulation') # quering all columns\n",
    "cur.fetchall()"
   ]
  },
  {
   "cell_type": "code",
   "execution_count": 20,
   "metadata": {},
   "outputs": [
    {
     "data": {
      "text/plain": [
       "[('Central Africa',),\n",
       " ('SouthEastern Africa',),\n",
       " ('Japan',),\n",
       " ('Northern Africa',),\n",
       " ('Southern Asia',),\n",
       " ('Asia Pacific',),\n",
       " ('Middle East',),\n",
       " ('Eastern Asia',)]"
      ]
     },
     "execution_count": 20,
     "metadata": {},
     "output_type": "execute_result"
    }
   ],
   "source": [
    "cur.execute('SELECT region FROM regionbypopulation') # get only a column\n",
    "cur.fetchall()"
   ]
  },
  {
   "cell_type": "code",
   "execution_count": 28,
   "metadata": {},
   "outputs": [
    {
     "data": {
      "text/plain": [
       "[('Northern Africa',), ('Southern Asia',), ('Eastern Asia',)]"
      ]
     },
     "execution_count": 28,
     "metadata": {},
     "output_type": "execute_result"
    }
   ],
   "source": [
    "cur.execute('SELECT region FROM regionbypopulation WHERE population > 1000000')\n",
    "cur.fetchall()"
   ]
  },
  {
   "cell_type": "code",
   "execution_count": null,
   "metadata": {},
   "outputs": [],
   "source": []
  },
  {
   "cell_type": "code",
   "execution_count": null,
   "metadata": {},
   "outputs": [],
   "source": []
  },
  {
   "cell_type": "code",
   "execution_count": null,
   "metadata": {},
   "outputs": [],
   "source": []
  },
  {
   "cell_type": "code",
   "execution_count": null,
   "metadata": {},
   "outputs": [],
   "source": []
  },
  {
   "cell_type": "code",
   "execution_count": null,
   "metadata": {},
   "outputs": [],
   "source": []
  },
  {
   "cell_type": "code",
   "execution_count": null,
   "metadata": {},
   "outputs": [],
   "source": []
  },
  {
   "cell_type": "code",
   "execution_count": null,
   "metadata": {},
   "outputs": [],
   "source": []
  },
  {
   "cell_type": "code",
   "execution_count": null,
   "metadata": {},
   "outputs": [],
   "source": []
  },
  {
   "cell_type": "code",
   "execution_count": null,
   "metadata": {},
   "outputs": [],
   "source": []
  },
  {
   "cell_type": "code",
   "execution_count": null,
   "metadata": {},
   "outputs": [],
   "source": []
  },
  {
   "cell_type": "code",
   "execution_count": null,
   "metadata": {},
   "outputs": [],
   "source": []
  },
  {
   "cell_type": "code",
   "execution_count": null,
   "metadata": {},
   "outputs": [],
   "source": []
  },
  {
   "cell_type": "code",
   "execution_count": null,
   "metadata": {},
   "outputs": [],
   "source": []
  },
  {
   "cell_type": "code",
   "execution_count": null,
   "metadata": {},
   "outputs": [],
   "source": []
  },
  {
   "cell_type": "code",
   "execution_count": null,
   "metadata": {},
   "outputs": [],
   "source": []
  },
  {
   "cell_type": "code",
   "execution_count": null,
   "metadata": {},
   "outputs": [],
   "source": []
  },
  {
   "cell_type": "code",
   "execution_count": null,
   "metadata": {},
   "outputs": [],
   "source": []
  }
 ],
 "metadata": {
  "kernelspec": {
   "display_name": "Python 3.7.4 64-bit ('base': conda)",
   "language": "python",
   "name": "python37464bitbaseconda02803511e82243628460d84236bfc9e6"
  },
  "language_info": {
   "codemirror_mode": {
    "name": "ipython",
    "version": 3
   },
   "file_extension": ".py",
   "mimetype": "text/x-python",
   "name": "python",
   "nbconvert_exporter": "python",
   "pygments_lexer": "ipython3",
   "version": "3.7.6"
  },
  "toc": {
   "base_numbering": 1,
   "nav_menu": {},
   "number_sections": true,
   "sideBar": true,
   "skip_h1_title": false,
   "title_cell": "Table of Contents",
   "title_sidebar": "Contents",
   "toc_cell": false,
   "toc_position": {},
   "toc_section_display": true,
   "toc_window_display": false
  }
 },
 "nbformat": 4,
 "nbformat_minor": 4
}
