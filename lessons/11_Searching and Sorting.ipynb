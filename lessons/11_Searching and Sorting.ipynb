{
 "cells": [
  {
   "cell_type": "markdown",
   "metadata": {},
   "source": [
    "# Searching and Sorting"
   ]
  },
  {
   "cell_type": "markdown",
   "metadata": {},
   "source": [
    "## Linear Search"
   ]
  },
  {
   "cell_type": "code",
   "execution_count": 5,
   "metadata": {},
   "outputs": [
    {
     "data": {
      "text/plain": [
       "1"
      ]
     },
     "execution_count": 5,
     "metadata": {},
     "output_type": "execute_result"
    }
   ],
   "source": [
    "from typing import Any\n",
    "from doctest import testmod\n",
    "def linear_search(lst:list, value:Any)-> int:\n",
    "    \"\"\"Return the index of the first occurrence of value in lst, or return -1 if value is not in lst.\n",
    "    \n",
    "    \n",
    "    >>> linear_search([2, 5, 1, -3], 5)\n",
    "    1\n",
    "    >>> linear_search([2, 4, 2], 2)\n",
    "    0\n",
    "    >>> linear_search([2, 5, 1, -3], 4)\n",
    "    -1\n",
    "    >>> linear_search([], 5)\n",
    "    \"\"\"\n",
    "    i = 0 # indexing value\n",
    "    \n",
    "    while i != len(lst) and lst[i] != value :\n",
    "        i += 1\n",
    "    if i == len(lst): # if index is at end of list, return -1 else return index position\n",
    "        return -1\n",
    "    else:\n",
    "        return i\n",
    "\n",
    "linear_search([2, 5, 1, -3], 5)"
   ]
  },
  {
   "cell_type": "code",
   "execution_count": 6,
   "metadata": {},
   "outputs": [
    {
     "name": "stdout",
     "output_type": "stream",
     "text": [
      "**********************************************************************\n",
      "File \"__main__\", line 13, in __main__.linear_search\n",
      "Failed example:\n",
      "    linear_search([], 5)\n",
      "Expected nothing\n",
      "Got:\n",
      "    -1\n",
      "**********************************************************************\n",
      "1 items had failures:\n",
      "   1 of   4 in __main__.linear_search\n",
      "***Test Failed*** 1 failures.\n"
     ]
    },
    {
     "data": {
      "text/plain": [
       "TestResults(failed=1, attempted=8)"
      ]
     },
     "execution_count": 6,
     "metadata": {},
     "output_type": "execute_result"
    }
   ],
   "source": [
    "def index_search(lst:list, value:Any)-> int:\n",
    "    \"\"\"Return the index of the first occurrence of value in lst, or return -1 if value is not in lst.\n",
    "    \n",
    "    \n",
    "    >>> index_search([2, 5, 1, -3], 5)\n",
    "    1\n",
    "    >>> index_search([2, 4, 2], 2)\n",
    "    0\n",
    "    >>> index_search([2, 5, 1, -3], 4)\n",
    "    -1\n",
    "    >>> index_search([], 5)\n",
    "    -1\n",
    "    \"\"\"\n",
    "    index = 0\n",
    "    for item in lst:\n",
    "        if item == value :\n",
    "            return index\n",
    "        index += 1\n",
    "    return -1\n",
    "index_search([2, 3, 1, 5], 4)\n",
    "testmod()"
   ]
  },
  {
   "cell_type": "markdown",
   "metadata": {},
   "source": [
    "**Sentinel Search**"
   ]
  },
  {
   "cell_type": "code",
   "execution_count": 7,
   "metadata": {},
   "outputs": [
    {
     "data": {
      "text/plain": [
       "-1"
      ]
     },
     "execution_count": 7,
     "metadata": {},
     "output_type": "execute_result"
    }
   ],
   "source": [
    "def sentinel_search(lst:list, value:Any)-> int:\n",
    "    \"\"\"Return the index of the first occurrence of value in lst, or return -1 if value is not in lst.\n",
    "    \n",
    "    \n",
    "    >>> sentinel_search([2, 5, 1, -3], 5)\n",
    "    1\n",
    "    >>> sentinel_search([2, 4, 2], 2)\n",
    "    0\n",
    "    >>> sentinel_search([2, 5, 1, -3], 4)\n",
    "    -1\n",
    "    >>> sentinel_search([], 5)\n",
    "    -1\n",
    "    \"\"\"\n",
    "    lst.append(value)\n",
    "    index = 0\n",
    "    while lst[index] != value:\n",
    "        index += 1\n",
    "    lst.pop()\n",
    "    \n",
    "    if index == len(lst):\n",
    "        return -1\n",
    "    else :\n",
    "        return index\n",
    "    \n",
    "sentinel_search([2, 5, 1, -3], 4)"
   ]
  },
  {
   "cell_type": "code",
   "execution_count": null,
   "metadata": {},
   "outputs": [],
   "source": []
  }
 ],
 "metadata": {
  "kernelspec": {
   "display_name": "Python 3.7.4 64-bit ('base': conda)",
   "language": "python",
   "name": "python37464bitbaseconda02803511e82243628460d84236bfc9e6"
  },
  "language_info": {
   "codemirror_mode": {
    "name": "ipython",
    "version": 3
   },
   "file_extension": ".py",
   "mimetype": "text/x-python",
   "name": "python",
   "nbconvert_exporter": "python",
   "pygments_lexer": "ipython3",
   "version": "3.7.6"
  },
  "toc": {
   "base_numbering": 1,
   "nav_menu": {},
   "number_sections": true,
   "sideBar": true,
   "skip_h1_title": false,
   "title_cell": "Table of Contents",
   "title_sidebar": "Contents",
   "toc_cell": false,
   "toc_position": {},
   "toc_section_display": true,
   "toc_window_display": false
  }
 },
 "nbformat": 4,
 "nbformat_minor": 4
}
