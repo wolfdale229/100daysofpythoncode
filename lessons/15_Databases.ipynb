{
 "cells": [
  {
   "cell_type": "markdown",
   "metadata": {},
   "source": [
    "# Databases 2020-08-26"
   ]
  },
  {
   "cell_type": "markdown",
   "metadata": {
    "heading_collapsed": true
   },
   "source": [
    "## Creating a database"
   ]
  },
  {
   "cell_type": "code",
   "execution_count": 1,
   "metadata": {
    "hidden": true
   },
   "outputs": [],
   "source": [
    "import sqlite3 as sql # import module\n",
    "\n",
    "# make a connection to the database file\n",
    "conn = sql.connect('population.db')\n",
    "\n",
    "# create a cursor\n",
    "cur = conn.cursor()"
   ]
  },
  {
   "cell_type": "code",
   "execution_count": 2,
   "metadata": {
    "hidden": true
   },
   "outputs": [
    {
     "data": {
      "text/plain": [
       "<sqlite3.Cursor at 0x7f67e830aab0>"
      ]
     },
     "execution_count": 2,
     "metadata": {},
     "output_type": "execute_result"
    }
   ],
   "source": [
    "cur.execute('CREATE TABLE regionbypopulation(region TEXT, population INTEGER)')"
   ]
  },
  {
   "cell_type": "code",
   "execution_count": 3,
   "metadata": {
    "hidden": true
   },
   "outputs": [],
   "source": [
    "# inserting values into a table\n",
    "cur.execute('INSERT INTO regionbypopulation VALUES (?, ?)', (\"Central Africa\", 330993))\n",
    "cur.execute('INSERT INTO regionbypopulation VALUES (?, ?)', (\"SouthEastern Africa\", 743112))\n",
    "cur.execute('INSERT INTO regionbypopulation VALUES (?, ?)', (\"Japan\", 100562))\n",
    "cur.execute('INSERT INTO regionbypopulation VALUES (?, ?)', ('Northern Africa', 1037463))\n",
    "cur.execute('INSERT INTO regionbypopulation VALUES (?, ?)', ('Southern Asia', 2051941))\n",
    "cur.execute('INSERT INTO regionbypopulation VALUES (?, ?)', ('Asia Pacific', 785468))\n",
    "cur.execute('INSERT INTO regionbypopulation VALUES (?, ?)', ('Middle East', 687630))\n",
    "cur.execute('INSERT INTO regionbypopulation VALUES (?, ?)', ('Eastern Asia', 1362955))\n",
    "# commiting changes in a database\n",
    "conn.commit()\n",
    "# closing the database connection\n",
    "# conn.close()"
   ]
  },
  {
   "cell_type": "code",
   "execution_count": 4,
   "metadata": {
    "hidden": true
   },
   "outputs": [
    {
     "data": {
      "text/plain": [
       "('Central Africa', 330993)"
      ]
     },
     "execution_count": 4,
     "metadata": {},
     "output_type": "execute_result"
    }
   ],
   "source": [
    "cur.execute('SELECT region, population FROM regionbypopulation') # selecting columns from a table\n",
    "cur.fetchone()"
   ]
  },
  {
   "cell_type": "code",
   "execution_count": 5,
   "metadata": {
    "hidden": true
   },
   "outputs": [
    {
     "data": {
      "text/plain": [
       "[('SouthEastern Africa', 743112),\n",
       " ('Japan', 100562),\n",
       " ('Northern Africa', 1037463),\n",
       " ('Southern Asia', 2051941),\n",
       " ('Asia Pacific', 785468),\n",
       " ('Middle East', 687630),\n",
       " ('Eastern Asia', 1362955)]"
      ]
     },
     "execution_count": 5,
     "metadata": {},
     "output_type": "execute_result"
    }
   ],
   "source": [
    "cur.fetchall() # fetchall all the entries in the database"
   ]
  },
  {
   "cell_type": "code",
   "execution_count": 6,
   "metadata": {
    "hidden": true
   },
   "outputs": [
    {
     "data": {
      "text/plain": [
       "[('Asia Pacific', 785468),\n",
       " ('Central Africa', 330993),\n",
       " ('Eastern Asia', 1362955),\n",
       " ('Japan', 100562),\n",
       " ('Middle East', 687630),\n",
       " ('Northern Africa', 1037463),\n",
       " ('SouthEastern Africa', 743112),\n",
       " ('Southern Asia', 2051941)]"
      ]
     },
     "execution_count": 6,
     "metadata": {},
     "output_type": "execute_result"
    }
   ],
   "source": [
    "# quering by region\n",
    "cur.execute('SELECT region, population FROM regionbypopulation ORDER BY region')\n",
    "cur.fetchall()"
   ]
  },
  {
   "cell_type": "code",
   "execution_count": 7,
   "metadata": {
    "hidden": true
   },
   "outputs": [
    {
     "data": {
      "text/plain": [
       "[('Japan', 100562),\n",
       " ('Central Africa', 330993),\n",
       " ('Middle East', 687630),\n",
       " ('SouthEastern Africa', 743112),\n",
       " ('Asia Pacific', 785468),\n",
       " ('Northern Africa', 1037463),\n",
       " ('Eastern Asia', 1362955),\n",
       " ('Southern Asia', 2051941)]"
      ]
     },
     "execution_count": 7,
     "metadata": {},
     "output_type": "execute_result"
    }
   ],
   "source": [
    "# quering by population\n",
    "cur.execute('SELECT region, population FROM regionbypopulation ORDER BY population').fetchall()"
   ]
  },
  {
   "cell_type": "code",
   "execution_count": 8,
   "metadata": {
    "hidden": true
   },
   "outputs": [
    {
     "data": {
      "text/plain": [
       "[('Japan', 100562),\n",
       " ('Central Africa', 330993),\n",
       " ('Middle East', 687630),\n",
       " ('SouthEastern Africa', 743112),\n",
       " ('Asia Pacific', 785468),\n",
       " ('Northern Africa', 1037463),\n",
       " ('Eastern Asia', 1362955),\n",
       " ('Southern Asia', 2051941)]"
      ]
     },
     "execution_count": 8,
     "metadata": {},
     "output_type": "execute_result"
    }
   ],
   "source": [
    "# quering population in ascending order\n",
    "cur.execute('SELECT region, population FROM regionbypopulation ORDER BY population ASC')\n",
    "cur.fetchall()"
   ]
  },
  {
   "cell_type": "code",
   "execution_count": 9,
   "metadata": {
    "hidden": true
   },
   "outputs": [
    {
     "data": {
      "text/plain": [
       "[('Southern Asia', 2051941),\n",
       " ('Eastern Asia', 1362955),\n",
       " ('Northern Africa', 1037463),\n",
       " ('Asia Pacific', 785468),\n",
       " ('SouthEastern Africa', 743112),\n",
       " ('Middle East', 687630),\n",
       " ('Central Africa', 330993),\n",
       " ('Japan', 100562)]"
      ]
     },
     "execution_count": 9,
     "metadata": {},
     "output_type": "execute_result"
    }
   ],
   "source": [
    "# quering population in descending order\n",
    "cur.execute('SELECT region, population FROM regionbypopulation ORDER BY population DESC')\n",
    "cur.fetchall()"
   ]
  },
  {
   "cell_type": "code",
   "execution_count": 10,
   "metadata": {
    "hidden": true
   },
   "outputs": [
    {
     "data": {
      "text/plain": [
       "[('Central Africa', 330993),\n",
       " ('SouthEastern Africa', 743112),\n",
       " ('Japan', 100562),\n",
       " ('Northern Africa', 1037463),\n",
       " ('Southern Asia', 2051941),\n",
       " ('Asia Pacific', 785468),\n",
       " ('Middle East', 687630),\n",
       " ('Eastern Asia', 1362955)]"
      ]
     },
     "execution_count": 10,
     "metadata": {},
     "output_type": "execute_result"
    }
   ],
   "source": [
    "cur.execute('SELECT * FROM regionbypopulation') # quering all columns\n",
    "cur.fetchall()"
   ]
  },
  {
   "cell_type": "code",
   "execution_count": 11,
   "metadata": {
    "hidden": true
   },
   "outputs": [
    {
     "data": {
      "text/plain": [
       "[('Central Africa',),\n",
       " ('SouthEastern Africa',),\n",
       " ('Japan',),\n",
       " ('Northern Africa',),\n",
       " ('Southern Asia',),\n",
       " ('Asia Pacific',),\n",
       " ('Middle East',),\n",
       " ('Eastern Asia',)]"
      ]
     },
     "execution_count": 11,
     "metadata": {},
     "output_type": "execute_result"
    }
   ],
   "source": [
    "cur.execute('SELECT region FROM regionbypopulation') # get only a column\n",
    "cur.fetchall()"
   ]
  },
  {
   "cell_type": "code",
   "execution_count": 12,
   "metadata": {
    "hidden": true
   },
   "outputs": [
    {
     "data": {
      "text/plain": [
       "[('Northern Africa',), ('Southern Asia',), ('Eastern Asia',)]"
      ]
     },
     "execution_count": 12,
     "metadata": {},
     "output_type": "execute_result"
    }
   ],
   "source": [
    "cur.execute('SELECT region FROM regionbypopulation WHERE population > 1000000')\n",
    "cur.fetchall()"
   ]
  },
  {
   "cell_type": "code",
   "execution_count": 13,
   "metadata": {
    "hidden": true
   },
   "outputs": [
    {
     "data": {
      "text/plain": [
       "('Japan', 100562)"
      ]
     },
     "execution_count": 13,
     "metadata": {},
     "output_type": "execute_result"
    }
   ],
   "source": [
    "cur.execute('SELECT * FROM regionbypopulation WHERE region = \"Japan\"')\n",
    "cur.fetchone()"
   ]
  },
  {
   "cell_type": "code",
   "execution_count": 14,
   "metadata": {
    "hidden": true
   },
   "outputs": [
    {
     "data": {
      "text/plain": [
       "<sqlite3.Cursor at 0x7f67e830aab0>"
      ]
     },
     "execution_count": 14,
     "metadata": {},
     "output_type": "execute_result"
    }
   ],
   "source": [
    "cur.execute('UPDATE regionbypopulation SET population = 100600 WHERE region =\"Japan\" ')"
   ]
  },
  {
   "cell_type": "code",
   "execution_count": 15,
   "metadata": {
    "hidden": true
   },
   "outputs": [
    {
     "data": {
      "text/plain": [
       "('Japan', 100600)"
      ]
     },
     "execution_count": 15,
     "metadata": {},
     "output_type": "execute_result"
    }
   ],
   "source": [
    "cur.execute('SELECT * FROM regionbypopulation WHERE region =\"Japan\" ').fetchone()"
   ]
  },
  {
   "cell_type": "code",
   "execution_count": 16,
   "metadata": {
    "hidden": true
   },
   "outputs": [
    {
     "data": {
      "text/plain": [
       "[('Central Africa', 330993),\n",
       " ('SouthEastern Africa', 743112),\n",
       " ('Northern Africa', 1037463),\n",
       " ('Southern Asia', 2051941),\n",
       " ('Asia Pacific', 785468),\n",
       " ('Middle East', 687630),\n",
       " ('Eastern Asia', 1362955)]"
      ]
     },
     "execution_count": 16,
     "metadata": {},
     "output_type": "execute_result"
    }
   ],
   "source": [
    "cur.execute('DELETE FROM regionbypopulation WHERE region=\"Japan\"')\n",
    "cur.execute('SELECT * FROM regionbypopulation')\n",
    "cur.fetchall()"
   ]
  },
  {
   "cell_type": "code",
   "execution_count": 17,
   "metadata": {
    "hidden": true
   },
   "outputs": [
    {
     "data": {
      "text/plain": [
       "<sqlite3.Cursor at 0x7f67e830aab0>"
      ]
     },
     "execution_count": 17,
     "metadata": {},
     "output_type": "execute_result"
    }
   ],
   "source": [
    "cur.execute('INSERT INTO regionbypopulation VALUES (?, ?)', ('Japan', 100600))"
   ]
  },
  {
   "cell_type": "code",
   "execution_count": 18,
   "metadata": {
    "hidden": true
   },
   "outputs": [
    {
     "data": {
      "text/plain": [
       "('Japan', 100600)"
      ]
     },
     "execution_count": 18,
     "metadata": {},
     "output_type": "execute_result"
    }
   ],
   "source": [
    "cur.execute('SELECT * FROM regionbypopulation WHERE region=\"Japan\"').fetchone()"
   ]
  },
  {
   "cell_type": "code",
   "execution_count": 19,
   "metadata": {
    "hidden": true
   },
   "outputs": [
    {
     "data": {
      "text/plain": [
       "<sqlite3.Cursor at 0x7f67e830aab0>"
      ]
     },
     "execution_count": 19,
     "metadata": {},
     "output_type": "execute_result"
    }
   ],
   "source": [
    "cur.execute('INSERT INTO regionbypopulation VALUES (?, ?)', ('Mars', 'NULL'))"
   ]
  },
  {
   "cell_type": "code",
   "execution_count": 20,
   "metadata": {
    "hidden": true
   },
   "outputs": [
    {
     "data": {
      "text/plain": [
       "[('Central Africa', 330993),\n",
       " ('SouthEastern Africa', 743112),\n",
       " ('Northern Africa', 1037463),\n",
       " ('Southern Asia', 2051941),\n",
       " ('Asia Pacific', 785468),\n",
       " ('Middle East', 687630),\n",
       " ('Eastern Asia', 1362955),\n",
       " ('Japan', 100600),\n",
       " ('Mars', 'NULL')]"
      ]
     },
     "execution_count": 20,
     "metadata": {},
     "output_type": "execute_result"
    }
   ],
   "source": [
    "cur.execute('SELECT * FROM regionbypopulation').fetchall()"
   ]
  },
  {
   "cell_type": "markdown",
   "metadata": {
    "heading_collapsed": true
   },
   "source": [
    "## Combining Tables with Join"
   ]
  },
  {
   "cell_type": "code",
   "execution_count": 21,
   "metadata": {
    "hidden": true
   },
   "outputs": [
    {
     "data": {
      "text/plain": [
       "<sqlite3.Cursor at 0x7f67e830aab0>"
      ]
     },
     "execution_count": 21,
     "metadata": {},
     "output_type": "execute_result"
    }
   ],
   "source": [
    "cur.execute('CREATE TABLE popbycountry(region TEXT, country TEXT, population INTEGER)')"
   ]
  },
  {
   "cell_type": "code",
   "execution_count": 22,
   "metadata": {
    "hidden": true
   },
   "outputs": [
    {
     "data": {
      "text/plain": [
       "<sqlite3.Cursor at 0x7f67e830aab0>"
      ]
     },
     "execution_count": 22,
     "metadata": {},
     "output_type": "execute_result"
    }
   ],
   "source": [
    "cur.execute('INSERT INTO popbycountry VALUES (?, ?, ?)', ('Eastern Asia', 'China', 1285238))"
   ]
  },
  {
   "cell_type": "code",
   "execution_count": 23,
   "metadata": {
    "hidden": true
   },
   "outputs": [],
   "source": [
    "countries = [(\"Eastern Asia\", \"DPR Korea\", 24056), (\"Eastern Asia\",\"Hong Kong (China)\", 8764),\n",
    "             (\"Eastern Asia\", \"Mongolia\", 3407), (\"EasternAsia\", \"Republic of Korea\", 41491),\n",
    "             (\"Eastern Asia\", \"Taiwan\", 1433),(\"North America\", \"Bahamas\", 368),\n",
    "             (\"North America\", \"Canada\", 40876), (\"North America\", \"Greenland\", 43), \n",
    "             (\"North America\", \"Mexico\", 126875),(\"North America\", \"United States\", 493038)\n",
    "            ]\n",
    "\n",
    "for c in countries:\n",
    "    cur.execute('INSERT INTO popbycountry VALUES (?, ?, ?)', (c[0], c[1], c[2]))"
   ]
  },
  {
   "cell_type": "code",
   "execution_count": 24,
   "metadata": {
    "hidden": true
   },
   "outputs": [],
   "source": [
    "conn.commit()"
   ]
  },
  {
   "cell_type": "code",
   "execution_count": 25,
   "metadata": {
    "hidden": true
   },
   "outputs": [
    {
     "data": {
      "text/plain": [
       "[('Eastern Asia', 'China', 1285238),\n",
       " ('Eastern Asia', 'DPR Korea', 24056),\n",
       " ('Eastern Asia', 'Hong Kong (China)', 8764),\n",
       " ('Eastern Asia', 'Mongolia', 3407),\n",
       " ('EasternAsia', 'Republic of Korea', 41491),\n",
       " ('Eastern Asia', 'Taiwan', 1433),\n",
       " ('North America', 'Bahamas', 368),\n",
       " ('North America', 'Canada', 40876),\n",
       " ('North America', 'Greenland', 43),\n",
       " ('North America', 'Mexico', 126875),\n",
       " ('North America', 'United States', 493038)]"
      ]
     },
     "execution_count": 25,
     "metadata": {},
     "output_type": "execute_result"
    }
   ],
   "source": [
    "cur.execute('SELECT * FROM popbycountry').fetchall()"
   ]
  },
  {
   "cell_type": "code",
   "execution_count": 26,
   "metadata": {
    "hidden": true
   },
   "outputs": [
    {
     "data": {
      "text/plain": [
       "<sqlite3.Cursor at 0x7f67e830aab0>"
      ]
     },
     "execution_count": 26,
     "metadata": {},
     "output_type": "execute_result"
    }
   ],
   "source": [
    "cur.execute('''SELECT regionbypopulation.region, popbycountry.country\n",
    "FROM regionbypopulation INNER JOIN popbycountry\n",
    "WHERE (regionbypopulation.region = popbycountry.region)\n",
    "AND (regionbypopulation.population > 1000000)''')"
   ]
  },
  {
   "cell_type": "code",
   "execution_count": 27,
   "metadata": {
    "hidden": true
   },
   "outputs": [
    {
     "data": {
      "text/plain": [
       "[('Eastern Asia', 'China'),\n",
       " ('Eastern Asia', 'DPR Korea'),\n",
       " ('Eastern Asia', 'Hong Kong (China)'),\n",
       " ('Eastern Asia', 'Mongolia'),\n",
       " ('Eastern Asia', 'Taiwan')]"
      ]
     },
     "execution_count": 27,
     "metadata": {},
     "output_type": "execute_result"
    }
   ],
   "source": [
    "cur.fetchall()"
   ]
  },
  {
   "cell_type": "code",
   "execution_count": 28,
   "metadata": {
    "hidden": true
   },
   "outputs": [],
   "source": [
    "# create a tab;e with a unique identifies\n",
    "# cur.execute('CREATE TABLE tables (region TEXT, population INTEGER, PRIMARY KEY(region))')"
   ]
  },
  {
   "cell_type": "markdown",
   "metadata": {
    "heading_collapsed": true
   },
   "source": [
    "## Aggregation"
   ]
  },
  {
   "cell_type": "code",
   "execution_count": 29,
   "metadata": {
    "hidden": true
   },
   "outputs": [
    {
     "data": {
      "text/plain": [
       "(2025589,)"
      ]
     },
     "execution_count": 29,
     "metadata": {},
     "output_type": "execute_result"
    }
   ],
   "source": [
    "cur.execute('SELECT SUM(population) FROM popbycountry').fetchone()"
   ]
  },
  {
   "cell_type": "code",
   "execution_count": 30,
   "metadata": {
    "hidden": true
   },
   "outputs": [
    {
     "data": {
      "text/plain": [
       "(7100162.0,)"
      ]
     },
     "execution_count": 30,
     "metadata": {},
     "output_type": "execute_result"
    }
   ],
   "source": [
    "cur.execute('SELECT SUM(population) FROM regionbypopulation').fetchone()"
   ]
  },
  {
   "cell_type": "code",
   "execution_count": 31,
   "metadata": {
    "hidden": true
   },
   "outputs": [
    {
     "data": {
      "text/plain": [
       "(788906.8888888889,)"
      ]
     },
     "execution_count": 31,
     "metadata": {},
     "output_type": "execute_result"
    }
   ],
   "source": [
    "cur.execute('SELECT AVG(population) FROM regionbypopulation').fetchone()"
   ]
  },
  {
   "cell_type": "code",
   "execution_count": 32,
   "metadata": {
    "hidden": true
   },
   "outputs": [
    {
     "data": {
      "text/plain": [
       "(43,)"
      ]
     },
     "execution_count": 32,
     "metadata": {},
     "output_type": "execute_result"
    }
   ],
   "source": [
    "cur.execute('SELECT MIN(population) FROM popbycountry').fetchone()"
   ]
  },
  {
   "cell_type": "code",
   "execution_count": 33,
   "metadata": {
    "hidden": true
   },
   "outputs": [
    {
     "data": {
      "text/plain": [
       "('NULL',)"
      ]
     },
     "execution_count": 33,
     "metadata": {},
     "output_type": "execute_result"
    }
   ],
   "source": [
    "cur.execute('SELECT MAX(population) FROM regionbypopulation').fetchone()"
   ]
  },
  {
   "cell_type": "code",
   "execution_count": 34,
   "metadata": {
    "hidden": true
   },
   "outputs": [
    {
     "data": {
      "text/plain": [
       "(11,)"
      ]
     },
     "execution_count": 34,
     "metadata": {},
     "output_type": "execute_result"
    }
   ],
   "source": [
    "cur.execute('SELECT COUNT(population) FROM popbycountry')\n",
    "cur.fetchone()"
   ]
  },
  {
   "cell_type": "code",
   "execution_count": 35,
   "metadata": {
    "hidden": true
   },
   "outputs": [
    {
     "data": {
      "text/plain": [
       "(788906.8888888889,)"
      ]
     },
     "execution_count": 35,
     "metadata": {},
     "output_type": "execute_result"
    }
   ],
   "source": [
    "cur.execute('SELECT SUM(population) / COUNT(population) FROM regionbypopulation')\n",
    "cur.fetchone()"
   ]
  },
  {
   "cell_type": "code",
   "execution_count": 36,
   "metadata": {
    "hidden": true
   },
   "outputs": [
    {
     "data": {
      "text/plain": [
       "[('Eastern Asia', 1322898), ('EasternAsia', 41491), ('North America', 661200)]"
      ]
     },
     "execution_count": 36,
     "metadata": {},
     "output_type": "execute_result"
    }
   ],
   "source": [
    "cur.execute('SELECT region, SUM(population) FROM popbycountry GROUP BY region')\n",
    "cur.fetchall()"
   ]
  },
  {
   "cell_type": "code",
   "execution_count": 37,
   "metadata": {
    "hidden": true
   },
   "outputs": [],
   "source": [
    "conn.close()"
   ]
  },
  {
   "cell_type": "markdown",
   "metadata": {},
   "source": [
    "## Exercises"
   ]
  },
  {
   "cell_type": "code",
   "execution_count": 38,
   "metadata": {},
   "outputs": [],
   "source": [
    "# Exercise 1\n",
    "\n",
    "con = sql.connect('census.db')\n",
    "cur = con.cursor()"
   ]
  },
  {
   "cell_type": "code",
   "execution_count": 39,
   "metadata": {},
   "outputs": [
    {
     "data": {
      "text/plain": [
       "<sqlite3.Cursor at 0x7f67e4a940a0>"
      ]
     },
     "execution_count": 39,
     "metadata": {},
     "output_type": "execute_result"
    }
   ],
   "source": [
    "cur.execute('CREATE TABLE density (province TEXT, population INTEGER, land_area REAL )')"
   ]
  },
  {
   "cell_type": "code",
   "execution_count": 40,
   "metadata": {},
   "outputs": [],
   "source": [
    "data = [('Newfoundland and Labrador', 512930, 370501.69),\n",
    "('Prince Edward Island', 135294,  5684.39), \n",
    "('Nova Scotia', 908007, 52917.43),\n",
    "('New Brunswick', 729498, 71355.67),\n",
    "('Quebec', 7237479, 1357743.08),\n",
    "('Ontario', 11410046, 907655.59),\n",
    "('Manitoba', 1119583, 551937.87),\n",
    "('Saskatchewan', 978933, 586561.35),\n",
    "('Alberta', 2974807, 639987.12),\n",
    "('British Columbia', 3907738, 926492.48),\n",
    "('Yukon Territory', 28674, 474706.97),\n",
    "('Northwest Territories', 37360, 1141108.37),\n",
    "('Nunavut', 26745, 1925460.18),]\n"
   ]
  },
  {
   "cell_type": "code",
   "execution_count": 41,
   "metadata": {},
   "outputs": [],
   "source": [
    "for item in data:\n",
    "    cur.execute('INSERT INTO density VALUES (?, ?, ?)', (item[0], item[1], item[2]))\n",
    "con.commit()"
   ]
  },
  {
   "cell_type": "code",
   "execution_count": 42,
   "metadata": {},
   "outputs": [
    {
     "data": {
      "text/plain": [
       "[('Newfoundland and Labrador', 512930, 370501.69),\n",
       " ('Prince Edward Island', 135294, 5684.39),\n",
       " ('Nova Scotia', 908007, 52917.43),\n",
       " ('New Brunswick', 729498, 71355.67),\n",
       " ('Quebec', 7237479, 1357743.08),\n",
       " ('Ontario', 11410046, 907655.59),\n",
       " ('Manitoba', 1119583, 551937.87),\n",
       " ('Saskatchewan', 978933, 586561.35),\n",
       " ('Alberta', 2974807, 639987.12),\n",
       " ('British Columbia', 3907738, 926492.48),\n",
       " ('Yukon Territory', 28674, 474706.97),\n",
       " ('Northwest Territories', 37360, 1141108.37),\n",
       " ('Nunavut', 26745, 1925460.18)]"
      ]
     },
     "execution_count": 42,
     "metadata": {},
     "output_type": "execute_result"
    }
   ],
   "source": [
    "cur.execute('SELECT * FROM density')\n",
    "cur.fetchall()"
   ]
  },
  {
   "cell_type": "code",
   "execution_count": 43,
   "metadata": {},
   "outputs": [
    {
     "data": {
      "text/plain": [
       "[(512930,),\n",
       " (135294,),\n",
       " (908007,),\n",
       " (729498,),\n",
       " (7237479,),\n",
       " (11410046,),\n",
       " (1119583,),\n",
       " (978933,),\n",
       " (2974807,),\n",
       " (3907738,),\n",
       " (28674,),\n",
       " (37360,),\n",
       " (26745,)]"
      ]
     },
     "execution_count": 43,
     "metadata": {},
     "output_type": "execute_result"
    }
   ],
   "source": [
    "cur.execute(\"SELECT population FROM density\")\n",
    "cur.fetchall()"
   ]
  },
  {
   "cell_type": "code",
   "execution_count": 44,
   "metadata": {},
   "outputs": [
    {
     "data": {
      "text/plain": [
       "[('Newfoundland and Labrador',),\n",
       " ('Prince Edward Island',),\n",
       " ('Nova Scotia',),\n",
       " ('New Brunswick',),\n",
       " ('Saskatchewan',),\n",
       " ('Yukon Territory',),\n",
       " ('Northwest Territories',),\n",
       " ('Nunavut',)]"
      ]
     },
     "execution_count": 44,
     "metadata": {},
     "output_type": "execute_result"
    }
   ],
   "source": [
    "cur.execute('SELECT province FROM density WHERE population < 1000000')\n",
    "cur.fetchall()"
   ]
  },
  {
   "cell_type": "code",
   "execution_count": 45,
   "metadata": {},
   "outputs": [
    {
     "data": {
      "text/plain": [
       "[('Newfoundland and Labrador',),\n",
       " ('Prince Edward Island',),\n",
       " ('Nova Scotia',),\n",
       " ('New Brunswick',),\n",
       " ('Quebec',),\n",
       " ('Ontario',),\n",
       " ('Saskatchewan',),\n",
       " ('Yukon Territory',),\n",
       " ('Northwest Territories',),\n",
       " ('Nunavut',)]"
      ]
     },
     "execution_count": 45,
     "metadata": {},
     "output_type": "execute_result"
    }
   ],
   "source": [
    "cur.execute('SELECT province FROM density WHERE (population < 1000000) OR (population > 5000000)')\n",
    "cur.fetchall()"
   ]
  },
  {
   "cell_type": "code",
   "execution_count": 46,
   "metadata": {},
   "outputs": [
    {
     "data": {
      "text/plain": [
       "[('Newfoundland and Labrador',),\n",
       " ('Prince Edward Island',),\n",
       " ('Nova Scotia',),\n",
       " ('New Brunswick',),\n",
       " ('Quebec',),\n",
       " ('Ontario',),\n",
       " ('Manitoba',),\n",
       " ('Saskatchewan',),\n",
       " ('Alberta',),\n",
       " ('British Columbia',),\n",
       " ('Yukon Territory',),\n",
       " ('Northwest Territories',),\n",
       " ('Nunavut',)]"
      ]
     },
     "execution_count": 46,
     "metadata": {},
     "output_type": "execute_result"
    }
   ],
   "source": [
    "cur.execute('SELECT province FROM density WHERE (population > 1000000) OR (population < 5000000)')\n",
    "cur.fetchall()"
   ]
  },
  {
   "cell_type": "code",
   "execution_count": 47,
   "metadata": {},
   "outputs": [
    {
     "data": {
      "text/plain": [
       "[('Newfoundland and Labrador',),\n",
       " ('Nova Scotia',),\n",
       " ('New Brunswick',),\n",
       " ('Quebec',),\n",
       " ('Ontario',),\n",
       " ('Manitoba',),\n",
       " ('Saskatchewan',),\n",
       " ('Alberta',),\n",
       " ('British Columbia',)]"
      ]
     },
     "execution_count": 47,
     "metadata": {},
     "output_type": "execute_result"
    }
   ],
   "source": [
    "cur.execute('SELECT province FROM density WHERE population > 200000').fetchall()"
   ]
  },
  {
   "cell_type": "code",
   "execution_count": 48,
   "metadata": {},
   "outputs": [
    {
     "data": {
      "text/plain": [
       "[('Newfoundland and Labrador', 1.384420135843375),\n",
       " ('Prince Edward Island', 23.8009707286094),\n",
       " ('Nova Scotia', 17.15893988048928),\n",
       " ('New Brunswick', 10.223406212848959),\n",
       " ('Quebec', 5.330521736115201),\n",
       " ('Ontario', 12.570898175154742),\n",
       " ('Manitoba', 2.0284583842743027),\n",
       " ('Saskatchewan', 1.6689353978062142),\n",
       " ('Alberta', 4.648229483118348),\n",
       " ('British Columbia', 4.217776273802028),\n",
       " ('Yukon Territory', 0.060403579075318826),\n",
       " ('Northwest Territories', 0.03274009812056676),\n",
       " ('Nunavut', 0.013890185981410428)]"
      ]
     },
     "execution_count": 48,
     "metadata": {},
     "output_type": "execute_result"
    }
   ],
   "source": [
    "cur.execute('SELECT province, population/land_area FROM density')\n",
    "cur.fetchall()"
   ]
  },
  {
   "cell_type": "markdown",
   "metadata": {},
   "source": [
    "## Exercise 2"
   ]
  },
  {
   "cell_type": "code",
   "execution_count": 49,
   "metadata": {},
   "outputs": [
    {
     "data": {
      "text/plain": [
       "<sqlite3.Cursor at 0x7f67e4a940a0>"
      ]
     },
     "execution_count": 49,
     "metadata": {},
     "output_type": "execute_result"
    }
   ],
   "source": [
    "cur.execute(\"CREATE TABLE capitals (province TEXT, capital TEXT, population INTEGER)\")"
   ]
  },
  {
   "cell_type": "code",
   "execution_count": 50,
   "metadata": {},
   "outputs": [],
   "source": [
    "capitals = [('Newfoundland and Labrador', 'St. John’s', 172918), \n",
    " ('Prince Edward Island',  'Charlottetown', 58358),\n",
    " ('Nova Scotia',  'Halifax', 359183),\n",
    " ('New Brunswick',  'Fredericton',81346 ),\n",
    " ('Quebec', 'Quebec City', 682757),\n",
    " ('Ontario', 'Toronto', 4682897),\n",
    " ('Manitoba', 'Winnipeg', 671274), \n",
    " ('Saskatchewan', 'Regina', 192800),\n",
    " ('Alberta', 'Edmonton', 937845),\n",
    " ('British Columbia', 'Victoria', 311902),\n",
    " ('Yukon Territory', 'Whitehorse', 21405), \n",
    " ('Northwest', 'Territories Yellowknife', 16541), \n",
    " ('Nunavut', 'Iqaluit', 5236),\n",
    " \n",
    "]"
   ]
  },
  {
   "cell_type": "code",
   "execution_count": 51,
   "metadata": {},
   "outputs": [],
   "source": [
    "for item in capitals:\n",
    "    cur.execute('INSERT INTO capitals VALUES (?, ?, ?)', (item[0], item[1], item[2]))\n",
    "    con.commit()"
   ]
  },
  {
   "cell_type": "code",
   "execution_count": 52,
   "metadata": {},
   "outputs": [
    {
     "data": {
      "text/plain": [
       "[('Newfoundland and Labrador', 'St. John’s', 172918),\n",
       " ('Prince Edward Island', 'Charlottetown', 58358),\n",
       " ('Nova Scotia', 'Halifax', 359183),\n",
       " ('New Brunswick', 'Fredericton', 81346),\n",
       " ('Quebec', 'Quebec City', 682757),\n",
       " ('Ontario', 'Toronto', 4682897),\n",
       " ('Manitoba', 'Winnipeg', 671274),\n",
       " ('Saskatchewan', 'Regina', 192800),\n",
       " ('Alberta', 'Edmonton', 937845),\n",
       " ('British Columbia', 'Victoria', 311902),\n",
       " ('Yukon Territory', 'Whitehorse', 21405),\n",
       " ('Northwest', 'Territories Yellowknife', 16541),\n",
       " ('Nunavut', 'Iqaluit', 5236)]"
      ]
     },
     "execution_count": 52,
     "metadata": {},
     "output_type": "execute_result"
    }
   ],
   "source": [
    "cur.execute('SELECT * FROM capitals').fetchall()"
   ]
  },
  {
   "cell_type": "code",
   "execution_count": 70,
   "metadata": {},
   "outputs": [
    {
     "data": {
      "text/plain": [
       "[(512930, 172918),\n",
       " (135294, 58358),\n",
       " (908007, 359183),\n",
       " (729498, 81346),\n",
       " (7237479, 682757),\n",
       " (11410046, 4682897),\n",
       " (1119583, 671274),\n",
       " (978933, 192800),\n",
       " (2974807, 937845),\n",
       " (3907738, 311902),\n",
       " (28674, 21405),\n",
       " (26745, 5236)]"
      ]
     },
     "execution_count": 70,
     "metadata": {},
     "output_type": "execute_result"
    }
   ],
   "source": [
    "cur.execute('''SELECT density.population, capitals.population \n",
    "FROM capitals INNER JOIN density\n",
    "WHERE (capitals.province = density.province)\n",
    "''')\n",
    "cur.fetchall()"
   ]
  },
  {
   "cell_type": "code",
   "execution_count": 89,
   "metadata": {},
   "outputs": [
    {
     "data": {
      "text/plain": [
       "[(370501.69,),\n",
       " (5684.39,),\n",
       " (52917.43,),\n",
       " (71355.67,),\n",
       " (1357743.08,),\n",
       " (907655.59,),\n",
       " (551937.87,),\n",
       " (586561.35,),\n",
       " (639987.12,),\n",
       " (926492.48,),\n",
       " (474706.97,),\n",
       " (1141108.37,),\n",
       " (1925460.18,)]"
      ]
     },
     "execution_count": 89,
     "metadata": {},
     "output_type": "execute_result"
    }
   ],
   "source": [
    "cur.execute('''SELECT DISTINCT density.land_area\n",
    "FROM density INNER JOIN capitals\n",
    "WHERE (capitals.population > 100000)\n",
    "''')\n",
    "cur.fetchall()"
   ]
  },
  {
   "cell_type": "code",
   "execution_count": 90,
   "metadata": {},
   "outputs": [
    {
     "data": {
      "text/plain": [
       "[(9012112.19,)]"
      ]
     },
     "execution_count": 90,
     "metadata": {},
     "output_type": "execute_result"
    }
   ],
   "source": [
    "cur.execute('SELECT SUM(land_area) FROM density').fetchall()"
   ]
  },
  {
   "cell_type": "code",
   "execution_count": 92,
   "metadata": {},
   "outputs": [
    {
     "data": {
      "text/plain": [
       "(630343.2307692308,)"
      ]
     },
     "execution_count": 92,
     "metadata": {},
     "output_type": "execute_result"
    }
   ],
   "source": [
    "cur.execute('SELECT AVG(population) FROM capitals').fetchone()"
   ]
  },
  {
   "cell_type": "code",
   "execution_count": 93,
   "metadata": {},
   "outputs": [
    {
     "data": {
      "text/plain": [
       "(5236,)"
      ]
     },
     "execution_count": 93,
     "metadata": {},
     "output_type": "execute_result"
    }
   ],
   "source": [
    "cur.execute('SELECT MIN(population) FROM capitals').fetchone()"
   ]
  },
  {
   "cell_type": "code",
   "execution_count": 94,
   "metadata": {},
   "outputs": [
    {
     "data": {
      "text/plain": [
       "(11410046,)"
      ]
     },
     "execution_count": 94,
     "metadata": {},
     "output_type": "execute_result"
    }
   ],
   "source": [
    "cur.execute('SELECT MAX(population) FROM density').fetchone()"
   ]
  },
  {
   "cell_type": "code",
   "execution_count": 96,
   "metadata": {},
   "outputs": [
    {
     "data": {
      "text/plain": [
       "<sqlite3.Cursor at 0x7f67e4a940a0>"
      ]
     },
     "execution_count": 96,
     "metadata": {},
     "output_type": "execute_result"
    }
   ],
   "source": [
    "# exercise 3\n",
    "cur.execute('CREATE TABLE Numbers (Val INTEGER)')"
   ]
  },
  {
   "cell_type": "code",
   "execution_count": 99,
   "metadata": {},
   "outputs": [],
   "source": [
    "cur.execute('INSERT INTO Numbers VALUES (1)')\n",
    "cur.execute('INSERT INTO Numbers VALUES (2)')\n",
    "con.commit()"
   ]
  },
  {
   "cell_type": "code",
   "execution_count": 101,
   "metadata": {},
   "outputs": [
    {
     "data": {
      "text/plain": [
       "[]"
      ]
     },
     "execution_count": 101,
     "metadata": {},
     "output_type": "execute_result"
    }
   ],
   "source": [
    "cur.execute('SELECT * FROM Numbers WHERE Val > 0 AND 1/0').fetchall()"
   ]
  },
  {
   "cell_type": "code",
   "execution_count": null,
   "metadata": {},
   "outputs": [],
   "source": []
  }
 ],
 "metadata": {
  "kernelspec": {
   "display_name": "Python 3.7.4 64-bit ('base': conda)",
   "language": "python",
   "name": "python37464bitbaseconda02803511e82243628460d84236bfc9e6"
  },
  "language_info": {
   "codemirror_mode": {
    "name": "ipython",
    "version": 3
   },
   "file_extension": ".py",
   "mimetype": "text/x-python",
   "name": "python",
   "nbconvert_exporter": "python",
   "pygments_lexer": "ipython3",
   "version": "3.7.6"
  },
  "toc": {
   "base_numbering": 1,
   "nav_menu": {},
   "number_sections": true,
   "sideBar": true,
   "skip_h1_title": false,
   "title_cell": "Table of Contents",
   "title_sidebar": "Contents",
   "toc_cell": false,
   "toc_position": {},
   "toc_section_display": true,
   "toc_window_display": false
  }
 },
 "nbformat": 4,
 "nbformat_minor": 4
}
