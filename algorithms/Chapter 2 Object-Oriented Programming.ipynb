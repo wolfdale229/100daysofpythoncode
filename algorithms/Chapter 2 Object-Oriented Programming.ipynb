{
 "cells": [
  {
   "cell_type": "markdown",
   "metadata": {},
   "source": [
    "# Classes in Python\n",
    "\n",
    "## Goals, Principles, and Patterns\n",
    "As the name implies, the main “actors” in the object-oriented paradigm are called\n",
    "objects. Each object is an instance of a class. Each class presents to the outside\n",
    "world a concise and consistent view of the objects that are instances of this class,\n",
    "without going into too much unnecessary detail or giving others access to the inner\n",
    "workings of the objects. The class definition typically specifies instance variables,\n",
    "also known as data members, that the object contains, as well as the methods, also\n",
    "known as member functions, that the object can execute. This view of computing\n",
    "is intended to fulfill several goals and incorporate several design principles"
   ]
  },
  {
   "cell_type": "markdown",
   "metadata": {},
   "source": [
    "## Class Definitions"
   ]
  },
  {
   "cell_type": "code",
   "execution_count": null,
   "metadata": {},
   "outputs": [],
   "source": [
    "class CreditCard:\n",
    "    \"\"\"A customers credit card\"\"\"\n",
    "    def __init__(self, name, bank, account, limit):\n",
    "        \"\"\"Create a new credit card instance\n",
    "        \n",
    "        initialize balance is 0\n",
    "        \n",
    "        customer the name of the customer (e.g., John Bowman )\n",
    "        bank the name of the bank (e.g., California Savings )\n",
    "        account the acount identifier (e.g., 5391 0375 9387 5309 )\n",
    "        limit credit limit (measured in dollars)\n",
    "        \"\"\"\n",
    "        self._name = name\n",
    "        self._bank = bank\n",
    "        "
   ]
  }
 ],
 "metadata": {
  "kernelspec": {
   "display_name": "Python 3.7.4 64-bit ('base': conda)",
   "language": "python",
   "name": "python37464bitbaseconda02803511e82243628460d84236bfc9e6"
  },
  "language_info": {
   "codemirror_mode": {
    "name": "ipython",
    "version": 3
   },
   "file_extension": ".py",
   "mimetype": "text/x-python",
   "name": "python",
   "nbconvert_exporter": "python",
   "pygments_lexer": "ipython3",
   "version": "3.7.6"
  },
  "toc": {
   "base_numbering": 1,
   "nav_menu": {},
   "number_sections": true,
   "sideBar": true,
   "skip_h1_title": false,
   "title_cell": "Table of Contents",
   "title_sidebar": "Contents",
   "toc_cell": false,
   "toc_position": {},
   "toc_section_display": true,
   "toc_window_display": false
  }
 },
 "nbformat": 4,
 "nbformat_minor": 4
}
