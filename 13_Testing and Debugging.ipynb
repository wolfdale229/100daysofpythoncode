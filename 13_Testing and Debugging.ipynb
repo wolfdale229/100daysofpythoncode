{
 "cells": [
  {
   "cell_type": "markdown",
   "metadata": {},
   "source": [
    "#  Testing and Debugging"
   ]
  },
  {
   "cell_type": "code",
   "execution_count": 1,
   "metadata": {},
   "outputs": [],
   "source": [
    "import unittest\n",
    "from doctest import testmod\n",
    "from typing import List\n",
    "from temperature import above_freezing"
   ]
  },
  {
   "cell_type": "code",
   "execution_count": 2,
   "metadata": {},
   "outputs": [],
   "source": [
    "def above_freezing(celsius:float)-> bool:\n",
    "    \"\"\"Returns True iff the celsius temperature is greater than the freezing point\n",
    "    \n",
    "    >>> above_freezing(5.2)\n",
    "    True\n",
    "    >>> above_freezing(-2)\n",
    "    False\n",
    "    \"\"\"\n",
    "    return celsius > 0\n",
    "celsius = above_freezing(5.2)\n",
    "# isinstance(celsius, float)"
   ]
  },
  {
   "cell_type": "code",
   "execution_count": 3,
   "metadata": {},
   "outputs": [
    {
     "name": "stderr",
     "output_type": "stream",
     "text": [
      "....\n",
      "----------------------------------------------------------------------\n",
      "Ran 4 tests in 0.003s\n",
      "\n",
      "OK\n"
     ]
    }
   ],
   "source": [
    "class TestAboveFreezing(unittest.TestCase):\n",
    "    \"\"\"Creating test cases for the above_freezing function\"\"\"\n",
    "    \n",
    "    def test_above_freezing_isinstance(self):\n",
    "        \"\"\"Is function parameter of type float \"\"\"\n",
    "        celsius = -1.3\n",
    "        self.assertIsInstance(celsius, float)\n",
    "    \n",
    "    def test_above_freezing_above(self):\n",
    "        \"\"\"Test, temperature above freezing\"\"\"\n",
    "        expected = True\n",
    "        actual = above_freezing(5.2)\n",
    "        self.assertEqual(actual, expected, 'The temperature is above freezing')\n",
    "    \n",
    "    def test_above_freezing_below(self):\n",
    "        \"\"\"Test, temperature below freezing\"\"\"\n",
    "        expected = False\n",
    "        actual = above_freezing(-2)\n",
    "        self.assertEqual(expected, actual, 'The temperature is below freezing')\n",
    "        \n",
    "    def test_above_freezing_at_zero(self):\n",
    "        \"\"\"Test a temperature that is at freezing.\"\"\"\n",
    "        expected = False \n",
    "        actual = above_freezing(0)\n",
    "        self.assertEqual(expected, actual, 'The temperature is at the freezing mark')\n",
    "\n",
    "if __name__ == '__main__':\n",
    "    unittest.main(argv=['first-arg-is-ignored'], exit=False)"
   ]
  },
  {
   "cell_type": "code",
   "execution_count": 4,
   "metadata": {},
   "outputs": [],
   "source": [
    "def running_sum(lst:List[float])->None:\n",
    "    \"\"\"Modify L so that it contains the running sums of its original items.\n",
    "    \n",
    "    >>> L = [4, 0, 2, -5, 0]\n",
    "    >>> running_sum(L)\n",
    "    >>> L\n",
    "    [4, 4, 6, 1, 1]\n",
    "     \"\"\"\n",
    "    for i in range(1, len(lst)):\n",
    "        lst[i] = lst[i - 1] + lst[i]"
   ]
  },
  {
   "cell_type": "code",
   "execution_count": 5,
   "metadata": {},
   "outputs": [
    {
     "name": "stderr",
     "output_type": "stream",
     "text": [
      "...........\n",
      "----------------------------------------------------------------------\n",
      "Ran 11 tests in 0.011s\n",
      "\n",
      "OK\n"
     ]
    }
   ],
   "source": [
    "class Test_Running_Sum(unittest.TestCase):\n",
    "    \"\"\"Tests for running_sum.\"\"\"\n",
    "    \n",
    "    def test_running_sum_empty(self):\n",
    "        \"\"\"Test a empty list.\"\"\"\n",
    "        argument = []\n",
    "        expected = []\n",
    "        running_sum(argument)\n",
    "        self.assertEqual(expected, argument, 'The list is empty')\n",
    "        \n",
    "    def test_running_sum_one_item(self):\n",
    "        \"\"\"Test a one-item list.\"\"\"\n",
    "        argument = [5]\n",
    "        expected = [5]\n",
    "        running_sum(argument)\n",
    "        self.assertEqual(expected, argument)\n",
    "        \n",
    "    def test_running_sum_tow_item_list(self):\n",
    "        \"\"\"Test a two-item list\"\"\"\n",
    "        argument = [2, 5]\n",
    "        expected = [2, 7]\n",
    "        running_sum(argument)\n",
    "        self.assertEqual(expected, argument, 'The list contains two items')\n",
    "        \n",
    "    def test_running_sum_multi_negative(self):\n",
    "        \"\"\"Test a multiple negative item list\"\"\"\n",
    "        argument = [-1, -5, -3, -4]\n",
    "        expected = [-1, -6, -9, -13]\n",
    "        running_sum(argument)\n",
    "        self.assertEqual(expected, argument, 'The list contains negative items')\n",
    "        \n",
    "    def test_running_sum_multi_zeros(self):\n",
    "        \"\"\"Test a list with values of zero.\"\"\"\n",
    "        argument = [0, 0, 0, 0]\n",
    "        expected = [0, 0, 0, 0]\n",
    "        running_sum(argument)\n",
    "        self.assertEqual(expected, argument, 'The list contains items of value zero')\n",
    "         \n",
    "    \n",
    "    \n",
    "    def test_running_sum_multi_positive(self):\n",
    "        \"\"\"Test a all positive list.\"\"\"\n",
    "        argument = [4, 2, 3, 6]\n",
    "        expected = [4, 6, 9, 15]\n",
    "        running_sum(argument)\n",
    "        self.assertEqual(expected, argument, 'The list contains all positive values')  \n",
    "        \n",
    "    def test_running_sum_multi_mixed(self):\n",
    "        \"\"\"Test a mixed value list.\"\"\"\n",
    "        argument = [4, 0, 2, -5, 0]\n",
    "        expected = [4, 4, 6, 1, 1]\n",
    "        running_sum(argument)\n",
    "        self.assertEqual(expected, argument, 'The list contains mixed values')\n",
    "\n",
    "if __name__ == '__main__':\n",
    "    unittest.main(argv=['first-arg-is-ignored'], exit=False)"
   ]
  },
  {
   "cell_type": "markdown",
   "metadata": {},
   "source": [
    "## Exercises"
   ]
  },
  {
   "cell_type": "code",
   "execution_count": 6,
   "metadata": {},
   "outputs": [
    {
     "name": "stderr",
     "output_type": "stream",
     "text": [
      ".................\n",
      "----------------------------------------------------------------------\n",
      "Ran 17 tests in 0.018s\n",
      "\n",
      "OK\n"
     ]
    }
   ],
   "source": [
    "# Exercise 1\n",
    "from typing import List\n",
    "def double_preceding(values: List[float]) -> None:\n",
    "    \"\"\"Replace each item in the list with twice the value of the\n",
    "    preceding item, and replace the first item with 0.\n",
    "\n",
    "    >>> L = [1, 2, 3]\n",
    "    >>> double_preceding(L)\n",
    "    >>> L\n",
    "    [0, 2, 4]\n",
    "    \"\"\"\n",
    "    if values != []:\n",
    "        temp = values[0]\n",
    "        values[0] = 0\n",
    "        for i in range(1, len(values)):\n",
    "            values[i] = 2 * temp\n",
    "            temp = values[i]\n",
    "double_preceding([1, 2, 3])\n",
    "\n",
    "\n",
    "\n",
    "class Test_Double_preceeding(unittest.TestCase):\n",
    "    '''Test for the double_preceeding function'''\n",
    "    \n",
    "    def test_double_preceeding_empty(self):\n",
    "        \"\"\"Test for a empty list\"\"\"\n",
    "        argument = []\n",
    "        expected = []\n",
    "        double_preceding(argument)\n",
    "        self.assertEqual(expected, argument, 'An empty list')\n",
    "        \n",
    "    def test_double_preceeding_single_item(self):\n",
    "        \"\"\"Test for single value list\"\"\"\n",
    "        argument = [5]\n",
    "        expected = [0]\n",
    "        double_preceding(argument)\n",
    "        self.assertEqual(expected, argument, 'List with single value')\n",
    "        \n",
    "    def test_double_preceeding_two_item(self):\n",
    "        \"\"\"Test for two items list\"\"\"\n",
    "        argument = [5, 2]\n",
    "        expected = [0, 10]\n",
    "        double_preceding(argument)\n",
    "        self.assertEqual(expected, argument, 'The lsit contains two items')\n",
    "    \n",
    "    def test_double_preceeding_multi_positives(self):\n",
    "        \"\"\"Test for multiple positive list\"\"\"\n",
    "        argument = [1, 2, 3]\n",
    "        expected = [0, 2, 4]\n",
    "        double_preceding(argument)\n",
    "        self.assertEqual(expected, argument, 'Contains multiple positive values')\n",
    "        \n",
    "    def test_running_sum_multi_zeros(self):\n",
    "        \"\"\"Test a list with values of zero.\"\"\"\n",
    "        argument = [0, 0, 0, 0]\n",
    "        expected = [0, 0, 0, 0]\n",
    "        double_preceding(argument)\n",
    "        self.assertEqual(expected, argument, 'The list contains items of value zero')\n",
    "        \n",
    "    def test_running_sum_multi_mixed(self):\n",
    "        \"\"\"Test a mixed value list.\"\"\"\n",
    "        argument = [4, 0, 2, -5, 0]\n",
    "        expected = [0, 8, 16, 32, 64]\n",
    "        double_preceding(argument)\n",
    "        self.assertEqual(expected, argument, 'The list contains mixed values')\n",
    "        \n",
    "\n",
    "if __name__ == '__main__':\n",
    "    unittest.main(argv=['first-arg-is-ignored'], exit=False)"
   ]
  },
  {
   "cell_type": "code",
   "execution_count": null,
   "metadata": {},
   "outputs": [],
   "source": []
  }
 ],
 "metadata": {
  "kernelspec": {
   "display_name": "Python 3.7.4 64-bit ('base': conda)",
   "language": "python",
   "name": "python37464bitbaseconda02803511e82243628460d84236bfc9e6"
  },
  "language_info": {
   "codemirror_mode": {
    "name": "ipython",
    "version": 3
   },
   "file_extension": ".py",
   "mimetype": "text/x-python",
   "name": "python",
   "nbconvert_exporter": "python",
   "pygments_lexer": "ipython3",
   "version": "3.7.6"
  },
  "toc": {
   "base_numbering": 1,
   "nav_menu": {},
   "number_sections": true,
   "sideBar": true,
   "skip_h1_title": false,
   "title_cell": "Table of Contents",
   "title_sidebar": "Contents",
   "toc_cell": false,
   "toc_position": {},
   "toc_section_display": true,
   "toc_window_display": false
  }
 },
 "nbformat": 4,
 "nbformat_minor": 4
}
