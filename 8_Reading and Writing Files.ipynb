{
 "cells": [
  {
   "cell_type": "markdown",
   "metadata": {},
   "source": [
    "# Reading and Writing Files"
   ]
  },
  {
   "cell_type": "markdown",
   "metadata": {
    "heading_collapsed": true
   },
   "source": [
    "## Reading"
   ]
  },
  {
   "cell_type": "code",
   "execution_count": 1,
   "metadata": {
    "hidden": true
   },
   "outputs": [],
   "source": [
    "%reload_ext autoreload\n",
    "%autoreload 2"
   ]
  },
  {
   "cell_type": "code",
   "execution_count": 2,
   "metadata": {
    "hidden": true
   },
   "outputs": [
    {
     "name": "stdout",
     "output_type": "stream",
     "text": [
      "First line of text\n",
      "Second line of text\n",
      "Third line of text\n",
      "\n"
     ]
    }
   ],
   "source": [
    "# method one of opening a file\n",
    "file = open('file_example.txt', 'r')\n",
    "content = file.read()\n",
    "file.close()\n",
    "print(content)"
   ]
  },
  {
   "cell_type": "code",
   "execution_count": 3,
   "metadata": {
    "hidden": true
   },
   "outputs": [
    {
     "name": "stdout",
     "output_type": "stream",
     "text": [
      "First line of text\n",
      "Second line of text\n",
      "Third line of text\n",
      "\n"
     ]
    }
   ],
   "source": [
    "# Method two of opening a file using the in-built special method\n",
    "file = open('file_example.txt')\n",
    "file.__enter__()\n",
    "print(file.read())\n",
    "file.__exit__()"
   ]
  },
  {
   "cell_type": "code",
   "execution_count": 4,
   "metadata": {
    "hidden": true
   },
   "outputs": [
    {
     "name": "stdout",
     "output_type": "stream",
     "text": [
      "First line of text\n",
      "Second line of text\n",
      "Third line of text\n",
      "\n"
     ]
    }
   ],
   "source": [
    "# method three of opening a file \n",
    "with open('file_example.txt', 'r') as file:\n",
    "    content = file.read()\n",
    "print(content)"
   ]
  },
  {
   "cell_type": "markdown",
   "metadata": {
    "heading_collapsed": true
   },
   "source": [
    "## Techniques for Reading Files"
   ]
  },
  {
   "cell_type": "code",
   "execution_count": 5,
   "metadata": {
    "hidden": true
   },
   "outputs": [
    {
     "name": "stdout",
     "output_type": "stream",
     "text": [
      "The first ten characters are \n",
      " First line\n",
      "\n",
      "The rest \n",
      " of text\n",
      "Second line of text\n",
      "Third line of text\n",
      "\n"
     ]
    }
   ],
   "source": [
    "with open('file_example.txt', 'r') as file:\n",
    "    first_ten_words = file.read(10)\n",
    "    the_rest = file.read()\n",
    "print(f'The first ten characters are \\n {first_ten_words}')\n",
    "print(f'\\nThe rest \\n{the_rest}')"
   ]
  },
  {
   "cell_type": "code",
   "execution_count": 6,
   "metadata": {
    "hidden": true
   },
   "outputs": [
    {
     "name": "stdout",
     "output_type": "stream",
     "text": [
      "['First line of text\\n', 'Second line of text\\n', 'Third line of text\\n']\n"
     ]
    }
   ],
   "source": [
    "with open('file_example.txt', 'r')as file:\n",
    "    content = file.readlines()\n",
    "print(content)"
   ]
  },
  {
   "cell_type": "code",
   "execution_count": 7,
   "metadata": {
    "hidden": true
   },
   "outputs": [
    {
     "data": {
      "text/plain": [
       "['Mercury\\n', 'Venus\\n', 'Earth\\n', 'Mars\\n']"
      ]
     },
     "execution_count": 7,
     "metadata": {},
     "output_type": "execute_result"
    }
   ],
   "source": [
    "with open('planents.txt', 'r')as file:\n",
    "    planents = file.readlines()\n",
    "\n",
    "planents"
   ]
  },
  {
   "cell_type": "code",
   "execution_count": 8,
   "metadata": {
    "hidden": true
   },
   "outputs": [
    {
     "name": "stdout",
     "output_type": "stream",
     "text": [
      "Mars\n",
      "Earth\n",
      "Venus\n",
      "Mercury\n"
     ]
    }
   ],
   "source": [
    "for planent in reversed(planents):\n",
    "    print(planent.strip())"
   ]
  },
  {
   "cell_type": "code",
   "execution_count": 9,
   "metadata": {
    "hidden": true
   },
   "outputs": [
    {
     "name": "stdout",
     "output_type": "stream",
     "text": [
      "8\n",
      "6\n",
      "6\n",
      "5\n"
     ]
    }
   ],
   "source": [
    "with open('planents.txt', 'r') as file:\n",
    "    for line in file:\n",
    "        print(line.__len__())"
   ]
  },
  {
   "cell_type": "code",
   "execution_count": 10,
   "metadata": {
    "hidden": true
   },
   "outputs": [
    {
     "name": "stdout",
     "output_type": "stream",
     "text": [
      "Total number of pelts : 373\n"
     ]
    }
   ],
   "source": [
    "with open('hopedale.txt', 'r')as hopedale_file:\n",
    "    hopedale_file.readline()\n",
    "    data = hopedale_file.readline()\n",
    "    while data.startswith('#'):\n",
    "        data = hopedale_file.readline()\n",
    "    total_pelts = int(data)\n",
    "    for data in hopedale_file:\n",
    "        total_pelts += int(data.strip())\n",
    "print(f'Total number of pelts : {total_pelts}')"
   ]
  },
  {
   "cell_type": "markdown",
   "metadata": {},
   "source": [
    "## Writing to file"
   ]
  },
  {
   "cell_type": "code",
   "execution_count": 11,
   "metadata": {},
   "outputs": [],
   "source": [
    "with open('topics.txt', 'w') as file_object:\n",
    "    file_object.write('Computer Science')"
   ]
  },
  {
   "cell_type": "code",
   "execution_count": 12,
   "metadata": {},
   "outputs": [],
   "source": [
    "with open('topics.txt', 'a') as file_object:\n",
    "    file_object.write('\\nSoftware Engineering')"
   ]
  },
  {
   "cell_type": "code",
   "execution_count": 13,
   "metadata": {},
   "outputs": [],
   "source": [
    "from typing import TextIO\n",
    "from io import StringIO\n",
    "\n",
    "def sum_number_pair(input_file:TextIO, output_file:TextIO) -> None:\n",
    "    \"\"\"Read the data from input_file, which contains two floats per line\n",
    "    separated by a space. output_file for writing and, for each line in\n",
    "    input_file, write a line to output_file that contains the two floats from\n",
    "    the corresponding line of input_file plus a space and the sum of the two\n",
    "    floats.\n",
    "    \"\"\"\n",
    "    \n",
    "    for number_pair in input_file:\n",
    "        number_pair = number_pair.strip()\n",
    "        operands = number_pair.split()\n",
    "        total = float(operands[0]) + float(operands[1])\n",
    "        newline = '{0} {1}\\n'.format(number_pair, total)\n",
    "        output_file.write(f'{operands} {total}')\n",
    "if __name__ == '__main__':\n",
    "    with open('number_pairs.txt', 'r')as input_file,\\\n",
    "    open('number_pairs_sum.txt', 'w') as output_file:\n",
    "        sum_number_pair(input_file, output_file)"
   ]
  },
  {
   "cell_type": "code",
   "execution_count": 14,
   "metadata": {},
   "outputs": [
    {
     "data": {
      "text/plain": [
       "'1.3 3.4\\n2 4.2\\n-1 1\\n'"
      ]
     },
     "execution_count": 14,
     "metadata": {},
     "output_type": "execute_result"
    }
   ],
   "source": [
    "infile = StringIO('1.3 3.4\\n2 4.2\\n-1 1\\n')\n",
    "infile.getvalue()"
   ]
  },
  {
   "cell_type": "code",
   "execution_count": 15,
   "metadata": {},
   "outputs": [],
   "source": [
    "from typing import TextIO\n",
    "from io import StringIO\n",
    "\n",
    "def sum_number_pair(input_file:TextIO, output_file:TextIO) -> None:\n",
    "    \"\"\"Read the data from input_file, which contains two floats per line\n",
    "    separated by a space. output_file for writing and, for each line in\n",
    "    input_file, write a line to output_file that contains the two floats from\n",
    "    the corresponding line of input_file plus a space and the sum of the two\n",
    "    floats.\n",
    "    \n",
    "    >>> infile = StringIO('1.3 3.4\\\\n2 4.2\\\\n-1 1\\\\n')\n",
    "    >>> output = StringIO()\n",
    "    >>> sum_number_pair(infile, output)\n",
    "    >>> output.getvalue()\n",
    "    '1.3 3.4 4.7\\\\n2 4.2 6.2\\\\n-1 1 0.0\\\\n'\n",
    "    \"\"\"\n",
    "    \n",
    "    for number_pair in input_file:\n",
    "        number_pair = number_pair.strip()\n",
    "        operands = number_pair.split()\n",
    "        total = float(operands[0]) + float(operands[1])\n",
    "        newline = '{0} {1}\\n'.format(number_pair, total)\n",
    "        output_file.write(f'{number_pair} {total}')\n",
    "if __name__ == '__main__':\n",
    "    with open('number_pairs.txt', 'r')as input_file,\\\n",
    "    open('number_pairs_sum.txt', 'w') as output_file:\n",
    "        sum_number_pair(input_file, output_file)"
   ]
  },
  {
   "cell_type": "code",
   "execution_count": 16,
   "metadata": {},
   "outputs": [
    {
     "name": "stdout",
     "output_type": "stream",
     "text": [
      "22\n",
      "29\n",
      "2\n",
      "16\n",
      "12\n",
      "35\n",
      "8\n",
      "83\n",
      "166\n"
     ]
    }
   ],
   "source": [
    "from time_series import skip_header\n",
    "\n",
    "def process_file(reader:TextIO)->None:\n",
    "    \"\"\"Read and print the data from reader, which must start with a single\n",
    "    description line, then a sequence of lines beginning with '#', then a\n",
    "    sequence of data.\n",
    "    >>> infile = StringIO('Example\\\\n# Comment\\\\nLine 1\\\\nLine 2\\\\n')\n",
    "    >>> process_file(infile)\n",
    "    Line 1\n",
    "    Line 2\n",
    "    \"\"\"\n",
    "    line = skip_header(reader).strip()\n",
    "    print(line)\n",
    "    for line in reader:\n",
    "        line = line.strip()\n",
    "        print(line)\n",
    "\n",
    "if __name__ == '__main__':\n",
    "    with open('hopedale.txt', 'r') as input_file:\n",
    "        process_file(input_file)"
   ]
  },
  {
   "cell_type": "code",
   "execution_count": 17,
   "metadata": {},
   "outputs": [
    {
     "name": "stdout",
     "output_type": "stream",
     "text": [
      "**********************************************************************\n",
      "File \"__main__\", line 14, in __main__.sum_number_pair\n",
      "Failed example:\n",
      "    output.getvalue()\n",
      "Expected:\n",
      "    '1.3 3.4 4.7\\n2 4.2 6.2\\n-1 1 0.0\\n'\n",
      "Got:\n",
      "    '1.3 3.4 4.72 4.2 6.2-1 1 0.0'\n",
      "**********************************************************************\n",
      "1 items had failures:\n",
      "   1 of   4 in __main__.sum_number_pair\n",
      "***Test Failed*** 1 failures.\n"
     ]
    },
    {
     "data": {
      "text/plain": [
       "TestResults(failed=1, attempted=6)"
      ]
     },
     "execution_count": 17,
     "metadata": {},
     "output_type": "execute_result"
    }
   ],
   "source": [
    "from doctest import testmod\n",
    "testmod()"
   ]
  },
  {
   "cell_type": "code",
   "execution_count": 29,
   "metadata": {},
   "outputs": [
    {
     "name": "stdout",
     "output_type": "stream",
     "text": [
      "mising values 2\n",
      "8\n"
     ]
    }
   ],
   "source": [
    "def find_smallest(reader:TextIO)-> int:\n",
    "    \"\"\"Read and process reader and return the smallest value after the time_series header.\n",
    "    \n",
    "    >>> infile = StringIO('Example\\\\n1\\\\n2\\\\n3\\\\n')\n",
    "    >>> find_smallest(infile)\n",
    "    1\n",
    "    >>> infile = StringIO('Example\\\\n3\\\\n1\\\\n2\\\\n')\n",
    "    >>> find_smallest(infile)\n",
    "    1\n",
    "    \"\"\"\n",
    "    smallest = int(skip_header(reader).strip())\n",
    "    missing = 0\n",
    "    for number in reader:\n",
    "        number = number.strip()\n",
    "        if number != '-':\n",
    "            number = int(number)\n",
    "            smallest = min(smallest, number)\n",
    "       # calculates the amount of missing values in the data\n",
    "        if number == '-':\n",
    "            missing += 1\n",
    "    print(f'mising values {missing}')\n",
    "    return smallest\n",
    "\n",
    "if __name__ == '__main__':\n",
    "    with open('hopedale.txt', 'r') as reader:\n",
    "        smallest = find_smallest(reader)\n",
    "        print(smallest)"
   ]
  },
  {
   "cell_type": "code",
   "execution_count": null,
   "metadata": {},
   "outputs": [],
   "source": []
  },
  {
   "cell_type": "code",
   "execution_count": null,
   "metadata": {},
   "outputs": [],
   "source": []
  },
  {
   "cell_type": "code",
   "execution_count": null,
   "metadata": {},
   "outputs": [],
   "source": []
  },
  {
   "cell_type": "code",
   "execution_count": null,
   "metadata": {},
   "outputs": [],
   "source": []
  },
  {
   "cell_type": "code",
   "execution_count": null,
   "metadata": {},
   "outputs": [],
   "source": []
  },
  {
   "cell_type": "code",
   "execution_count": null,
   "metadata": {},
   "outputs": [],
   "source": []
  },
  {
   "cell_type": "code",
   "execution_count": null,
   "metadata": {},
   "outputs": [],
   "source": []
  },
  {
   "cell_type": "code",
   "execution_count": null,
   "metadata": {},
   "outputs": [],
   "source": []
  }
 ],
 "metadata": {
  "kernelspec": {
   "display_name": "Python 3.7.4 64-bit ('base': conda)",
   "language": "python",
   "name": "python37464bitbaseconda02803511e82243628460d84236bfc9e6"
  },
  "language_info": {
   "codemirror_mode": {
    "name": "ipython",
    "version": 3
   },
   "file_extension": ".py",
   "mimetype": "text/x-python",
   "name": "python",
   "nbconvert_exporter": "python",
   "pygments_lexer": "ipython3",
   "version": "3.7.6"
  },
  "toc": {
   "base_numbering": 1,
   "nav_menu": {},
   "number_sections": true,
   "sideBar": true,
   "skip_h1_title": false,
   "title_cell": "Table of Contents",
   "title_sidebar": "Contents",
   "toc_cell": false,
   "toc_position": {},
   "toc_section_display": true,
   "toc_window_display": false
  }
 },
 "nbformat": 4,
 "nbformat_minor": 4
}
