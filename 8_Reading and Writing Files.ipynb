{
 "cells": [
  {
   "cell_type": "markdown",
   "metadata": {},
   "source": [
    "# Reading and Writing Files"
   ]
  },
  {
   "cell_type": "markdown",
   "metadata": {
    "heading_collapsed": true
   },
   "source": [
    "## Reading"
   ]
  },
  {
   "cell_type": "code",
   "execution_count": 1,
   "metadata": {
    "hidden": true
   },
   "outputs": [],
   "source": [
    "%reload_ext autoreload\n",
    "%autoreload 2"
   ]
  },
  {
   "cell_type": "code",
   "execution_count": 314,
   "metadata": {
    "hidden": true
   },
   "outputs": [
    {
     "name": "stdout",
     "output_type": "stream",
     "text": [
      "First line of text\n",
      "Second line of text\n",
      "Third line of text\n",
      "\n"
     ]
    }
   ],
   "source": [
    "# method one of opening a file\n",
    "file = open('files/file_example.txt', 'r')\n",
    "content = file.read()\n",
    "file.close()\n",
    "print(content)"
   ]
  },
  {
   "cell_type": "code",
   "execution_count": 315,
   "metadata": {
    "hidden": true
   },
   "outputs": [
    {
     "name": "stdout",
     "output_type": "stream",
     "text": [
      "First line of text\n",
      "Second line of text\n",
      "Third line of text\n",
      "\n"
     ]
    }
   ],
   "source": [
    "# Method two of opening a file using the in-built special method\n",
    "file = open('files/file_example.txt')\n",
    "file.__enter__()\n",
    "print(file.read())\n",
    "file.__exit__()"
   ]
  },
  {
   "cell_type": "code",
   "execution_count": 316,
   "metadata": {
    "hidden": true
   },
   "outputs": [
    {
     "name": "stdout",
     "output_type": "stream",
     "text": [
      "First line of text\n",
      "Second line of text\n",
      "Third line of text\n",
      "\n"
     ]
    }
   ],
   "source": [
    "# method three of opening a file \n",
    "with open('files/file_example.txt', 'r') as file:\n",
    "    content = file.read()\n",
    "print(content)"
   ]
  },
  {
   "cell_type": "markdown",
   "metadata": {
    "heading_collapsed": true
   },
   "source": [
    "## Techniques for Reading Files"
   ]
  },
  {
   "cell_type": "code",
   "execution_count": 298,
   "metadata": {
    "hidden": true
   },
   "outputs": [
    {
     "name": "stdout",
     "output_type": "stream",
     "text": [
      "The first ten characters are \n",
      " First line\n",
      "\n",
      "The rest \n",
      " of text\n",
      "Second line of text\n",
      "Third line of text\n",
      "\n"
     ]
    }
   ],
   "source": [
    "with open('files/file_example.txt', 'r') as file:\n",
    "    first_ten_words = file.read(10)\n",
    "    the_rest = file.read()\n",
    "print(f'The first ten characters are \\n {first_ten_words}')\n",
    "print(f'\\nThe rest \\n{the_rest}')"
   ]
  },
  {
   "cell_type": "code",
   "execution_count": 299,
   "metadata": {
    "hidden": true
   },
   "outputs": [
    {
     "name": "stdout",
     "output_type": "stream",
     "text": [
      "['First line of text\\n', 'Second line of text\\n', 'Third line of text\\n']\n"
     ]
    }
   ],
   "source": [
    "with open('files/file_example.txt', 'r')as file:\n",
    "    content = file.readlines()\n",
    "print(content)"
   ]
  },
  {
   "cell_type": "code",
   "execution_count": 300,
   "metadata": {
    "hidden": true
   },
   "outputs": [
    {
     "data": {
      "text/plain": [
       "['Mercury\\n', 'Venus\\n', 'Earth\\n', 'Mars\\n']"
      ]
     },
     "execution_count": 300,
     "metadata": {},
     "output_type": "execute_result"
    }
   ],
   "source": [
    "with open('files/planents.txt', 'r')as file:\n",
    "    planents = file.readlines()\n",
    "\n",
    "planents"
   ]
  },
  {
   "cell_type": "code",
   "execution_count": 8,
   "metadata": {
    "hidden": true
   },
   "outputs": [
    {
     "name": "stdout",
     "output_type": "stream",
     "text": [
      "Mars\n",
      "Earth\n",
      "Venus\n",
      "Mercury\n"
     ]
    }
   ],
   "source": [
    "for planent in reversed(planents):\n",
    "    print(planent.strip())"
   ]
  },
  {
   "cell_type": "code",
   "execution_count": 301,
   "metadata": {
    "hidden": true
   },
   "outputs": [
    {
     "name": "stdout",
     "output_type": "stream",
     "text": [
      "8\n",
      "6\n",
      "6\n",
      "5\n"
     ]
    }
   ],
   "source": [
    "with open('files/planents.txt', 'r') as file:\n",
    "    for line in file:\n",
    "        print(line.__len__())"
   ]
  },
  {
   "cell_type": "code",
   "execution_count": 1,
   "metadata": {
    "hidden": true
   },
   "outputs": [
    {
     "ename": "ValueError",
     "evalue": "invalid literal for int() with base 10: '-'",
     "output_type": "error",
     "traceback": [
      "\u001b[0;31m---------------------------------------------------------------------------\u001b[0m",
      "\u001b[0;31mValueError\u001b[0m                                Traceback (most recent call last)",
      "\u001b[0;32m<ipython-input-1-8de105473a54>\u001b[0m in \u001b[0;36m<module>\u001b[0;34m\u001b[0m\n\u001b[1;32m      7\u001b[0m     \u001b[0mtotal_pelts\u001b[0m \u001b[0;34m=\u001b[0m \u001b[0mint\u001b[0m\u001b[0;34m(\u001b[0m\u001b[0mdata\u001b[0m\u001b[0;34m)\u001b[0m\u001b[0;34m\u001b[0m\u001b[0;34m\u001b[0m\u001b[0m\n\u001b[1;32m      8\u001b[0m     \u001b[0;32mfor\u001b[0m \u001b[0mdata\u001b[0m \u001b[0;32min\u001b[0m \u001b[0mhopedale_file\u001b[0m\u001b[0;34m:\u001b[0m\u001b[0;34m\u001b[0m\u001b[0;34m\u001b[0m\u001b[0m\n\u001b[0;32m----> 9\u001b[0;31m         \u001b[0mtotal_pelts\u001b[0m \u001b[0;34m+=\u001b[0m \u001b[0mint\u001b[0m\u001b[0;34m(\u001b[0m\u001b[0mdata\u001b[0m\u001b[0;34m.\u001b[0m\u001b[0mstrip\u001b[0m\u001b[0;34m(\u001b[0m\u001b[0;34m)\u001b[0m\u001b[0;34m)\u001b[0m\u001b[0;34m\u001b[0m\u001b[0;34m\u001b[0m\u001b[0m\n\u001b[0m\u001b[1;32m     10\u001b[0m \u001b[0mprint\u001b[0m\u001b[0;34m(\u001b[0m\u001b[0;34mf'Total number of pelts : {total_pelts}'\u001b[0m\u001b[0;34m)\u001b[0m\u001b[0;34m\u001b[0m\u001b[0;34m\u001b[0m\u001b[0m\n",
      "\u001b[0;31mValueError\u001b[0m: invalid literal for int() with base 10: '-'"
     ]
    }
   ],
   "source": [
    "with open('files/hopedale.txt', 'r')as hopedale_file:\n",
    "    hopedale_file.readline()\n",
    "    data = hopedale_file.readline()\n",
    "    total = 0.0\n",
    "    while data.startswith('#'):\n",
    "        data = hopedale_file.readline()\n",
    "    total_pelts = int(data)\n",
    "    for data in hopedale_file:\n",
    "        total_pelts += int(data.strip())\n",
    "print(f'Total number of pelts : {total_pelts}')"
   ]
  },
  {
   "cell_type": "markdown",
   "metadata": {},
   "source": [
    "## Writing to file"
   ]
  },
  {
   "cell_type": "code",
   "execution_count": 296,
   "metadata": {},
   "outputs": [],
   "source": [
    "with open('files/topics.txt', 'w') as file_object:\n",
    "    file_object.write('Computer Science')"
   ]
  },
  {
   "cell_type": "code",
   "execution_count": 297,
   "metadata": {},
   "outputs": [],
   "source": [
    "with open('files/topics.txt', 'a') as file_object:\n",
    "    file_object.write('\\nSoftware Engineering')"
   ]
  },
  {
   "cell_type": "code",
   "execution_count": 292,
   "metadata": {},
   "outputs": [],
   "source": [
    "from typing import TextIO\n",
    "from io import StringIO\n",
    "\n",
    "def sum_number_pair(input_file:TextIO, output_file:TextIO) -> None:\n",
    "    \"\"\"Read the data from input_file, which contains two floats per line\n",
    "    separated by a space. output_file for writing and, for each line in\n",
    "    input_file, write a line to output_file that contains the two floats from\n",
    "    the corresponding line of input_file plus a space and the sum of the two\n",
    "    floats.\n",
    "    \"\"\"\n",
    "    \n",
    "    for number_pair in input_file:\n",
    "        number_pair = number_pair.strip()\n",
    "        operands = number_pair.split()\n",
    "        total = float(operands[0]) + float(operands[1])\n",
    "        newline = '{0} {1}\\n'.format(number_pair, total)\n",
    "        output_file.write(f'{operands} {total}')\n",
    "if __name__ == '__main__':\n",
    "    with open('files/number_pairs.txt', 'r')as input_file,\\\n",
    "    open('files/number_pairs_sum.txt', 'w') as output_file:\n",
    "        sum_number_pair(input_file, output_file)"
   ]
  },
  {
   "cell_type": "code",
   "execution_count": 15,
   "metadata": {},
   "outputs": [
    {
     "data": {
      "text/plain": [
       "'1.3 3.4\\n2 4.2\\n-1 1\\n'"
      ]
     },
     "execution_count": 15,
     "metadata": {},
     "output_type": "execute_result"
    }
   ],
   "source": [
    "infile = StringIO('1.3 3.4\\n2 4.2\\n-1 1\\n')\n",
    "infile.getvalue()"
   ]
  },
  {
   "cell_type": "code",
   "execution_count": 291,
   "metadata": {},
   "outputs": [],
   "source": [
    "from typing import TextIO\n",
    "from io import StringIO\n",
    "\n",
    "def sum_number_pair(input_file:TextIO, output_file:TextIO) -> None:\n",
    "    \"\"\"Read the data from input_file, which contains two floats per line\n",
    "    separated by a space. output_file for writing and, for each line in\n",
    "    input_file, write a line to output_file that contains the two floats from\n",
    "    the corresponding line of input_file plus a space and the sum of the two\n",
    "    floats.\n",
    "    \n",
    "    >>> infile = StringIO('1.3 3.4\\\\n2 4.2\\\\n-1 1\\\\n')\n",
    "    >>> output = StringIO()\n",
    "    >>> sum_number_pair(infile, output)\n",
    "    >>> output.getvalue()\n",
    "    '1.3 3.4 4.7\\\\n2 4.2 6.2\\\\n-1 1 0.0\\\\n'\n",
    "    \"\"\"\n",
    "    \n",
    "    for number_pair in input_file:\n",
    "        number_pair = number_pair.strip()\n",
    "        operands = number_pair.split()\n",
    "        total = float(operands[0]) + float(operands[1])\n",
    "        newline = '{0} {1}\\n'.format(number_pair, total)\n",
    "        output_file.write(f'{number_pair} {total}')\n",
    "if __name__ == '__main__':\n",
    "    with open('files/number_pairs.txt', 'r')as input_file,\\\n",
    "    open('files/number_pairs_sum.txt', 'w') as output_file:\n",
    "        sum_number_pair(input_file, output_file)"
   ]
  },
  {
   "cell_type": "code",
   "execution_count": 290,
   "metadata": {},
   "outputs": [
    {
     "name": "stdout",
     "output_type": "stream",
     "text": [
      "22\n",
      "29\n",
      "-\n",
      "16\n",
      "12\n",
      "35\n",
      "8\n",
      "83\n",
      "-\n"
     ]
    }
   ],
   "source": [
    "from time_series import skip_header, find_largest\n",
    "\n",
    "def process_file(reader:TextIO)->None:\n",
    "    \"\"\"Read and print the data from reader, which must start with a single\n",
    "    description line, then a sequence of lines beginning with '#', then a\n",
    "    sequence of data.\n",
    "    >>> infile = StringIO('Example\\\\n# Comment\\\\nLine 1\\\\nLine 2\\\\n')\n",
    "    >>> process_file(infile)\n",
    "    Line 1\n",
    "    Line 2\n",
    "    \"\"\"\n",
    "    line = skip_header(reader).strip()\n",
    "    print(line)\n",
    "    for line in reader:\n",
    "        line = line.strip()\n",
    "        print(line)\n",
    "\n",
    "if __name__ == '__main__':\n",
    "    with open('files/hopedale.txt', 'r') as input_file:\n",
    "        process_file(input_file)"
   ]
  },
  {
   "cell_type": "code",
   "execution_count": 18,
   "metadata": {},
   "outputs": [
    {
     "name": "stdout",
     "output_type": "stream",
     "text": [
      "**********************************************************************\n",
      "File \"__main__\", line 14, in __main__.sum_number_pair\n",
      "Failed example:\n",
      "    output.getvalue()\n",
      "Expected:\n",
      "    '1.3 3.4 4.7\\n2 4.2 6.2\\n-1 1 0.0\\n'\n",
      "Got:\n",
      "    '1.3 3.4 4.72 4.2 6.2-1 1 0.0'\n",
      "**********************************************************************\n",
      "1 items had failures:\n",
      "   1 of   4 in __main__.sum_number_pair\n",
      "***Test Failed*** 1 failures.\n"
     ]
    },
    {
     "data": {
      "text/plain": [
       "TestResults(failed=1, attempted=6)"
      ]
     },
     "execution_count": 18,
     "metadata": {},
     "output_type": "execute_result"
    }
   ],
   "source": [
    "from doctest import testmod\n",
    "testmod()"
   ]
  },
  {
   "cell_type": "code",
   "execution_count": 293,
   "metadata": {},
   "outputs": [
    {
     "name": "stdout",
     "output_type": "stream",
     "text": [
      "mising values 2\n",
      "8\n"
     ]
    }
   ],
   "source": [
    "def find_smallest(reader:TextIO)-> int:\n",
    "    \"\"\"Read and process reader and return the smallest value after the time_series header.\n",
    "    \n",
    "    >>> infile = StringIO('Example\\\\n1\\\\n2\\\\n3\\\\n')\n",
    "    >>> find_smallest(infile)\n",
    "    1\n",
    "    >>> infile = StringIO('Example\\\\n3\\\\n1\\\\n2\\\\n')\n",
    "    >>> find_smallest(infile)\n",
    "    1\n",
    "    \"\"\"\n",
    "    smallest = int(skip_header(reader).strip())\n",
    "    missing = 0\n",
    "    for number in reader:\n",
    "        number = number.strip()\n",
    "        if number != '-':\n",
    "            number = int(number)\n",
    "            smallest = min(smallest, number)\n",
    "       # calculates the amount of missing values in the data\n",
    "        if number == '-':\n",
    "            missing += 1\n",
    "    print(f'mising values {missing}')\n",
    "    return smallest\n",
    "\n",
    "if __name__ == '__main__':\n",
    "    with open('files/hopedale.txt', 'r') as reader:\n",
    "        smallest = find_smallest(reader)\n",
    "        print(smallest)"
   ]
  },
  {
   "cell_type": "code",
   "execution_count": 294,
   "metadata": {},
   "outputs": [
    {
     "name": "stdout",
     "output_type": "stream",
     "text": [
      "6991\n"
     ]
    }
   ],
   "source": [
    "def process_file(reader:TextIO)->None:\n",
    "    \"\"\"Read and print the data from reader, which must start with a single\n",
    "    description line, then a sequence of lines beginning with '#', then a\n",
    "    sequence of data.\n",
    "    >>> infile = StringIO('Example\\\\n 20. 3.\\\\n 100. 17. 15.\\\\n')\n",
    "    >>> process_file(infile)\n",
    "    100\n",
    "    \"\"\"\n",
    "    line = skip_header(reader).strip()\n",
    "    largest  = find_largest(line)\n",
    "    for line in reader:\n",
    "            large = find_largest(line)\n",
    "            if large > largest:\n",
    "                largest = large\n",
    "    return largest\n",
    "\n",
    "if __name__ == '__main__':\n",
    "    with open('files/lynx.txt', 'r') as input_file:\n",
    "        print(process_file(input_file))"
   ]
  },
  {
   "cell_type": "markdown",
   "metadata": {
    "heading_collapsed": true
   },
   "source": [
    "## Exercises"
   ]
  },
  {
   "cell_type": "markdown",
   "metadata": {
    "hidden": true
   },
   "source": [
    "**Exercise 1**\n",
    "\n",
    "Write a program that makes a backup of a file. Your program should\n",
    "prompt the user for the name of the file to copy and then write a new file\n",
    "with the same contents but with .bak as the file extension."
   ]
  },
  {
   "cell_type": "code",
   "execution_count": 287,
   "metadata": {
    "hidden": true
   },
   "outputs": [
    {
     "name": "stdout",
     "output_type": "stream",
     "text": [
      "Enter file name : hopedale.txt\n"
     ]
    }
   ],
   "source": [
    "def create_backup(input_file:TextIO)->None:\n",
    "    \"\"\" Create a backup file of the file proposed by the user\n",
    "    \n",
    "    >>> infile = StringIO('hopedale.txt')\n",
    "    >>> reader = infile.getvalue()\n",
    "    >>> create_backup(reader)\n",
    "    '_files_bak/hopedale.bak'\n",
    "    \"\"\"\n",
    "    file_path = 'files/'\n",
    "    backup_path = '_files_bak/'\n",
    "    backup_name = backup_path+input_file[:-4]\n",
    "    with open(file_path+input_file, 'r') as file, open(backup_name+'.bak', 'w') as f_obj:\n",
    "        content = file.read()\n",
    "        f_obj.write(content)\n",
    "        return f_obj.name\n",
    "    print(f\"Backup created at '{backup_name}'\")\n",
    "    \n",
    "if __name__ == '__main__':\n",
    "    filename = str(input('Enter file name : '))\n",
    "    while filename:\n",
    "        try:\n",
    "            create_backup(filename)\n",
    "            break\n",
    "        except Exception as e:\n",
    "            print(f'There was an error : {e}')\n",
    "            filename = str(input('Enter file name : '))\n",
    "        "
   ]
  },
  {
   "cell_type": "markdown",
   "metadata": {
    "hidden": true
   },
   "source": [
    "**Exercise 2**\n",
    "\n",
    "Suppose the file alkaline_metals.txt contains the name, atomic number, and\n",
    "atomic weight of the alkaline earth metals:\n",
    "\n",
    "beryllium 4 9.012\n",
    "\n",
    "magnesium 12 24.305\n",
    "\n",
    "calcium 20 20.078\n",
    "\n",
    "strontium 38 87.62\n",
    "\n",
    "barium 56 137.327\n",
    "\n",
    "radium 88 226\n",
    "\n",
    "Write a for loop to read the contents of alkaline_metals.txt and store it in a list\n",
    "of lists, with each inner list containing the name, atomic number, and\n",
    "atomic weight for an element."
   ]
  },
  {
   "cell_type": "code",
   "execution_count": 288,
   "metadata": {
    "hidden": true
   },
   "outputs": [
    {
     "name": "stdout",
     "output_type": "stream",
     "text": [
      "[['beryllium', 'magnesium', 'calcium', 'strontium', 'barium', 'radium'], [4, 12, 20, 38, 56, 88], [9.012, 24.305, 20.078, 87.62, 137.327, 226.0]]\n"
     ]
    }
   ],
   "source": [
    "# from typing import List\n",
    "def make_list(input_file:TextIO)-> list:\n",
    "    \"\"\"Write a for loop to read the contents of alkaline_metals.txt and store it in a list\n",
    "    of lists, with each inner list containing the name, atomic number,\n",
    "    and atomic weight for an element.\n",
    "    \n",
    "    >>> infile = StringIO('beryllium\\\\n 4\\\\n 9.012\\\\n ')\n",
    "    >>> make_list(infile)\n",
    "    [['beryllium'], [4], [9.012]]\n",
    "    \"\"\"\n",
    "    \n",
    "    name, number, weight = [], [], []\n",
    "    sections = [name, number, weight]\n",
    "    \n",
    "    with open(input_file, 'r')as file:\n",
    "        content = file.readline()\n",
    "        line = content.split()\n",
    "        \n",
    "        name.append(line[0])\n",
    "        number.append(int(line[1]))\n",
    "        weight.append(float(line[2]))        \n",
    "        \n",
    "        for content in file:\n",
    "            content = content.split()\n",
    "            name.append(content[0])\n",
    "            number.append(int(content[1]))\n",
    "            weight.append(float(content[2]))\n",
    "        \n",
    "        return sections\n",
    "    \n",
    "if __name__ == '__main__':\n",
    "    filename = 'files/alkaline_metals.txt'\n",
    "    print(make_list(filename))"
   ]
  },
  {
   "cell_type": "markdown",
   "metadata": {
    "hidden": true
   },
   "source": [
    "**Exercise 3**\n",
    "\n",
    "All of the file-reading functions we have seen in this chapter read forward\n",
    "through the file from the first character or line to the last. How could you\n",
    "write a function that would read backward through a file?"
   ]
  },
  {
   "cell_type": "code",
   "execution_count": 256,
   "metadata": {
    "hidden": true
   },
   "outputs": [
    {
     "name": "stdout",
     "output_type": "stream",
     "text": [
      "Enter file name : hopedale.txt\n",
      "\t-\n",
      "\n",
      "\t83\n",
      "\n",
      "\t8\n",
      "\n",
      "\t35\n",
      "\n",
      "\t12\n",
      "\n",
      "\t16\n",
      "\n",
      "\t-\n",
      "\n",
      "\t29\n",
      "\n",
      "\t22\n",
      "\n",
      "#Table 17, p.265--266\n",
      "\n",
      "#Source: C. Elton (1942) \"Voles, Mice and Lemmings\", Oxford Univ. Press\n",
      "\n",
      "Coloured fox fur production, HOPEDALE, Labrador, 1834-1842\n",
      "\n"
     ]
    }
   ],
   "source": [
    "def reverse_output(input_file:TextIO)-> str:\n",
    "    \"\"\"\n",
    "    Reads a file backwards\n",
    "    \n",
    "    >>> file = ''\n",
    "    >>> file = open()\n",
    "    >>> infile = StringIO()\n",
    "    >>> infile.write('how\\\\n are\\\\n you\\\\n ')\n",
    "    >>> reader = infile.getvalue()\n",
    "    >>> reverse_output(reader)\n",
    "    'you\\\\n are\\\\n how\\\\n '\n",
    "    \"\"\"\n",
    "    file_path = 'files/' + input_file\n",
    "    with open (file_path, 'r')as file:\n",
    "        content = file.readlines()\n",
    "        for line in reversed(content):\n",
    "            print(line)\n",
    "if __name__ == '__main__':\n",
    "    filename = str(input('Enter file name : '))\n",
    "    reverse_output(filename)"
   ]
  },
  {
   "cell_type": "code",
   "execution_count": 263,
   "metadata": {
    "hidden": true
   },
   "outputs": [
    {
     "name": "stdout",
     "output_type": "stream",
     "text": [
      "**********************************************************************\n",
      "File \"__main__\", line 5, in __main__.find_smallest\n",
      "Failed example:\n",
      "    find_smallest(infile)\n",
      "Expected:\n",
      "    1\n",
      "Got:\n",
      "    mising values 0\n",
      "    1\n",
      "**********************************************************************\n",
      "File \"__main__\", line 8, in __main__.find_smallest\n",
      "Failed example:\n",
      "    find_smallest(infile)\n",
      "Expected:\n",
      "    1\n",
      "Got:\n",
      "    mising values 0\n",
      "    1\n",
      "**********************************************************************\n",
      "File \"__main__\", line 8, in __main__.make_list\n",
      "Failed example:\n",
      "    make_list(infile)\n",
      "Exception raised:\n",
      "    Traceback (most recent call last):\n",
      "      File \"/home/eclipse/anaconda3/lib/python3.7/doctest.py\", line 1329, in __run\n",
      "        compileflags, 1), test.globs)\n",
      "      File \"<doctest __main__.make_list[1]>\", line 1, in <module>\n",
      "        make_list(infile)\n",
      "      File \"<ipython-input-262-ea273bc198c1>\", line 15, in make_list\n",
      "        with open(input_file, 'r')as file:\n",
      "    TypeError: expected str, bytes or os.PathLike object, not _io.StringIO\n",
      "**********************************************************************\n",
      "File \"__main__\", line 6, in __main__.reverse_output\n",
      "Failed example:\n",
      "    infile.write('how\\n are\\n you\\n ')\n",
      "Expected nothing\n",
      "Got:\n",
      "    15\n",
      "**********************************************************************\n",
      "File \"__main__\", line 8, in __main__.reverse_output\n",
      "Failed example:\n",
      "    reverse_output(reader)\n",
      "Exception raised:\n",
      "    Traceback (most recent call last):\n",
      "      File \"/home/eclipse/anaconda3/lib/python3.7/doctest.py\", line 1329, in __run\n",
      "        compileflags, 1), test.globs)\n",
      "      File \"<doctest __main__.reverse_output[3]>\", line 1, in <module>\n",
      "        reverse_output(reader)\n",
      "      File \"<ipython-input-256-98a88c325b7e>\", line 12, in reverse_output\n",
      "        with open (file_path, 'r')as file:\n",
      "    FileNotFoundError: [Errno 2] No such file or directory: 'files/how\\n are\\n you\\n '\n",
      "**********************************************************************\n",
      "File \"__main__\", line 14, in __main__.sum_number_pair\n",
      "Failed example:\n",
      "    output.getvalue()\n",
      "Expected:\n",
      "    '1.3 3.4 4.7\\n2 4.2 6.2\\n-1 1 0.0\\n'\n",
      "Got:\n",
      "    '1.3 3.4 4.72 4.2 6.2-1 1 0.0'\n",
      "**********************************************************************\n",
      "4 items had failures:\n",
      "   2 of   4 in __main__.find_smallest\n",
      "   1 of   2 in __main__.make_list\n",
      "   2 of   4 in __main__.reverse_output\n",
      "   1 of   4 in __main__.sum_number_pair\n",
      "***Test Failed*** 6 failures.\n"
     ]
    },
    {
     "data": {
      "text/plain": [
       "TestResults(failed=6, attempted=19)"
      ]
     },
     "execution_count": 263,
     "metadata": {},
     "output_type": "execute_result"
    }
   ],
   "source": [
    "testmod()"
   ]
  },
  {
   "cell_type": "code",
   "execution_count": null,
   "metadata": {
    "hidden": true
   },
   "outputs": [],
   "source": []
  }
 ],
 "metadata": {
  "kernelspec": {
   "display_name": "Python 3.7.4 64-bit ('base': conda)",
   "language": "python",
   "name": "python37464bitbaseconda02803511e82243628460d84236bfc9e6"
  },
  "language_info": {
   "codemirror_mode": {
    "name": "ipython",
    "version": 3
   },
   "file_extension": ".py",
   "mimetype": "text/x-python",
   "name": "python",
   "nbconvert_exporter": "python",
   "pygments_lexer": "ipython3",
   "version": "3.7.6"
  },
  "toc": {
   "base_numbering": 1,
   "nav_menu": {
    "height": "149px",
    "width": "204px"
   },
   "number_sections": true,
   "sideBar": true,
   "skip_h1_title": false,
   "title_cell": "Table of Contents",
   "title_sidebar": "Contents",
   "toc_cell": false,
   "toc_position": {},
   "toc_section_display": true,
   "toc_window_display": false
  }
 },
 "nbformat": 4,
 "nbformat_minor": 4
}
