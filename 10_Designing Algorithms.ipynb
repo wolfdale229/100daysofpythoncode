{
 "cells": [
  {
   "cell_type": "markdown",
   "metadata": {},
   "source": [
    "# 10_Designing Algorithms"
   ]
  },
  {
   "cell_type": "code",
   "execution_count": 1,
   "metadata": {},
   "outputs": [],
   "source": [
    "%reload_ext autoreload\n",
    "%autoreload 2"
   ]
  },
  {
   "cell_type": "code",
   "execution_count": 2,
   "metadata": {},
   "outputs": [
    {
     "name": "stdout",
     "output_type": "stream",
     "text": [
      "(11, 6)\n"
     ]
    },
    {
     "data": {
      "text/plain": [
       "TestResults(failed=0, attempted=3)"
      ]
     },
     "execution_count": 2,
     "metadata": {},
     "output_type": "execute_result"
    }
   ],
   "source": [
    "from doctest import testmod\n",
    "from time import perf_counter\n",
    "from typing import List, Tuple, TextIO\n",
    "def find_two_smallest(counts:List[float])-> Tuple[int, int]:\n",
    "    \"\"\"Returns a tuple of indices of the two smallest values in a list\n",
    "    \n",
    "    >>> items = [809, 834, 477, 478, 307, 122, 96, 102, 324, 476]\n",
    "    >>> find_two_smallest(items)\n",
    "    (6, 7)\n",
    "    >>> items == [809, 834, 477, 478, 307, 122, 96, 102, 324, 476]\n",
    "    True\n",
    "    \"\"\"\n",
    "    # Find, Remove, Find\n",
    "    # Find the index of the minimum item in L\n",
    "    # Remove that item from the list\n",
    "    # Find the index of the new minimum item in the list\n",
    "    # Put the smallest item back in the list\n",
    "    # If necessary, adjust the second index\n",
    "    # Return the two indices\n",
    "    smallest1 = counts[0] # setting the smallest value to the first list values\n",
    "    \n",
    "    # finding the smallest value and its index\n",
    "    for item in counts:\n",
    "        if item < smallest1:\n",
    "            smallest1 = item\n",
    "            min1_index = counts.index(smallest1)\n",
    "    counts.remove(smallest1) # remove the smallest value to form a new list\n",
    "    \n",
    "    smallest2 = counts[0] \n",
    "    #find the next smallest value\n",
    "    for item in counts:\n",
    "        if item < smallest2:\n",
    "            smallest2 = item\n",
    "    counts.insert(min1_index, smallest1) # insert the first smallest value into the list at it's original position\n",
    "    \n",
    "    min2_index = counts.index(smallest2) # get the index of the second smallest value\n",
    "\n",
    "    return (min1_index, min2_index) # return the two smallest value indices\n",
    "\n",
    "counts = [809, 834, 477, 478, 307, 122, 90, 96, 102, 324, 476, 1]\n",
    "print(find_two_smallest(counts))\n",
    "testmod()"
   ]
  },
  {
   "cell_type": "code",
   "execution_count": 3,
   "metadata": {},
   "outputs": [
    {
     "name": "stdout",
     "output_type": "stream",
     "text": [
      "(11, 6)\n"
     ]
    }
   ],
   "source": [
    "def find_two_smallest_sort(counts:List[float])-> Tuple[int, int]:\n",
    "    \"\"\"Returns a tuple of indices of the two smallest values in a list\n",
    "    \n",
    "    >>> items = [809, 834, 477, 478, 307, 122, 96, 102, 324, 476]\n",
    "    >>> find_two_smallest(items)\n",
    "    (6, 7)\n",
    "    >>> items == [809, 834, 477, 478, 307, 122, 96, 102, 324, 476]\n",
    "    True\n",
    "    \"\"\"\n",
    "    # Sort, Identify Minimums, Get Indices\n",
    "    # Sort a copy of L\n",
    "    # Get the two smallest numbers\n",
    "    # Find their indices in the original list L\n",
    "    # Return the two indices\n",
    "    \n",
    "    # sort(reverse=False) the list and take the first two values as the smallest and second smallest values\n",
    "    sorted_values = sorted(counts)\n",
    "    min1 = sorted_values[0]\n",
    "    min2 = sorted_values[1]\n",
    "    \n",
    "    # find the index of the first two values in the original list\n",
    "    min1_index = counts.index(min1)\n",
    "    min2_index = counts.index(min2)\n",
    "    \n",
    "    return min1_index, min2_index\n",
    "\n",
    "print(find_two_smallest_sort(counts))"
   ]
  },
  {
   "cell_type": "code",
   "execution_count": 4,
   "metadata": {},
   "outputs": [
    {
     "name": "stdout",
     "output_type": "stream",
     "text": [
      "8.20159912109375e-05\n"
     ]
    }
   ],
   "source": [
    "from time import time\n",
    "t0 = time()\n",
    "find_two_smallest(counts)\n",
    "t1 = time()\n",
    "print(t1 - t0)"
   ]
  },
  {
   "cell_type": "markdown",
   "metadata": {},
   "source": [
    "## Profiling"
   ]
  },
  {
   "cell_type": "code",
   "execution_count": 5,
   "metadata": {},
   "outputs": [
    {
     "name": "stdout",
     "output_type": "stream",
     "text": [
      "CPU times: user 9 µs, sys: 1 µs, total: 10 µs\n",
      "Wall time: 13.4 µs\n"
     ]
    },
    {
     "data": {
      "text/plain": [
       "(11, 6)"
      ]
     },
     "execution_count": 5,
     "metadata": {},
     "output_type": "execute_result"
    }
   ],
   "source": [
    "%time find_two_smallest(counts) "
   ]
  },
  {
   "cell_type": "code",
   "execution_count": 6,
   "metadata": {},
   "outputs": [
    {
     "name": "stdout",
     "output_type": "stream",
     "text": [
      "CPU times: user 9 µs, sys: 1 µs, total: 10 µs\n",
      "Wall time: 13.4 µs\n"
     ]
    },
    {
     "data": {
      "text/plain": [
       "(11, 6)"
      ]
     },
     "execution_count": 6,
     "metadata": {},
     "output_type": "execute_result"
    }
   ],
   "source": [
    "%time find_two_smallest_sort(counts)"
   ]
  },
  {
   "cell_type": "markdown",
   "metadata": {},
   "source": [
    "## Exercises"
   ]
  },
  {
   "cell_type": "markdown",
   "metadata": {},
   "source": [
    "**Exercise 1**\n",
    "\n",
    "A DNA sequence is a string made up of the letters A, T, G, and C. To find\n",
    "the complement of a DNA sequence, As are replaced by Ts, Ts by As, Gs\n",
    "by Cs, and Cs by Gs. For example, the complement of AATTGCCGT is\n",
    "TTAACGGCA.\n",
    "\n",
    "a. Write an outline in English of the algorithm you would use to find the\n",
    "complement.\n",
    "\n",
    "b. Review your algorithm. Will any characters be changed to their complement and then changed back to their original value? If so, rewrite your outline.\n",
    "Hint: Convert one character at a time, rather than all of\n",
    "the As, Ts, Gs, or Cs at once.\n",
    "\n",
    "c.\n",
    "Using the algorithm that you have developed, write a function named\n",
    "complement that takes a DNA sequence (a str ) and returns the complement of it."
   ]
  },
  {
   "cell_type": "code",
   "execution_count": 7,
   "metadata": {},
   "outputs": [
    {
     "name": "stdout",
     "output_type": "stream",
     "text": [
      "TTAACGGCA\n"
     ]
    },
    {
     "data": {
      "text/plain": [
       "TestResults(failed=0, attempted=9)"
      ]
     },
     "execution_count": 7,
     "metadata": {},
     "output_type": "execute_result"
    }
   ],
   "source": [
    "def compliment(word:str)-> str:\n",
    "    \"\"\"Return the compliment of a given word, by replacing each character with it's compliment value\n",
    "    \n",
    "    >>> word = 'AATTGCCGT'\n",
    "    >>> compliment(word)\n",
    "    'TTAACGGCA'\n",
    "    >>> compliment('TTAACGGCA')\n",
    "    'AATTGCCGT'\n",
    "    \"\"\"\n",
    "    \n",
    "    # get a string of words\n",
    "    # go through each character of the word\n",
    "    # for each character in the word replace with it's compliment values\n",
    "    \n",
    "    holder = [] # temporary variable to store the compliments\n",
    "    for item in word:\n",
    "        # replace each character by it's compliment\n",
    "        if item is 'A':\n",
    "            item = 'T'\n",
    "        elif item is 'T':\n",
    "            item = 'A'\n",
    "        elif item is 'G':\n",
    "            item = 'C'\n",
    "        else:\n",
    "            item = 'G'\n",
    "        holder.append(item) # store each word as it comes in a temporary holder\n",
    "        word = ''.join(holder) # turn characters in temporary holder to string\n",
    "    return word\n",
    "\n",
    "print(compliment('AATTGCCGT'))\n",
    "testmod()"
   ]
  },
  {
   "cell_type": "markdown",
   "metadata": {},
   "source": [
    "**Exercise 2**\n",
    "\n",
    "In this exercise, you’ll develop a function that finds the minimum or\n",
    "maximum value in a list, depending on the caller’s request.\n",
    "\n",
    "a. Write a loop (including initialization) to find both the minimum value\n",
    "in a list and that value’s index in one pass through the list.\n",
    "\n",
    "b. Write a function named min_index that takes one parameter (a list ) and\n",
    "returns a tuple containing the minimum value in the list and that\n",
    "value’s index in the list.\n",
    "\n",
    "c.\n",
    "You might also want to find the maximum value and its index. Write\n",
    "a function named min_or_max_index that has two parameters: a list and\n",
    "a bool . If the Boolean parameter refers to True , the function returns a\n",
    "tuple containing the minimum and its index; if it refers to False , it\n",
    "returns a tuple containing the maximum and its index."
   ]
  },
  {
   "cell_type": "code",
   "execution_count": 8,
   "metadata": {},
   "outputs": [
    {
     "data": {
      "text/plain": [
       "(96, 6)"
      ]
     },
     "execution_count": 8,
     "metadata": {},
     "output_type": "execute_result"
    }
   ],
   "source": [
    "l = [809, 834, 477, 478, 307, 122, 96, 102, 324, 476]\n",
    "smallest = l[0]\n",
    "for item in l:\n",
    "    if item < smallest:\n",
    "        smallest = item\n",
    "min_index = l.index(smallest)\n",
    "smallest, min_index"
   ]
  },
  {
   "cell_type": "code",
   "execution_count": 9,
   "metadata": {},
   "outputs": [
    {
     "name": "stdout",
     "output_type": "stream",
     "text": [
      "(96, 6)\n"
     ]
    }
   ],
   "source": [
    "def min_index(callers_list:list) -> Tuple[int, int]:\n",
    "    \"\"\"Finds the minimum values in a list and returns the number and it's index\n",
    "    \n",
    "    >>> list_value = [3, 1, 4, 5 ,6, 0, 9]\n",
    "    >>> min_index(list_value)\n",
    "    (0, 5)\n",
    "    >>> min_index([809, 834, 477, 478, 307, 122, 96, 102, 324, 476])\n",
    "    (96, 6)\n",
    "    >>> min_index([3, 1, 4, 5 ,6, 0, -9])\n",
    "    (-9, 6)\n",
    "    \"\"\"\n",
    "    smallest = callers_list[0]\n",
    "    for item in callers_list:\n",
    "        if item < smallest:\n",
    "            smallest = item\n",
    "        min_index = callers_list.index(smallest)\n",
    "    return (smallest, min_index)\n",
    "\n",
    "print(min_index([809, 834, 477, 478, 307, 122, 96, 102, 324, 476]))\n",
    "# testmod()"
   ]
  },
  {
   "cell_type": "code",
   "execution_count": 10,
   "metadata": {},
   "outputs": [
    {
     "data": {
      "text/plain": [
       "TestResults(failed=0, attempted=15)"
      ]
     },
     "execution_count": 10,
     "metadata": {},
     "output_type": "execute_result"
    }
   ],
   "source": [
    "def min_or_max(caller_list:list, value:bool) -> Tuple[int, int]:\n",
    "    '''Returns a tuple containing the minimum value and it's index if the boolean value is True and \n",
    "    if False, it returns a tuple containing the maximum and its index.\n",
    "    \n",
    "    >>> min_or_max([809, 834, 477, 478, 307, 122, 96, 102, 324, 476], False)\n",
    "    (834, 1)\n",
    "    >>> min_or_max([3, 1, 4, 5 ,6, 0, -9], True)\n",
    "    (-9, 6)\n",
    "    '''\n",
    "    \n",
    "    # get the minimum and maxmum values of the list\n",
    "    min_value = min(caller_list)\n",
    "    max_value = max(caller_list)\n",
    "    \n",
    "    # when value is True, get the minimum value index and return the min_value and it's index\n",
    "    # do the same for the max_value\n",
    "    if value is True:\n",
    "        min_index = caller_list.index(min_value)\n",
    "        return (min_value, min_index)\n",
    "    else :\n",
    "        max_index = caller_list.index(max_value)\n",
    "        return (max_value, max_index)\n",
    "    \n",
    "min_or_max([809, 834, 477, 478, 307, 122, 96, 102, 324, 476], False)\n",
    "testmod()"
   ]
  },
  {
   "cell_type": "markdown",
   "metadata": {},
   "source": [
    "**Exercise 3**\n",
    "\n",
    "In The Readline Technique, on page 181, you learned how to read some files\n",
    "from the Time Series Data Library. In particular, you learned about the\n",
    "Hopedale data set, which describes the number of colored fox fur pelts\n",
    "produced from 1834 to 1842. This file contains one value per year per line.\n",
    "\n",
    "a. Write an outline in English of the algorithm you would use to read\n",
    "the values from this data set to compute the average number of pelts\n",
    "produced per year.\n",
    "\n",
    "b. Translate your algorithm into Python by writing a function named\n",
    "hopedale_average that takes a filename as a parameter and returns the\n",
    "average number of pelts produced per year."
   ]
  },
  {
   "cell_type": "code",
   "execution_count": 54,
   "metadata": {},
   "outputs": [
    {
     "ename": "ValueError",
     "evalue": "invalid literal for int() with base 10: '-'",
     "output_type": "error",
     "traceback": [
      "\u001b[0;31m---------------------------------------------------------------------------\u001b[0m",
      "\u001b[0;31mValueError\u001b[0m                                Traceback (most recent call last)",
      "\u001b[0;32m<ipython-input-54-ba4e4bcda1cf>\u001b[0m in \u001b[0;36m<module>\u001b[0;34m\u001b[0m\n\u001b[1;32m     26\u001b[0m \u001b[0;34m\u001b[0m\u001b[0m\n\u001b[1;32m     27\u001b[0m \u001b[0;32mwith\u001b[0m \u001b[0mopen\u001b[0m\u001b[0;34m(\u001b[0m\u001b[0;34m'files/hopedale.txt'\u001b[0m\u001b[0;34m)\u001b[0m\u001b[0;32mas\u001b[0m \u001b[0mfile\u001b[0m\u001b[0;34m:\u001b[0m\u001b[0;34m\u001b[0m\u001b[0;34m\u001b[0m\u001b[0m\n\u001b[0;32m---> 28\u001b[0;31m     \u001b[0mprint\u001b[0m\u001b[0;34m(\u001b[0m\u001b[0mhopedale_average\u001b[0m\u001b[0;34m(\u001b[0m\u001b[0mfile\u001b[0m\u001b[0;34m)\u001b[0m\u001b[0;34m)\u001b[0m\u001b[0;34m\u001b[0m\u001b[0;34m\u001b[0m\u001b[0m\n\u001b[0m",
      "\u001b[0;32m<ipython-input-54-ba4e4bcda1cf>\u001b[0m in \u001b[0;36mhopedale_average\u001b[0;34m(reader)\u001b[0m\n\u001b[1;32m     20\u001b[0m         \u001b[0;32mif\u001b[0m \u001b[0mdata\u001b[0m \u001b[0;34m!=\u001b[0m \u001b[0;34m'-'\u001b[0m\u001b[0;34m:\u001b[0m\u001b[0;34m\u001b[0m\u001b[0;34m\u001b[0m\u001b[0m\n\u001b[1;32m     21\u001b[0m             \u001b[0mdata\u001b[0m \u001b[0;34m=\u001b[0m \u001b[0mdata\u001b[0m\u001b[0;34m.\u001b[0m\u001b[0mstrip\u001b[0m\u001b[0;34m(\u001b[0m\u001b[0;34m)\u001b[0m\u001b[0;34m\u001b[0m\u001b[0;34m\u001b[0m\u001b[0m\n\u001b[0;32m---> 22\u001b[0;31m         \u001b[0mtotal\u001b[0m \u001b[0;34m=\u001b[0m \u001b[0mtotal\u001b[0m \u001b[0;34m+\u001b[0m \u001b[0mint\u001b[0m\u001b[0;34m(\u001b[0m\u001b[0mdata\u001b[0m\u001b[0;34m)\u001b[0m\u001b[0;34m\u001b[0m\u001b[0;34m\u001b[0m\u001b[0m\n\u001b[0m\u001b[1;32m     23\u001b[0m         \u001b[0mnum\u001b[0m \u001b[0;34m+=\u001b[0m \u001b[0;36m1\u001b[0m\u001b[0;34m\u001b[0m\u001b[0;34m\u001b[0m\u001b[0m\n\u001b[1;32m     24\u001b[0m     \u001b[0;32mreturn\u001b[0m \u001b[0mint\u001b[0m\u001b[0;34m(\u001b[0m\u001b[0mtotal\u001b[0m\u001b[0;34m/\u001b[0m\u001b[0mnum\u001b[0m\u001b[0;34m)\u001b[0m\u001b[0;34m\u001b[0m\u001b[0;34m\u001b[0m\u001b[0m\n",
      "\u001b[0;31mValueError\u001b[0m: invalid literal for int() with base 10: '-'"
     ]
    }
   ],
   "source": [
    "from io import StringIO\n",
    "def hopedale_average(reader:TextIO)-> int:\n",
    "    \"\"\"Go through a file and output the average value of the numerical values\n",
    "    \n",
    "    >>> infile = StringIO('values\\\\n include\\\\n 2\\\\n 4\\\\n 7\\\\n ')\n",
    "    >>> hopedale_average(infile)\n",
    "    4\n",
    "    \"\"\"\n",
    "    total = 0\n",
    "    num = 0\n",
    "    header = file.readline()\n",
    "    \n",
    "    data = file.readline() # skip any line with '#'\n",
    "    while data.startswith('#'):\n",
    "        data = file.readline()\n",
    "        \n",
    "    total += int(data) # compute the total\n",
    "    num += 1\n",
    "    for data in file:\n",
    "        if data != '-':\n",
    "            data = data.strip()\n",
    "        total = total + int(data)\n",
    "        num += 1\n",
    "    return int(total/num)\n",
    "    \n",
    "    \n",
    "with open('files/hopedale.txt')as file:\n",
    "    print(hopedale_average(file))"
   ]
  },
  {
   "cell_type": "code",
   "execution_count": null,
   "metadata": {},
   "outputs": [],
   "source": [
    "(2 + 4 + 7)/3"
   ]
  },
  {
   "cell_type": "code",
   "execution_count": null,
   "metadata": {},
   "outputs": [],
   "source": []
  },
  {
   "cell_type": "code",
   "execution_count": null,
   "metadata": {},
   "outputs": [],
   "source": []
  },
  {
   "cell_type": "code",
   "execution_count": null,
   "metadata": {},
   "outputs": [],
   "source": []
  },
  {
   "cell_type": "code",
   "execution_count": null,
   "metadata": {},
   "outputs": [],
   "source": []
  },
  {
   "cell_type": "code",
   "execution_count": null,
   "metadata": {},
   "outputs": [],
   "source": []
  },
  {
   "cell_type": "code",
   "execution_count": null,
   "metadata": {},
   "outputs": [],
   "source": []
  },
  {
   "cell_type": "code",
   "execution_count": null,
   "metadata": {},
   "outputs": [],
   "source": []
  },
  {
   "cell_type": "code",
   "execution_count": null,
   "metadata": {},
   "outputs": [],
   "source": []
  },
  {
   "cell_type": "code",
   "execution_count": null,
   "metadata": {},
   "outputs": [],
   "source": []
  },
  {
   "cell_type": "code",
   "execution_count": null,
   "metadata": {},
   "outputs": [],
   "source": []
  },
  {
   "cell_type": "code",
   "execution_count": null,
   "metadata": {},
   "outputs": [],
   "source": []
  },
  {
   "cell_type": "code",
   "execution_count": null,
   "metadata": {},
   "outputs": [],
   "source": []
  },
  {
   "cell_type": "code",
   "execution_count": null,
   "metadata": {},
   "outputs": [],
   "source": []
  },
  {
   "cell_type": "code",
   "execution_count": null,
   "metadata": {},
   "outputs": [],
   "source": []
  },
  {
   "cell_type": "code",
   "execution_count": null,
   "metadata": {},
   "outputs": [],
   "source": []
  },
  {
   "cell_type": "code",
   "execution_count": null,
   "metadata": {},
   "outputs": [],
   "source": []
  },
  {
   "cell_type": "code",
   "execution_count": null,
   "metadata": {},
   "outputs": [],
   "source": []
  },
  {
   "cell_type": "code",
   "execution_count": null,
   "metadata": {},
   "outputs": [],
   "source": []
  },
  {
   "cell_type": "code",
   "execution_count": null,
   "metadata": {},
   "outputs": [],
   "source": []
  },
  {
   "cell_type": "code",
   "execution_count": null,
   "metadata": {},
   "outputs": [],
   "source": []
  }
 ],
 "metadata": {
  "kernelspec": {
   "display_name": "Python 3.7.4 64-bit ('base': conda)",
   "language": "python",
   "name": "python37464bitbaseconda02803511e82243628460d84236bfc9e6"
  },
  "language_info": {
   "codemirror_mode": {
    "name": "ipython",
    "version": 3
   },
   "file_extension": ".py",
   "mimetype": "text/x-python",
   "name": "python",
   "nbconvert_exporter": "python",
   "pygments_lexer": "ipython3",
   "version": "3.7.6"
  },
  "toc": {
   "base_numbering": 1,
   "nav_menu": {},
   "number_sections": true,
   "sideBar": true,
   "skip_h1_title": false,
   "title_cell": "Table of Contents",
   "title_sidebar": "Contents",
   "toc_cell": false,
   "toc_position": {},
   "toc_section_display": true,
   "toc_window_display": false
  }
 },
 "nbformat": 4,
 "nbformat_minor": 4
}
