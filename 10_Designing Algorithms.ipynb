{
 "cells": [
  {
   "cell_type": "markdown",
   "metadata": {},
   "source": [
    "# 10_Designing Algorithms"
   ]
  },
  {
   "cell_type": "code",
   "execution_count": 1,
   "metadata": {},
   "outputs": [
    {
     "name": "stdout",
     "output_type": "stream",
     "text": [
      "(11, 6)\n"
     ]
    },
    {
     "data": {
      "text/plain": [
       "TestResults(failed=0, attempted=3)"
      ]
     },
     "execution_count": 1,
     "metadata": {},
     "output_type": "execute_result"
    }
   ],
   "source": [
    "from doctest import testmod\n",
    "from typing import List, Tuple\n",
    "def find_two_smallest(counts:List[float])-> Tuple[int, int]:\n",
    "    \"\"\"Returns a tuple of indices of the two smallest values in a list\n",
    "    \n",
    "    >>> items = [809, 834, 477, 478, 307, 122, 96, 102, 324, 476]\n",
    "    >>> find_two_smallest(items)\n",
    "    (6, 7)\n",
    "    >>> items == [809, 834, 477, 478, 307, 122, 96, 102, 324, 476]\n",
    "    True\n",
    "    \"\"\"\n",
    "    # Find, Remove, Find\n",
    "    # Find the index of the minimum item in L\n",
    "    # Remove that item from the list\n",
    "    # Find the index of the new minimum item in the list\n",
    "    # Put the smallest item back in the list\n",
    "    # If necessary, adjust the second index\n",
    "    # Return the two indices\n",
    "    smallest1 = counts[0] # setting the smallest value to the first list values\n",
    "    \n",
    "    # finding the smallest value and its index\n",
    "    for item in counts:\n",
    "        if item < smallest1:\n",
    "            smallest1 = item\n",
    "            min1_index = counts.index(smallest1)\n",
    "    counts.remove(smallest1) # remove the smallest value to form a new list\n",
    "    \n",
    "    smallest2 = counts[0] \n",
    "    #find the next smallest value\n",
    "    for item in counts:\n",
    "        if item < smallest2:\n",
    "            smallest2 = item\n",
    "    counts.insert(min1_index, smallest1) # insert the first smallest value into the list at it's original position\n",
    "    \n",
    "    min2_index = counts.index(smallest2) # get the index of the second smallest value\n",
    "\n",
    "    return (min1_index, min2_index) # return the two smallest value indices\n",
    "\n",
    "counts = [809, 834, 477, 478, 307, 122, 90, 96, 102, 324, 476, 1]\n",
    "print(find_two_smallest(counts))\n",
    "testmod()"
   ]
  },
  {
   "cell_type": "code",
   "execution_count": 2,
   "metadata": {},
   "outputs": [
    {
     "name": "stdout",
     "output_type": "stream",
     "text": [
      "(11, 6)\n"
     ]
    }
   ],
   "source": [
    "def find_two_smallest_sort(counts:List[float])-> Tuple[int, int]:\n",
    "    \"\"\"Returns a tuple of indices of the two smallest values in a list\n",
    "    \n",
    "    >>> items = [809, 834, 477, 478, 307, 122, 96, 102, 324, 476]\n",
    "    >>> find_two_smallest(items)\n",
    "    (6, 7)\n",
    "    >>> items == [809, 834, 477, 478, 307, 122, 96, 102, 324, 476]\n",
    "    True\n",
    "    \"\"\"\n",
    "    # Sort, Identify Minimums, Get Indices\n",
    "    # Sort a copy of L\n",
    "    # Get the two smallest numbers\n",
    "    # Find their indices in the original list L\n",
    "    # Return the two indices\n",
    "    \n",
    "    # sort(reverse=False) the list and take the first two values as the smallest and second smallest values\n",
    "    sorted_values = sorted(counts)\n",
    "    min1 = sorted_values[0]\n",
    "    min2 = sorted_values[1]\n",
    "    \n",
    "    # find the index of the first two values in the original list\n",
    "    min1_index = counts.index(min1)\n",
    "    min2_index = counts.index(min2)\n",
    "    \n",
    "    return min1_index, min2_index\n",
    "\n",
    "print(find_two_smallest_sort(counts))"
   ]
  },
  {
   "cell_type": "code",
   "execution_count": 3,
   "metadata": {},
   "outputs": [
    {
     "name": "stdout",
     "output_type": "stream",
     "text": [
      "CPU times: user 15 µs, sys: 0 ns, total: 15 µs\n",
      "Wall time: 19.1 µs\n"
     ]
    },
    {
     "data": {
      "text/plain": [
       "(11, 6)"
      ]
     },
     "execution_count": 3,
     "metadata": {},
     "output_type": "execute_result"
    }
   ],
   "source": [
    "%time find_two_smallest(counts) "
   ]
  },
  {
   "cell_type": "code",
   "execution_count": 4,
   "metadata": {},
   "outputs": [
    {
     "name": "stdout",
     "output_type": "stream",
     "text": [
      "CPU times: user 12 µs, sys: 2 µs, total: 14 µs\n",
      "Wall time: 17.9 µs\n"
     ]
    },
    {
     "data": {
      "text/plain": [
       "(11, 6)"
      ]
     },
     "execution_count": 4,
     "metadata": {},
     "output_type": "execute_result"
    }
   ],
   "source": [
    "%time find_two_smallest_sort(counts)"
   ]
  },
  {
   "cell_type": "code",
   "execution_count": null,
   "metadata": {},
   "outputs": [],
   "source": []
  },
  {
   "cell_type": "code",
   "execution_count": null,
   "metadata": {},
   "outputs": [],
   "source": []
  },
  {
   "cell_type": "code",
   "execution_count": null,
   "metadata": {},
   "outputs": [],
   "source": []
  }
 ],
 "metadata": {
  "kernelspec": {
   "display_name": "Python 3.7.4 64-bit ('base': conda)",
   "language": "python",
   "name": "python37464bitbaseconda02803511e82243628460d84236bfc9e6"
  },
  "language_info": {
   "codemirror_mode": {
    "name": "ipython",
    "version": 3
   },
   "file_extension": ".py",
   "mimetype": "text/x-python",
   "name": "python",
   "nbconvert_exporter": "python",
   "pygments_lexer": "ipython3",
   "version": "3.7.6"
  },
  "toc": {
   "base_numbering": 1,
   "nav_menu": {},
   "number_sections": true,
   "sideBar": true,
   "skip_h1_title": false,
   "title_cell": "Table of Contents",
   "title_sidebar": "Contents",
   "toc_cell": false,
   "toc_position": {},
   "toc_section_display": true,
   "toc_window_display": false
  }
 },
 "nbformat": 4,
 "nbformat_minor": 4
}
