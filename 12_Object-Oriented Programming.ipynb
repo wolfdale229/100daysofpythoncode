{
 "cells": [
  {
   "cell_type": "markdown",
   "metadata": {},
   "source": [
    "# Object-Oriented Programming"
   ]
  },
  {
   "cell_type": "code",
   "execution_count": 61,
   "metadata": {},
   "outputs": [],
   "source": [
    "from typing import List, Any"
   ]
  },
  {
   "cell_type": "markdown",
   "metadata": {},
   "source": [
    "## Defining a new type (object)"
   ]
  },
  {
   "cell_type": "code",
   "execution_count": 60,
   "metadata": {},
   "outputs": [
    {
     "data": {
      "text/plain": [
       "3"
      ]
     },
     "execution_count": 60,
     "metadata": {},
     "output_type": "execute_result"
    }
   ],
   "source": [
    "class Book:\n",
    "    \"\"\"Information about a book\"\"\"\n",
    "    def num_authors(self) -> int:\n",
    "        \"\"\"Return the number of authors in a book\n",
    "        \"\"\"\n",
    "        return len(self.authors)\n",
    "    \n",
    "ruby_book = Book\n",
    "ruby_book.title = 'Programming ruby'\n",
    "ruby_book.authors=['Thomas', 'Fowler', 'Hunt']\n",
    "ruby_book.num_authors(Book)"
   ]
  },
  {
   "cell_type": "code",
   "execution_count": 31,
   "metadata": {
    "scrolled": false
   },
   "outputs": [
    {
     "data": {
      "text/plain": [
       "['__class__',\n",
       " '__delattr__',\n",
       " '__dict__',\n",
       " '__dir__',\n",
       " '__doc__',\n",
       " '__eq__',\n",
       " '__format__',\n",
       " '__ge__',\n",
       " '__getattribute__',\n",
       " '__gt__',\n",
       " '__hash__',\n",
       " '__init__',\n",
       " '__init_subclass__',\n",
       " '__le__',\n",
       " '__lt__',\n",
       " '__module__',\n",
       " '__ne__',\n",
       " '__new__',\n",
       " '__reduce__',\n",
       " '__reduce_ex__',\n",
       " '__repr__',\n",
       " '__setattr__',\n",
       " '__sizeof__',\n",
       " '__str__',\n",
       " '__subclasshook__',\n",
       " '__weakref__']"
      ]
     },
     "execution_count": 31,
     "metadata": {},
     "output_type": "execute_result"
    }
   ],
   "source": [
    "dir(Book)"
   ]
  },
  {
   "cell_type": "code",
   "execution_count": 36,
   "metadata": {},
   "outputs": [
    {
     "data": {
      "text/plain": [
       "{'__dict__', '__module__', '__weakref__'}"
      ]
     },
     "execution_count": 36,
     "metadata": {},
     "output_type": "execute_result"
    }
   ],
   "source": [
    "set(dir(Book)).difference(dir(object))"
   ]
  },
  {
   "cell_type": "code",
   "execution_count": 38,
   "metadata": {},
   "outputs": [],
   "source": [
    "ruby_book = Book()\n",
    "ruby_book.title = 'Programming ruby'\n",
    "ruby_book.authors = ['Thomas', 'Fowler', 'Hunt']"
   ]
  },
  {
   "cell_type": "code",
   "execution_count": 39,
   "metadata": {},
   "outputs": [
    {
     "data": {
      "text/plain": [
       "'Programming ruby'"
      ]
     },
     "execution_count": 39,
     "metadata": {},
     "output_type": "execute_result"
    }
   ],
   "source": [
    "ruby_book.title"
   ]
  },
  {
   "cell_type": "code",
   "execution_count": 41,
   "metadata": {},
   "outputs": [
    {
     "data": {
      "text/plain": [
       "['Thomas', 'Fowler', 'Hunt']"
      ]
     },
     "execution_count": 41,
     "metadata": {},
     "output_type": "execute_result"
    }
   ],
   "source": [
    "ruby_book.authors"
   ]
  },
  {
   "cell_type": "code",
   "execution_count": 77,
   "metadata": {},
   "outputs": [],
   "source": [
    "class Book:\n",
    "    \"\"\"Information about a book, including title, list of authors,\n",
    "    publisher, ISBN, and price.\n",
    "    \"\"\"\n",
    "    def __init__(self, title:str, authors:List[str], publisher:str,\n",
    "                isbn:str, price:float):\n",
    "        \"\"\"Create a new book entitled title, written by the people in authors,\n",
    "        published by publisher, with ISBN isbn and costing price dollars.\n",
    "        >>> python_book = Book( \\\n",
    "        'Practical Programming', \\\n",
    "        ['Campbell', 'Gries', 'Montojo'], \\\n",
    "        'Pragmatic Bookshelf', \\\n",
    "        '978-1-6805026-8-8', \\\n",
    "        25.0)\n",
    "        >>> python_book.title\n",
    "        'Practical Programming'\n",
    "        >>> python_book.authors\n",
    "        ['Campbell', 'Gries', 'Montojo']\n",
    "        >>> python_book.publisher\n",
    "        'Pragmatic Bookshelf'\n",
    "        >>> python_book.ISBN\n",
    "        '978-1-6805026-8-8'\n",
    "        >>> python_book.price\n",
    "        25.0\n",
    "        \"\"\"\n",
    "        self.title =title\n",
    "        self.authors = authors\n",
    "        self.publisher = publisher\n",
    "        self.isbn = isbn\n",
    "        self.price = price\n",
    "    \n",
    "    def num_authors(self):\n",
    "        \"\"\"Return the number of authors of this book.\n",
    "        \n",
    "        >>> python_book = Book( \\\n",
    "        'Practical Programming', \\\n",
    "        ['Campbell', 'Gries', 'Montojo'], \\\n",
    "        'Pragmatic Bookshelf', \\\n",
    "        '978-1-6805026-8-8', \\\n",
    "        25.0)\n",
    "        >>> python_book.num_authors()\n",
    "        3\n",
    "        \"\"\"\n",
    "        return len(self.auhtors)\n",
    "    def __str__(self):\n",
    "        return self"
   ]
  },
  {
   "cell_type": "code",
   "execution_count": 84,
   "metadata": {},
   "outputs": [
    {
     "data": {
      "text/plain": [
       "<__main__.Book at 0x7f9723f97190>"
      ]
     },
     "execution_count": 84,
     "metadata": {},
     "output_type": "execute_result"
    }
   ],
   "source": [
    "book = Book('Practical Programming',\n",
    "        ['Campbell', 'Gries', 'Montojo'],\n",
    "        'Pragmatic Bookshelf',\n",
    "        '978-1-6805026-8-8',\n",
    "        25.0\n",
    ")\n",
    "\n",
    "book"
   ]
  },
  {
   "cell_type": "code",
   "execution_count": null,
   "metadata": {},
   "outputs": [],
   "source": []
  },
  {
   "cell_type": "code",
   "execution_count": null,
   "metadata": {},
   "outputs": [],
   "source": []
  },
  {
   "cell_type": "code",
   "execution_count": null,
   "metadata": {},
   "outputs": [],
   "source": []
  },
  {
   "cell_type": "code",
   "execution_count": null,
   "metadata": {},
   "outputs": [],
   "source": []
  },
  {
   "cell_type": "code",
   "execution_count": null,
   "metadata": {},
   "outputs": [],
   "source": []
  },
  {
   "cell_type": "code",
   "execution_count": null,
   "metadata": {},
   "outputs": [],
   "source": []
  },
  {
   "cell_type": "code",
   "execution_count": null,
   "metadata": {},
   "outputs": [],
   "source": []
  },
  {
   "cell_type": "code",
   "execution_count": null,
   "metadata": {},
   "outputs": [],
   "source": []
  },
  {
   "cell_type": "code",
   "execution_count": null,
   "metadata": {},
   "outputs": [],
   "source": []
  },
  {
   "cell_type": "code",
   "execution_count": null,
   "metadata": {},
   "outputs": [],
   "source": []
  },
  {
   "cell_type": "code",
   "execution_count": null,
   "metadata": {},
   "outputs": [],
   "source": []
  },
  {
   "cell_type": "code",
   "execution_count": null,
   "metadata": {},
   "outputs": [],
   "source": []
  },
  {
   "cell_type": "code",
   "execution_count": null,
   "metadata": {},
   "outputs": [],
   "source": []
  },
  {
   "cell_type": "code",
   "execution_count": null,
   "metadata": {},
   "outputs": [],
   "source": []
  },
  {
   "cell_type": "code",
   "execution_count": null,
   "metadata": {},
   "outputs": [],
   "source": []
  },
  {
   "cell_type": "code",
   "execution_count": null,
   "metadata": {},
   "outputs": [],
   "source": []
  },
  {
   "cell_type": "code",
   "execution_count": null,
   "metadata": {},
   "outputs": [],
   "source": []
  }
 ],
 "metadata": {
  "kernelspec": {
   "display_name": "Python 3.7.4 64-bit ('base': conda)",
   "language": "python",
   "name": "python37464bitbaseconda02803511e82243628460d84236bfc9e6"
  },
  "language_info": {
   "codemirror_mode": {
    "name": "ipython",
    "version": 3
   },
   "file_extension": ".py",
   "mimetype": "text/x-python",
   "name": "python",
   "nbconvert_exporter": "python",
   "pygments_lexer": "ipython3",
   "version": "3.7.6"
  },
  "toc": {
   "base_numbering": 1,
   "nav_menu": {},
   "number_sections": true,
   "sideBar": true,
   "skip_h1_title": false,
   "title_cell": "Table of Contents",
   "title_sidebar": "Contents",
   "toc_cell": false,
   "toc_position": {},
   "toc_section_display": true,
   "toc_window_display": false
  }
 },
 "nbformat": 4,
 "nbformat_minor": 4
}
