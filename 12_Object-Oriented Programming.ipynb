{
 "cells": [
  {
   "cell_type": "markdown",
   "metadata": {},
   "source": [
    "# Object-Oriented Programming"
   ]
  },
  {
   "cell_type": "code",
   "execution_count": 294,
   "metadata": {},
   "outputs": [],
   "source": [
    "from typing import List, Any, TextIO\n",
    "from doctest import testmod"
   ]
  },
  {
   "cell_type": "markdown",
   "metadata": {
    "heading_collapsed": true
   },
   "source": [
    "## Defining a new type (object)"
   ]
  },
  {
   "cell_type": "code",
   "execution_count": 2,
   "metadata": {
    "hidden": true
   },
   "outputs": [
    {
     "data": {
      "text/plain": [
       "3"
      ]
     },
     "execution_count": 2,
     "metadata": {},
     "output_type": "execute_result"
    }
   ],
   "source": [
    "class Book:\n",
    "    \"\"\"Information about a book\"\"\"\n",
    "    def num_authors(self) -> int:\n",
    "        \"\"\"Return the number of authors in a book\n",
    "        \"\"\"\n",
    "        return len(self.authors)\n",
    "    \n",
    "ruby_book = Book\n",
    "ruby_book.title = 'Programming ruby'\n",
    "ruby_book.authors=['Thomas', 'Fowler', 'Hunt']\n",
    "ruby_book.num_authors(Book)"
   ]
  },
  {
   "cell_type": "code",
   "execution_count": 3,
   "metadata": {
    "hidden": true,
    "scrolled": false
   },
   "outputs": [
    {
     "data": {
      "text/plain": [
       "['__class__',\n",
       " '__delattr__',\n",
       " '__dict__',\n",
       " '__dir__',\n",
       " '__doc__',\n",
       " '__eq__',\n",
       " '__format__',\n",
       " '__ge__',\n",
       " '__getattribute__',\n",
       " '__gt__',\n",
       " '__hash__',\n",
       " '__init__',\n",
       " '__init_subclass__',\n",
       " '__le__',\n",
       " '__lt__',\n",
       " '__module__',\n",
       " '__ne__',\n",
       " '__new__',\n",
       " '__reduce__',\n",
       " '__reduce_ex__',\n",
       " '__repr__',\n",
       " '__setattr__',\n",
       " '__sizeof__',\n",
       " '__str__',\n",
       " '__subclasshook__',\n",
       " '__weakref__',\n",
       " 'authors',\n",
       " 'num_authors',\n",
       " 'title']"
      ]
     },
     "execution_count": 3,
     "metadata": {},
     "output_type": "execute_result"
    }
   ],
   "source": [
    "dir(Book)"
   ]
  },
  {
   "cell_type": "code",
   "execution_count": 4,
   "metadata": {
    "hidden": true
   },
   "outputs": [
    {
     "data": {
      "text/plain": [
       "{'__dict__', '__module__', '__weakref__', 'authors', 'num_authors', 'title'}"
      ]
     },
     "execution_count": 4,
     "metadata": {},
     "output_type": "execute_result"
    }
   ],
   "source": [
    "set(dir(Book)).difference(dir(object))"
   ]
  },
  {
   "cell_type": "code",
   "execution_count": 5,
   "metadata": {
    "hidden": true
   },
   "outputs": [],
   "source": [
    "ruby_book = Book()\n",
    "ruby_book.title = 'Programming ruby'\n",
    "ruby_book.authors = ['Thomas', 'Fowler', 'Hunt']"
   ]
  },
  {
   "cell_type": "code",
   "execution_count": 6,
   "metadata": {
    "hidden": true
   },
   "outputs": [
    {
     "data": {
      "text/plain": [
       "'Programming ruby'"
      ]
     },
     "execution_count": 6,
     "metadata": {},
     "output_type": "execute_result"
    }
   ],
   "source": [
    "ruby_book.title"
   ]
  },
  {
   "cell_type": "code",
   "execution_count": 7,
   "metadata": {
    "hidden": true
   },
   "outputs": [
    {
     "data": {
      "text/plain": [
       "['Thomas', 'Fowler', 'Hunt']"
      ]
     },
     "execution_count": 7,
     "metadata": {},
     "output_type": "execute_result"
    }
   ],
   "source": [
    "ruby_book.authors"
   ]
  },
  {
   "cell_type": "code",
   "execution_count": 76,
   "metadata": {
    "hidden": true
   },
   "outputs": [],
   "source": [
    "class Book:\n",
    "    \"\"\"Information about a book, including title, list of authors,\n",
    "    publisher, ISBN, and price.\n",
    "    \"\"\"\n",
    "    def __init__(self, title:str, authors:List[str], publisher:str,\n",
    "                isbn:str, price:float):\n",
    "        \"\"\"Create a new book entitled title, written by the people in authors,\n",
    "        published by publisher, with ISBN isbn and costing price dollars.\n",
    "        >>> python_book = Book( \\\n",
    "        'Practical Programming', \\\n",
    "        ['Campbell', 'Gries', 'Montojo'], \\\n",
    "        'Pragmatic Bookshelf', \\\n",
    "        '978-1-6805026-8-8', \\\n",
    "        25.0)\n",
    "        >>> python_book.title\n",
    "        'Practical Programming'\n",
    "        >>> python_book.authors\n",
    "        ['Campbell', 'Gries', 'Montojo']\n",
    "        >>> python_book.publisher\n",
    "        'Pragmatic Bookshelf'\n",
    "        >>> python_book.ISBN\n",
    "        '978-1-6805026-8-8'\n",
    "        >>> python_book.price\n",
    "        25.0\n",
    "        \"\"\"\n",
    "        self.title =title\n",
    "        self.authors = authors\n",
    "        self.publisher = publisher\n",
    "        self.isbn = isbn\n",
    "        self.price = price\n",
    "    \n",
    "    def num_authors(self):\n",
    "        \"\"\"Return the number of authors of this book.\n",
    "        \n",
    "        >>> python_book = Book( \\\n",
    "        'Practical Programming', \\\n",
    "        ['Campbell', 'Gries', 'Montojo'], \\\n",
    "        'Pragmatic Bookshelf', \\\n",
    "        '978-1-6805026-8-8', \\\n",
    "        25.0)\n",
    "        >>> python_book.num_authors()\n",
    "        3\n",
    "        \"\"\"\n",
    "        return len(self.authors)\n",
    "    \n",
    "    def __str__(self) ->str:\n",
    "        \"\"\" Returns human readable imformation about the book\"\"\"\n",
    "        return f' Title : {self.title}\\n Authors : {self.authors}\\n Publisher : {self.publisher}\\n ISBN : {self.isbn}\\n Price : {self.price:.2f}'\n",
    "    \n",
    "    # Changing an object's special method\n",
    "    def __eq__(self, other:Any) -> bool:\n",
    "        \"\"\"Return True iff other is a book, and this book and other have the same ISBN.\n",
    "        \n",
    "        >>> python_book = Book('Practical Programming', \\\n",
    "        ['Campbell', 'Gries', 'Montojo'], \\\n",
    "        'Pragmatic Bookshelf', \\\n",
    "        '978-1-6805026-8-8', \\\n",
    "        25.0)\n",
    "        >>> python_book_discounted = Book( \\\n",
    "        'Practical Programming', \\\n",
    "        ['Campbell', 'Gries', 'Montojo'], \\\n",
    "        'Pragmatic Bookshelf', \\\n",
    "        '978-1-6805026-8-8', \\\n",
    "        5.0)\n",
    "        >>> python_book == python_book_discounted\n",
    "        True\n",
    "        >>> python_book == ['Not', 'a', 'book']\n",
    "        False\n",
    "        \"\"\"\n",
    "    \n",
    "        return isinstance(other, Book) and self.isbn == other.isbn"
   ]
  },
  {
   "cell_type": "code",
   "execution_count": 98,
   "metadata": {
    "hidden": true
   },
   "outputs": [],
   "source": [
    "python_book_1 = Book('Practical Programming', ['Campbell', 'Gries', 'Montojo'],\n",
    "                          'Pragmatic Bookshelf', '978-1-6805026-8-8', 25.0)\n",
    "python_book_2 = Book('Practical Programming', ['Campbell', 'Gries', 'Montojo'],\n",
    "                          'Pragmatic Bookshelf', '978-1-6805026-8-8', 25.0)\n",
    "survival_book = Book(\"New Programmer's Survival Manual\", ['Carter'],\n",
    "                          'Pragmatic Bookshelf', '978-1-93435-681-4', 19.0)"
   ]
  },
  {
   "cell_type": "code",
   "execution_count": 78,
   "metadata": {
    "hidden": true
   },
   "outputs": [
    {
     "data": {
      "text/plain": [
       "True"
      ]
     },
     "execution_count": 78,
     "metadata": {},
     "output_type": "execute_result"
    }
   ],
   "source": [
    "python_book_1 == python_book_2"
   ]
  },
  {
   "cell_type": "code",
   "execution_count": 79,
   "metadata": {
    "hidden": true
   },
   "outputs": [
    {
     "data": {
      "text/plain": [
       "False"
      ]
     },
     "execution_count": 79,
     "metadata": {},
     "output_type": "execute_result"
    }
   ],
   "source": [
    "python_book_2 == survival_book"
   ]
  },
  {
   "cell_type": "code",
   "execution_count": 81,
   "metadata": {
    "hidden": true
   },
   "outputs": [
    {
     "name": "stdout",
     "output_type": "stream",
     "text": [
      "3\n"
     ]
    }
   ],
   "source": [
    "book = Book('Practical Programming',\n",
    "        ['Campbell', 'Gries', 'Montojo'],\n",
    "        'Pragmatic Bookshelf',\n",
    "        '978-1-6805026-8-8',\n",
    "        25.0\n",
    ")\n",
    "print(book.num_authors())"
   ]
  },
  {
   "cell_type": "markdown",
   "metadata": {
    "heading_collapsed": true
   },
   "source": [
    "## Inheritance"
   ]
  },
  {
   "cell_type": "code",
   "execution_count": 238,
   "metadata": {
    "hidden": true
   },
   "outputs": [],
   "source": [
    "class Members:\n",
    "    \"\"\"A member of university\"\"\"\n",
    "    def __init__(self, name:str, address:str, email:str) -> None:\n",
    "        \"\"\"Create a new member named name, with home address and email address.\n",
    "        \"\"\"\n",
    "        self.name = name\n",
    "        self.address = address\n",
    "        self.email = email\n",
    "        \n",
    "    def __str__(self)-> str:\n",
    "        \"\"\"Text representation of the object\n",
    "        \n",
    "        >>> member = Members('paul gries' , 'pgries@cu.toronto.edu', '1234')\n",
    "        >>> member.__str__()\n",
    "        f'Name:{self.name}\\\\n Address:{self.address}\\\\n Email:{self.email}\\\\n'\n",
    "        \"\"\"\n",
    "        return f'Name:{self.name}\\nAddress:{self.address}\\nEmail:{self.email}'\n",
    "        \n",
    "class Faculty(Members):\n",
    "    \"\"\" A faculty member of a university\"\"\"\n",
    "    def __init__(self, name:str, address:str, email:str, faculty_num:str) -> None:\n",
    "        \"\"\"Create a new member named name, with home address and email address.\n",
    "        \"\"\"\n",
    "        super().__init__(name, address, email)\n",
    "        self.faculty_num = faculty_num\n",
    "        self.course_teaching = []\n",
    "        \n",
    "    def __str__(self)-> str:\n",
    "        \"\"\"Return a string representation of this Faculty.\n",
    "    \n",
    "        >>> faculty = Faculty('Paul', 'Ajax', 'pgries@cs.toronto.edu', '1234')\n",
    "        >>> faculty.__str__()\n",
    "        'Paul\\\\nAjax\\\\npgries@cs.toronto.edu\\\\n1234\\\\nCourses: '\n",
    "        \"\"\"\n",
    "        member_string = super().__str__() # inherites the __str__ attributes of the parent class\n",
    "        return f'{member_string}\\nFaculty Number:{self.faculty_num}\\nCourses:{self.course_teaching}'\n",
    "        \n",
    "class Student(Members):\n",
    "    \"\"\"A student member of a univesity\"\"\"\n",
    "    def __init__(self, name:str, address:str, email:str, student_num:str) -> None:\n",
    "        \"\"\"Create a new student named name, with home address, email address,\n",
    "        student number student_num, an empty list of courses taken, and an\n",
    "        empty list of current courses.\n",
    "        \"\"\"\n",
    "        super().__init__(name, address, email)\n",
    "        self.student_num = student_num\n",
    "        self.course_taken = []\n",
    "        self.course_taking = []\n",
    "        \n",
    "    def __str__(self)-> str:\n",
    "        \"\"\"Return a string representation of this Faculty.\n",
    "    \n",
    "        >>> faculty = Student('jacob combs', 'uk', 'jcomb@cu.toronto.edu', '1243')\n",
    "        >>> faculty.__str__()\n",
    "        'jacob combs\\\\nuk\\\\jcomd@cs.toronto.edu\\\\n1243\\\\nCourses taken\\\\nCourse taking: '\n",
    "        \"\"\"\n",
    "        \n",
    "        member_string = super().__str__()\n",
    "        return f'{member_string}\\nFaculty Number:{self.student_num}\\nCourses Taken:{self.course_taken}\\nCourses Taking:{self.course_taking}'"
   ]
  },
  {
   "cell_type": "code",
   "execution_count": 239,
   "metadata": {
    "hidden": true
   },
   "outputs": [
    {
     "data": {
      "text/plain": [
       "'Paul Gries'"
      ]
     },
     "execution_count": 239,
     "metadata": {},
     "output_type": "execute_result"
    }
   ],
   "source": [
    "paul = Faculty('Paul Gries', 'Ajax', 'pgries@cs.toronto.edu', '1234')\n",
    "paul.name"
   ]
  },
  {
   "cell_type": "code",
   "execution_count": 162,
   "metadata": {
    "hidden": true
   },
   "outputs": [
    {
     "data": {
      "text/plain": [
       "'1234'"
      ]
     },
     "execution_count": 162,
     "metadata": {},
     "output_type": "execute_result"
    }
   ],
   "source": [
    "paul.faculty_num"
   ]
  },
  {
   "cell_type": "code",
   "execution_count": 163,
   "metadata": {
    "hidden": true
   },
   "outputs": [
    {
     "data": {
      "text/plain": [
       "'pgries@cs.toronto.edu'"
      ]
     },
     "execution_count": 163,
     "metadata": {},
     "output_type": "execute_result"
    }
   ],
   "source": [
    "paul.email"
   ]
  },
  {
   "cell_type": "code",
   "execution_count": 240,
   "metadata": {
    "hidden": true
   },
   "outputs": [
    {
     "name": "stdout",
     "output_type": "stream",
     "text": [
      "Name:Paul Gries\n",
      "Address:Ajax\n",
      "Email:pgries@cs.toronto.edu\n",
      "Faculty Number:1234\n",
      "Courses:[]\n"
     ]
    }
   ],
   "source": [
    "print(paul)"
   ]
  },
  {
   "cell_type": "code",
   "execution_count": 242,
   "metadata": {
    "hidden": true
   },
   "outputs": [],
   "source": [
    "jacob = Student('jacob combs', 'uk', 'jcomb@cu.toronto.edu', '1243')"
   ]
  },
  {
   "cell_type": "code",
   "execution_count": 243,
   "metadata": {
    "hidden": true
   },
   "outputs": [
    {
     "data": {
      "text/plain": [
       "'jacob combs'"
      ]
     },
     "execution_count": 243,
     "metadata": {},
     "output_type": "execute_result"
    }
   ],
   "source": [
    "jacob.name"
   ]
  },
  {
   "cell_type": "code",
   "execution_count": 244,
   "metadata": {
    "hidden": true
   },
   "outputs": [
    {
     "data": {
      "text/plain": [
       "'jcomb@cu.toronto.edu'"
      ]
     },
     "execution_count": 244,
     "metadata": {},
     "output_type": "execute_result"
    }
   ],
   "source": [
    "jacob.email"
   ]
  },
  {
   "cell_type": "code",
   "execution_count": 245,
   "metadata": {
    "hidden": true
   },
   "outputs": [
    {
     "name": "stdout",
     "output_type": "stream",
     "text": [
      "Name:jacob combs\n",
      "Address:uk\n",
      "Email:jcomb@cu.toronto.edu\n",
      "Faculty Number:1243\n",
      "Courses Taken:[]\n",
      "Courses Taking:[]\n"
     ]
    }
   ],
   "source": [
    "print(jacob)"
   ]
  },
  {
   "cell_type": "markdown",
   "metadata": {
    "heading_collapsed": true
   },
   "source": [
    "## Making an Atom class"
   ]
  },
  {
   "cell_type": "code",
   "execution_count": 347,
   "metadata": {
    "hidden": true
   },
   "outputs": [],
   "source": [
    "class Atom:\n",
    "    \"\"\"Making an Atom class\"\"\"\n",
    "    def __init__(self, num:int, sym:str, x:float, y:float, z:float)-> None:\n",
    "        \"\"\"Create an Atom with number num, string symbol sym, and float coordinates (x, y, z).\n",
    "        \"\"\"\n",
    "        self.number =num \n",
    "        self.symbol =sym\n",
    "        self.position = x, y, z\n",
    "        \n",
    "    def __str__(self)-> str:\n",
    "        \"\"\"Readable representation of an atom \n",
    "        >>> nitrogen = Atom(14, 'N', 23.9, 12.0, 23.1)\n",
    "        >>> nitrogen.__str__()\n",
    "        'Symbol:N\\nPosition:(23.9, 12.0, 23.1)'\n",
    "        \"\"\"\n",
    "        return f'Symbol:{self.symbol}\\nPosition:{self.position}'\n",
    "    \n",
    "    def __repr__(self)-> str:\n",
    "        \"\"\"Return a string representation of this Atom in this format:\n",
    "        Atom(NUMBER, \"SYMBOL\", X, Y, Z)\n",
    "        \"\"\"\n",
    "        return f'Atom ({self.number} {self.symbol} Position:{self.position[0]}{self.position[1]}, {self.position[2]})'\n",
    "    \n",
    "    def translate(self, x:float, y:float, z:float) -> None:\n",
    "        \"\"\"Moves the molecules in a given direction by adding (x, y, z) to its coordinates.\n",
    "        \n",
    "        >>> nitrogen = Atom(14, 'N', 23.9, 12.0, 23.1)\n",
    "        >>> nitrogen.translate(0, 0, 0.2)\n",
    "        nitorgen(self.number, self.symbol, self.position[0], self.position[1], self.position[2]+0.2 )\n",
    "        \"\"\"\n",
    "        self.position = (\n",
    "            self.position[0] + x,\n",
    "            self.position[1] + y,\n",
    "            self.position[2] + z,\n",
    "        )\n",
    "        \n",
    "class Molecules:\n",
    "    \"\"\"Creating a molecule class\"\"\"    \n",
    "    \n",
    "    def __init__(self, name:str)-> str:\n",
    "        \"\"\"creates a Molecule named name with no atom\"\"\"\n",
    "        self.name = name\n",
    "        self.atoms = []\n",
    "        \n",
    "    \n",
    "    def add(self, a:Atom) -> None:\n",
    "        \"\"\"Adds an atom to the list of atoms\"\"\"\n",
    "        self.atoms.append(a)\n",
    "    \n",
    "    def __str__(self) -> str:\n",
    "        \"\"\"Return a string representation of this Molecule in this format:\n",
    "        (NAME, (ATOM1, ATOM2, ...))\n",
    "        \"\"\"\n",
    "        res = ''\n",
    "        for atom in self.atoms:\n",
    "            res = res + str(atom) + ', '\n",
    "        \n",
    "        # Strip off the last comma.\n",
    "        res = res[:-2]\n",
    "        return '({0}, ({1}))'.format(self.name, res)\n",
    "    \n",
    "    def __repr__(self) -> str:\n",
    "        \"\"\"Return a string representation of this Molecule in this format:\n",
    "        Molecule(\"NAME\", (ATOM1, ATOM2, ...))\n",
    "        \"\"\"\n",
    "        res = ''\n",
    "        for atom in self.atoms:\n",
    "            res = res + repr(atom) + ', '\n",
    "        \n",
    "        # Strip off the last comma.\n",
    "        res = res[:-2]\n",
    "        return 'Molecule(\"{0}\", ({1}))'.format(self.name, res)\n",
    "    \n",
    "    def translate(self, x: float, y: float, z: float) -> None:\n",
    "        \"\"\"Move this Molecule, including all Atoms, by (x, y, z).\n",
    "        \"\"\"\n",
    "        for atom in self.atoms:\n",
    "            atom.translate(x, y, z)"
   ]
  },
  {
   "cell_type": "code",
   "execution_count": 345,
   "metadata": {
    "hidden": true
   },
   "outputs": [],
   "source": [
    "def read_molecule(reader:TextIO)-> Molecules:\n",
    "    \"\"\"Read a single molecule from r and return it,\n",
    "       or return None to signal end of file.\n",
    "    \"\"\"\n",
    "    line = reader.readline()\n",
    "    if not line:\n",
    "        return None\n",
    "    key, name = line.split()\n",
    "    molecule = Molecules(name)\n",
    "    \n",
    "    for line in reader:     \n",
    "        if line.startswith('END'):\n",
    "            pass  \n",
    "        else:\n",
    "            key, num, sym, x, y, z = line.split()\n",
    "            molecule.add(Atom(int(num), str(sym), float(x), float(y), float(z)))\n",
    "    return molecule    \n",
    "    \n",
    "if __name__ == '__main__':\n",
    "    with open('files/molecules.txt', 'r')as file:\n",
    "        name = read_molecule(file)"
   ]
  },
  {
   "cell_type": "markdown",
   "metadata": {},
   "source": [
    "## Exercises"
   ]
  },
  {
   "cell_type": "code",
   "execution_count": 371,
   "metadata": {},
   "outputs": [],
   "source": [
    "class Country:\n",
    "    \"\"\"Creating a country\"\"\"\n",
    "    \n",
    "    def __init__(self, name:str, population:float, area:float)-> None:\n",
    "        \"\"\"making a country with a name, population size and land ares\"\"\"\n",
    "        self.name = name\n",
    "        self.population = population\n",
    "        self.area = area\n",
    "        \n",
    "    def is_larger(self, other)-> bool:\n",
    "        \"\"\"Returns true iff a country's area is larger than a second country's\n",
    "        \n",
    "        >>> canada = Country('canada', 34482779, 9984670)\n",
    "        >>> usa = Country('usa', 34482779, 10984670)\n",
    "        >>> canada.is_larger(usa)\n",
    "        False\n",
    "        >>> canada = Country('canada', 34482779, 9984670)\n",
    "        >>> mexico = Country('mexico', 34482779, 984670)\n",
    "        canada.is_larger(mexico)\n",
    "        True\n",
    "        \"\"\"\n",
    "        if self.area > other.area:\n",
    "            return True\n",
    "        else :\n",
    "            return False\n",
    "        \n",
    "    def population_density(self)->float:\n",
    "        \"\"\"Returns the population density of a country, i.e population devided by it's area\n",
    "        \n",
    "        >>> canada = Country('canada', 34482779, 9984670)\n",
    "        >>> canada.population_density()\n",
    "        3.4535722262227995\n",
    "        \"\"\"\n",
    "        return float(f'{self.population/self.area:.6f}')\n",
    "    \n",
    "    def __str__(self):\n",
    "        pass\n",
    "    \n",
    "    def __repr__(self):\n",
    "        pass\n",
    "        \n",
    "        \n",
    "canada = Country('canada', 34482779, 9984670)\n",
    "mexico = Country('mexico', 34482779, 984670)\n",
    "usa = Country('usa', 34482779, 10984670)"
   ]
  },
  {
   "cell_type": "code",
   "execution_count": 372,
   "metadata": {},
   "outputs": [
    {
     "data": {
      "text/plain": [
       "('canada', 34482779, 9984670)"
      ]
     },
     "execution_count": 372,
     "metadata": {},
     "output_type": "execute_result"
    }
   ],
   "source": [
    "canada.name, canada.population, canada.area"
   ]
  },
  {
   "cell_type": "code",
   "execution_count": 373,
   "metadata": {},
   "outputs": [
    {
     "data": {
      "text/plain": [
       "True"
      ]
     },
     "execution_count": 373,
     "metadata": {},
     "output_type": "execute_result"
    }
   ],
   "source": [
    "usa.is_larger(mexico)"
   ]
  },
  {
   "cell_type": "code",
   "execution_count": 374,
   "metadata": {},
   "outputs": [
    {
     "data": {
      "text/plain": [
       "3.453572"
      ]
     },
     "execution_count": 374,
     "metadata": {},
     "output_type": "execute_result"
    }
   ],
   "source": [
    "canada.population_density()"
   ]
  },
  {
   "cell_type": "code",
   "execution_count": null,
   "metadata": {},
   "outputs": [],
   "source": []
  },
  {
   "cell_type": "code",
   "execution_count": null,
   "metadata": {},
   "outputs": [],
   "source": []
  },
  {
   "cell_type": "code",
   "execution_count": null,
   "metadata": {},
   "outputs": [],
   "source": []
  },
  {
   "cell_type": "code",
   "execution_count": null,
   "metadata": {},
   "outputs": [],
   "source": []
  },
  {
   "cell_type": "code",
   "execution_count": null,
   "metadata": {},
   "outputs": [],
   "source": []
  },
  {
   "cell_type": "code",
   "execution_count": null,
   "metadata": {},
   "outputs": [],
   "source": []
  },
  {
   "cell_type": "code",
   "execution_count": null,
   "metadata": {},
   "outputs": [],
   "source": []
  },
  {
   "cell_type": "code",
   "execution_count": null,
   "metadata": {},
   "outputs": [],
   "source": []
  },
  {
   "cell_type": "code",
   "execution_count": null,
   "metadata": {},
   "outputs": [],
   "source": []
  },
  {
   "cell_type": "code",
   "execution_count": null,
   "metadata": {},
   "outputs": [],
   "source": []
  },
  {
   "cell_type": "code",
   "execution_count": null,
   "metadata": {},
   "outputs": [],
   "source": []
  },
  {
   "cell_type": "code",
   "execution_count": null,
   "metadata": {},
   "outputs": [],
   "source": []
  },
  {
   "cell_type": "code",
   "execution_count": null,
   "metadata": {},
   "outputs": [],
   "source": []
  },
  {
   "cell_type": "code",
   "execution_count": null,
   "metadata": {},
   "outputs": [],
   "source": []
  },
  {
   "cell_type": "code",
   "execution_count": null,
   "metadata": {},
   "outputs": [],
   "source": []
  }
 ],
 "metadata": {
  "kernelspec": {
   "display_name": "Python 3.7.4 64-bit ('base': conda)",
   "language": "python",
   "name": "python37464bitbaseconda02803511e82243628460d84236bfc9e6"
  },
  "language_info": {
   "codemirror_mode": {
    "name": "ipython",
    "version": 3
   },
   "file_extension": ".py",
   "mimetype": "text/x-python",
   "name": "python",
   "nbconvert_exporter": "python",
   "pygments_lexer": "ipython3",
   "version": "3.7.6"
  },
  "toc": {
   "base_numbering": 1,
   "nav_menu": {},
   "number_sections": true,
   "sideBar": true,
   "skip_h1_title": false,
   "title_cell": "Table of Contents",
   "title_sidebar": "Contents",
   "toc_cell": false,
   "toc_position": {},
   "toc_section_display": true,
   "toc_window_display": false
  }
 },
 "nbformat": 4,
 "nbformat_minor": 4
}
